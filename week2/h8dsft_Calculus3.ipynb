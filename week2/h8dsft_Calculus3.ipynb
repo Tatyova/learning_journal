{
  "nbformat": 4,
  "nbformat_minor": 0,
  "metadata": {
    "colab": {
      "name": "h8dsft_Calculus3.ipynb",
      "provenance": []
    },
    "kernelspec": {
      "name": "python3",
      "display_name": "Python 3"
    },
    "language_info": {
      "name": "python"
    }
  },
  "cells": [
    {
      "cell_type": "markdown",
      "source": [
        "Carilah gradient dari fungsi berikut:\n",
        "3𝑥+4𝑦=5\n"
      ],
      "metadata": {
        "id": "Zk88orGHcwVH"
      }
    },
    {
      "cell_type": "code",
      "source": [
        "import sympy as sy\n",
        "import numpy as np\n",
        "#3x+4y=5 -> 3x+4y-5=0\n",
        "x,y = sy.symbols('x y')\n",
        "f = 3*x + 4*y -5 \n",
        "f"
      ],
      "metadata": {
        "colab": {
          "base_uri": "https://localhost:8080/",
          "height": 38
        },
        "id": "Q8ymDLh5c4AO",
        "outputId": "d584bb07-1757-426f-ca50-ab433f66a6b2"
      },
      "execution_count": 1,
      "outputs": [
        {
          "output_type": "execute_result",
          "data": {
            "text/plain": [
              "3*x + 4*y - 5"
            ],
            "text/latex": "$\\displaystyle 3 x + 4 y - 5$"
          },
          "metadata": {},
          "execution_count": 1
        }
      ]
    },
    {
      "cell_type": "code",
      "source": [
        "from sympy.tensor.array import derive_by_array\n",
        "grad = derive_by_array(f, (x,y))\n",
        "grad"
      ],
      "metadata": {
        "colab": {
          "base_uri": "https://localhost:8080/",
          "height": 38
        },
        "id": "pE4bRhcOdzYX",
        "outputId": "a2593c81-351d-4a0f-e07a-b022d6d716f8"
      },
      "execution_count": 3,
      "outputs": [
        {
          "output_type": "execute_result",
          "data": {
            "text/plain": [
              "[3, 4]"
            ],
            "text/latex": "$\\displaystyle \\left[\\begin{matrix}3 & 4\\end{matrix}\\right]$"
          },
          "metadata": {},
          "execution_count": 3
        }
      ]
    }
  ]
}