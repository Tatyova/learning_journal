{
  "nbformat": 4,
  "nbformat_minor": 0,
  "metadata": {
    "colab": {
      "name": "h8dsft_Linear_Algebra.ipynb",
      "provenance": []
    },
    "kernelspec": {
      "name": "python3",
      "display_name": "Python 3"
    },
    "language_info": {
      "name": "python"
    }
  },
  "cells": [
    {
      "cell_type": "code",
      "execution_count": 2,
      "metadata": {
        "id": "Mp_tLVL9-XJ2"
      },
      "outputs": [],
      "source": [
        "import numpy as np\n",
        "import matplotlib.pyplot as plt"
      ]
    },
    {
      "cell_type": "code",
      "source": [
        "# Jawaban no.1 membuat vector menggunakan np.array\n",
        "vector = np.array ([[17],\n",
        "                   [22],\n",
        "                   [19]])\n",
        "vector"
      ],
      "metadata": {
        "colab": {
          "base_uri": "https://localhost:8080/"
        },
        "id": "Wk7kF0Eh_Sy8",
        "outputId": "8b3ab973-e85f-4336-f95d-09a47675dbdd"
      },
      "execution_count": 5,
      "outputs": [
        {
          "output_type": "execute_result",
          "data": {
            "text/plain": [
              "array([[17],\n",
              "       [22],\n",
              "       [19]])"
            ]
          },
          "metadata": {},
          "execution_count": 5
        }
      ]
    },
    {
      "cell_type": "code",
      "source": [
        "#Membuat list vector 3 dimensi\n",
        "a = np.array([17, 22, 19])\n",
        "b = np.array([10,20,11])\n",
        "c = np.array([5,12,9])\n",
        "\n",
        "# a + b\n",
        "a + b"
      ],
      "metadata": {
        "colab": {
          "base_uri": "https://localhost:8080/"
        },
        "id": "v-xNNSyVAcuT",
        "outputId": "928ca47f-9485-480b-fb33-f954800d5b00"
      },
      "execution_count": 8,
      "outputs": [
        {
          "output_type": "execute_result",
          "data": {
            "text/plain": [
              "array([27, 42, 30])"
            ]
          },
          "metadata": {},
          "execution_count": 8
        }
      ]
    },
    {
      "cell_type": "code",
      "source": [
        "#b - c\n",
        "b - c"
      ],
      "metadata": {
        "colab": {
          "base_uri": "https://localhost:8080/"
        },
        "id": "eLD7OdUSCdJE",
        "outputId": "1a0185d8-9379-42d0-b412-f2050a512f8f"
      },
      "execution_count": 9,
      "outputs": [
        {
          "output_type": "execute_result",
          "data": {
            "text/plain": [
              "array([5, 8, 2])"
            ]
          },
          "metadata": {},
          "execution_count": 9
        }
      ]
    },
    {
      "cell_type": "code",
      "source": [
        "# A dot C\n",
        "a.dot(c)"
      ],
      "metadata": {
        "colab": {
          "base_uri": "https://localhost:8080/"
        },
        "id": "TwNUpERxCZEX",
        "outputId": "e4896ba8-cf2c-45cc-8c02-de398224420b"
      },
      "execution_count": 10,
      "outputs": [
        {
          "output_type": "execute_result",
          "data": {
            "text/plain": [
              "520"
            ]
          },
          "metadata": {},
          "execution_count": 10
        }
      ]
    },
    {
      "cell_type": "code",
      "source": [
        "# Vector A x Vector B\n",
        "a * b"
      ],
      "metadata": {
        "colab": {
          "base_uri": "https://localhost:8080/"
        },
        "id": "0azSCx4-CjtL",
        "outputId": "1222015b-347b-4758-8dcf-356b1876060b"
      },
      "execution_count": 11,
      "outputs": [
        {
          "output_type": "execute_result",
          "data": {
            "text/plain": [
              "array([170, 440, 209])"
            ]
          },
          "metadata": {},
          "execution_count": 11
        }
      ]
    },
    {
      "cell_type": "code",
      "source": [
        "#normA\n",
        "np.linalg.norm(a)"
      ],
      "metadata": {
        "colab": {
          "base_uri": "https://localhost:8080/"
        },
        "id": "y2jo3ycTCnRy",
        "outputId": "f64117de-8da1-4bb5-83a8-467edd6da60e"
      },
      "execution_count": 12,
      "outputs": [
        {
          "output_type": "execute_result",
          "data": {
            "text/plain": [
              "33.67491648096547"
            ]
          },
          "metadata": {},
          "execution_count": 12
        }
      ]
    },
    {
      "cell_type": "code",
      "source": [
        "#Mencari sudut antara vektor A dan B; pertama saya mencari cos_theta terlebih dahulu\n",
        "cos_theta = a @ b / (np.linalg.norm(a) * np.linalg.norm(b))\n",
        "cos_theta\n"
      ],
      "metadata": {
        "colab": {
          "base_uri": "https://localhost:8080/"
        },
        "id": "el-MOXGaCuQO",
        "outputId": "5f0d843d-6247-42fc-88d8-4a0055f2c46a"
      },
      "execution_count": 19,
      "outputs": [
        {
          "output_type": "execute_result",
          "data": {
            "text/plain": [
              "0.9759590023331435"
            ]
          },
          "metadata": {},
          "execution_count": 19
        }
      ]
    },
    {
      "cell_type": "code",
      "source": [
        "#setelah mendapatkan cos_theta, saya mencari radian dengan menggunakan rumus arccos\n",
        "rad = np.arccos(cos_theta)\n",
        "rad"
      ],
      "metadata": {
        "colab": {
          "base_uri": "https://localhost:8080/"
        },
        "id": "bgW1kO7DEFq-",
        "outputId": "5e730777-5d0f-4920-9810-87d99f6d2832"
      },
      "execution_count": 20,
      "outputs": [
        {
          "output_type": "execute_result",
          "data": {
            "text/plain": [
              "0.21971776576153962"
            ]
          },
          "metadata": {},
          "execution_count": 20
        }
      ]
    },
    {
      "cell_type": "code",
      "source": [
        "#mencari berapa besar sudut dengan menggunakan np.degree\n",
        "degree = np.degrees(rad)\n",
        "degree"
      ],
      "metadata": {
        "colab": {
          "base_uri": "https://localhost:8080/"
        },
        "id": "OkBR2SanEI-K",
        "outputId": "77eaa652-edf8-496c-d98c-b2faf39fdb5f"
      },
      "execution_count": 21,
      "outputs": [
        {
          "output_type": "execute_result",
          "data": {
            "text/plain": [
              "12.588900662180242"
            ]
          },
          "metadata": {},
          "execution_count": 21
        }
      ]
    },
    {
      "cell_type": "code",
      "source": [
        "#Membuat plot dari vector u dan v ke dalam bentuk 2D\n",
        "u = np.array([2,5])\n",
        "v = np.array([3,1])\n"
      ],
      "metadata": {
        "id": "ToiayEX1EBTJ"
      },
      "execution_count": 22,
      "outputs": []
    },
    {
      "cell_type": "code",
      "source": [
        "def plot_vector2d(vector2d, origin=[0, 0], **options):\n",
        "    return plt.arrow(origin[0], origin[1], vector2d[0], vector2d[1],\n",
        "              head_width=0.2, head_length=0.3, length_includes_head=True,\n",
        "              **options)\n",
        "plot_vector2d(u, color='r')\n",
        "plot_vector2d(v, color='g')\n",
        "plt.axis([0,5,0,5])\n",
        "plt.axvline(0)\n",
        "plt.axhline(0)\n",
        "plt.grid()\n",
        "plt.show()"
      ],
      "metadata": {
        "colab": {
          "base_uri": "https://localhost:8080/",
          "height": 269
        },
        "id": "BxhOu_goExL1",
        "outputId": "c4392465-5960-4963-b986-88999f95f06e"
      },
      "execution_count": 24,
      "outputs": [
        {
          "output_type": "display_data",
          "data": {
            "text/plain": [
              "<Figure size 432x288 with 1 Axes>"
            ],
            "image/png": "[encoded data removed]"
          },
          "metadata": {
            "needs_background": "light"
          }
        }
      ]
    }
  ]
}