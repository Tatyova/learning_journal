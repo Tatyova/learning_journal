{
  "nbformat": 4,
  "nbformat_minor": 0,
  "metadata": {
    "colab": {
      "name": "h8dsft_Calculus2.ipynb",
      "provenance": []
    },
    "kernelspec": {
      "name": "python3",
      "display_name": "Python 3"
    },
    "language_info": {
      "name": "python"
    }
  },
  "cells": [
    {
      "cell_type": "markdown",
      "source": [
        "Carilah integral dari fungsi berikut\n",
        "\n",
        "3𝑥^2−6𝑥+3𝑑𝑥\n",
        "8𝑥^3−𝑥^2+5𝑥−1𝑑𝑥\n",
        "\n",
        "\n"
      ],
      "metadata": {
        "id": "7Z7ujA7NLShc"
      }
    },
    {
      "cell_type": "code",
      "source": [
        "import sympy as sy\n",
        "x = sy.Symbol('x')\n",
        "d = sy.Symbol('d')\n",
        "f1 = 3*x**2-6*x+3\n",
        "f2 = 8*x**3-x**2+5*x-1\n",
        "f2\n"
      ],
      "metadata": {
        "id": "Y3aHUB8iOgYe",
        "colab": {
          "base_uri": "https://localhost:8080/",
          "height": 38
        },
        "outputId": "c71e9d2b-25db-4223-ac6a-2ff961d76a2a"
      },
      "execution_count": 1,
      "outputs": [
        {
          "output_type": "execute_result",
          "data": {
            "text/plain": [
              "8*x**3 - x**2 + 5*x - 1"
            ],
            "text/latex": "$\\displaystyle 8 x^{3} - x^{2} + 5 x - 1$"
          },
          "metadata": {},
          "execution_count": 1
        }
      ]
    },
    {
      "cell_type": "code",
      "source": [
        ""
      ],
      "metadata": {
        "id": "2OJtWPQ1mlJr"
      },
      "execution_count": null,
      "outputs": []
    },
    {
      "cell_type": "code",
      "source": [
        "sy.integrate(f1)\n"
      ],
      "metadata": {
        "colab": {
          "base_uri": "https://localhost:8080/",
          "height": 38
        },
        "id": "QqOWorngmC1g",
        "outputId": "36db99a2-69c2-43ea-9c82-31a8a90c785c"
      },
      "execution_count": 2,
      "outputs": [
        {
          "output_type": "execute_result",
          "data": {
            "text/plain": [
              "x**3 - 3*x**2 + 3*x"
            ],
            "text/latex": "$\\displaystyle x^{3} - 3 x^{2} + 3 x$"
          },
          "metadata": {},
          "execution_count": 2
        }
      ]
    },
    {
      "cell_type": "code",
      "source": [
        "sy.integrate(f2)"
      ],
      "metadata": {
        "colab": {
          "base_uri": "https://localhost:8080/",
          "height": 54
        },
        "id": "dirmxYgOt_zP",
        "outputId": "f38d430b-97bf-449f-d7a4-07b3cc6bc426"
      },
      "execution_count": 3,
      "outputs": [
        {
          "output_type": "execute_result",
          "data": {
            "text/plain": [
              "2*x**4 - x**3/3 + 5*x**2/2 - x"
            ],
            "text/latex": "$\\displaystyle 2 x^{4} - \\frac{x^{3}}{3} + \\frac{5 x^{2}}{2} - x$"
          },
          "metadata": {},
          "execution_count": 3
        }
      ]
    }
  ]
}