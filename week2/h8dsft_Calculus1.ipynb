{
  "cells": [
    {
      "cell_type": "code",
      "execution_count": null,
      "metadata": {
        "id": "uxFV1O-i2TB4"
      },
      "outputs": [],
      "source": [
        "import sympy as sy\n",
        "import numpy as np"
      ]
    },
    {
      "cell_type": "markdown",
      "metadata": {
        "id": "F-S218kkMLgt"
      },
      "source": [
        "Carilah Turunan dari fungsi 𝑦=𝑥^2+2𝑥+1\n",
        "                            𝑦=4𝑥^3−3𝑥^2+2𝑥−1\n",
        "\n",
        "dan buatkan optimalisasi dari masing masing fungsi\n"
      ]
    },
    {
      "cell_type": "code",
      "execution_count": null,
      "metadata": {
        "colab": {
          "base_uri": "https://localhost:8080/",
          "height": 38
        },
        "id": "M4wECk9lMZrJ",
        "outputId": "f8fd2442-4397-483b-829b-3fcad310b6a7"
      },
      "outputs": [
        {
          "data": {
            "text/latex": "$\\displaystyle x^{2} + 2 x + 1$",
            "text/plain": [
              "x**2 + 2*x + 1"
            ]
          },
          "execution_count": 19,
          "metadata": {},
          "output_type": "execute_result"
        }
      ],
      "source": [
        "#Turunan Simbolik\n",
        "x,y,z = sy.symbols('x y z')\n",
        "f1 = x**2 + 2*x + 1\n",
        "f2 = 4*x**3 - 3*x**2 + 2*x - 1\n"
      ]
    },
    {
      "cell_type": "code",
      "execution_count": null,
      "metadata": {
        "colab": {
          "background_save": true
        },
        "id": "0Y74ZbWyQG7_",
        "outputId": "f70a18e7-8d1e-47aa-bc15-ec250634551d"
      },
      "outputs": [
        {
          "data": {
            "text/latex": "$\\displaystyle 2 x + 2$",
            "text/plain": [
              "2*x + 2"
            ]
          },
          "execution_count": null,
          "metadata": {},
          "output_type": "execute_result"
        }
      ],
      "source": [
        "#First Order "
      ]
    },
    {
      "cell_type": "code",
      "execution_count": null,
      "metadata": {
        "id": "L_JtdHtHPs4p"
      },
      "outputs": [],
      "source": [
        "#Turunan Numerik"
      ]
    }
  ],
  "metadata": {
    "colab": {
      "name": "h8dsft_Calculus1.ipynb",
      "provenance": []
    },
    "kernelspec": {
      "display_name": "Python 3",
      "name": "python3"
    },
    "language_info": {
      "name": "python"
    }
  },
  "nbformat": 4,
  "nbformat_minor": 0
}