{
  "nbformat": 4,
  "nbformat_minor": 0,
  "metadata": {
    "colab": {
      "name": "h8dsft_Linear_Algebra3.ipynb",
      "provenance": []
    },
    "kernelspec": {
      "name": "python3",
      "display_name": "Python 3"
    },
    "language_info": {
      "name": "python"
    }
  },
  "cells": [
    {
      "cell_type": "code",
      "execution_count": 1,
      "metadata": {
        "id": "XZ0_kmbG9PgJ"
      },
      "outputs": [],
      "source": [
        "import numpy as np\n",
        "import matplotlib.pyplot as plt"
      ]
    },
    {
      "cell_type": "code",
      "source": [
        "a = np.array([[1], \n",
        "             [3]])\n",
        "b = np.array([[1, -1],\n",
        "              [6, 4]])\n",
        "#apakah a adalah eigenfactor dari b? Jika iya, berapakah eigenvaluenya?"
      ],
      "metadata": {
        "colab": {
          "base_uri": "https://localhost:8080/"
        },
        "id": "TcoLGahn9pbY",
        "outputId": "9db9d6bf-a7ee-43a3-d735-58c16bf912f1"
      },
      "execution_count": 11,
      "outputs": [
        {
          "output_type": "execute_result",
          "data": {
            "text/plain": [
              "array([[ 1, -1],\n",
              "       [ 6,  4]])"
            ]
          },
          "metadata": {},
          "execution_count": 11
        }
      ]
    },
    {
      "cell_type": "code",
      "source": [
        "eig_val, eig_vec = np.linalg.eig(b)\n",
        "eig_vec"
      ],
      "metadata": {
        "colab": {
          "base_uri": "https://localhost:8080/"
        },
        "id": "e_Hvrloy-aQ-",
        "outputId": "fa1c0426-57ad-421b-bf0c-44545b58f741"
      },
      "execution_count": 8,
      "outputs": [
        {
          "output_type": "execute_result",
          "data": {
            "text/plain": [
              "array([[-0.23145502+0.29880715j, -0.23145502-0.29880715j],\n",
              "       [ 0.9258201 +0.j        ,  0.9258201 -0.j        ]])"
            ]
          },
          "metadata": {},
          "execution_count": 8
        }
      ]
    },
    {
      "cell_type": "code",
      "source": [
        "eig_val"
      ],
      "metadata": {
        "colab": {
          "base_uri": "https://localhost:8080/"
        },
        "id": "Oo09r8B8_Bbn",
        "outputId": "93852a0b-4ccc-40b5-d7ac-a6e42a927c07"
      },
      "execution_count": 9,
      "outputs": [
        {
          "output_type": "execute_result",
          "data": {
            "text/plain": [
              "array([2.5+1.93649167j, 2.5-1.93649167j])"
            ]
          },
          "metadata": {},
          "execution_count": 9
        }
      ]
    }
  ]
}