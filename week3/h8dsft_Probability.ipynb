{
  "nbformat": 4,
  "nbformat_minor": 0,
  "metadata": {
    "colab": {
      "name": "h8dsft_Probability.ipynb",
      "provenance": []
    },
    "kernelspec": {
      "name": "python3",
      "display_name": "Python 3"
    },
    "language_info": {
      "name": "python"
    }
  },
  "cells": [
    {
      "cell_type": "code",
      "execution_count": 14,
      "metadata": {
        "colab": {
          "base_uri": "https://localhost:8080/",
          "height": 211
        },
        "id": "BchkVcQ8wOMK",
        "outputId": "3869dc21-bfb9-4f94-e657-5dff1f6beeea"
      },
      "outputs": [
        {
          "output_type": "stream",
          "name": "stdout",
          "text": [
            "[25012, 24988]\n"
          ]
        },
        {
          "output_type": "display_data",
          "data": {
            "text/plain": [
              "<Figure size 288x216 with 1 Axes>"
            ],
            "image/png": "[encoded data removed]"
          },
          "metadata": {}
        }
      ],
      "source": [
        "%matplotlib inline\n",
        "import random\n",
        "heads_tails = [0,0]\n",
        "trials = 50000\n",
        "trial = 0\n",
        "while trial < trials:\n",
        "  trial = trial + 1\n",
        "  toss = random.randint(0,1)\n",
        "  heads_tails[toss] = heads_tails[toss] + 1\n",
        "print(heads_tails)\n",
        "\n",
        "from matplotlib import pyplot as plt\n",
        "plt.figure(figsize=(4,3))\n",
        "plt.pie(heads_tails, labels=['heads', 'tails'])\n",
        "plt.legend()\n",
        "plt.show()"
      ]
    }
  ]
}