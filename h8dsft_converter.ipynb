{
  "nbformat": 4,
  "nbformat_minor": 0,
  "metadata": {
    "colab": {
      "name": "h8dsft_converter.ipynb",
      "provenance": [],
      "collapsed_sections": []
    },
    "kernelspec": {
      "name": "python3",
      "display_name": "Python 3"
    },
    "language_info": {
      "name": "python"
    }
  },
  "cells": [
    {
      "cell_type": "code",
      "execution_count": 99,
      "metadata": {
        "colab": {
          "base_uri": "https://localhost:8080/"
        },
        "id": "WvtYuevMKYlp",
        "outputId": "147c301f-5ee0-424f-af69-b41406ba3774"
      },
      "outputs": [
        {
          "output_type": "stream",
          "name": "stdout",
          "text": [
            "60.0°C\n",
            "333.15 K\n"
          ]
        }
      ],
      "source": [
        "#Membuat function untuk mengubah dari Kelvin ke Celcius dan Celcius ke Kelvin, membuat 2 function dengan masing - masing satu argument\n",
        "def kelvintocelcius(k):\n",
        "    c = k - 273.15\n",
        "    print ( f\"{c}\" + \"°C\")\n",
        "\n",
        "def celciustokelvin(c):\n",
        "    k = c + 273.15\n",
        "    print (f\"{k}\" + \" K\")\n",
        "\n",
        "#Mencoba running function yang sebelumnya dibuat\n",
        "kelvintocelcius(333.15)\n",
        "celciustokelvin(60)"
      ]
    },
    {
      "cell_type": "code",
      "source": [
        "#Membuat function dengan 2 argument dan memanfaatkan \"if, elif dan else\"\n",
        "def suhutofahrenheit(skala, suhu):\n",
        "    if skala == \"c\":\n",
        "      f = suhu * 1.8 + 32\n",
        "      print ((f\"{f}\" + \" °F\"))\n",
        "    elif skala == \"k\":\n",
        "      f = suhu * 1.8 - 459.67\n",
        "      print ((f\"{f}\" + \" °F\"))\n",
        "    else:\n",
        "      print (\"error hanya bisa konversi dari skala celcius (c) dan kelvin (k)\")\n",
        "      \n",
        "#Mencoba untuk running function yang telah dibuat dengan menginput argument yang berbeda berbeda\n",
        "suhutofahrenheit(\"c\", 40)\n",
        "suhutofahrenheit(\"k\", 40)\n",
        "suhutofahrenheit(1, 40)\n"
      ],
      "metadata": {
        "colab": {
          "base_uri": "https://localhost:8080/"
        },
        "id": "xnjUvHf7vw-T",
        "outputId": "b6286cf6-fc78-4f6c-c0d8-248c2aab2eec"
      },
      "execution_count": null,
      "outputs": [
        {
          "output_type": "stream",
          "name": "stdout",
          "text": [
            "104.0 °F\n",
            "-387.67 °F\n",
            "error hanya bisa konversi dari skala celcius (c) dan kelvin (k)\n"
          ]
        }
      ]
    },
    {
      "cell_type": "code",
      "source": [
        "#Membuat function untuk mengkonversikan dari Fahrenheit menjadi Celcius dan Kelvin dilengkapi dengan keterangan antara Celcius dan Kelbin\n",
        "def fahrenheittokelvinandcelcius(f):\n",
        "    c = ( f - 32) / 1.8\n",
        "    k = ( f + 459.67) / 1.8\n",
        "    print ((\"dari \" + f\"{f}\" + \"°F \" + \" menjadi \" + f\"{c}\" + \"°C \" + \"dan \" + f\"{k}\" + \"K\"))\n",
        "#Mencoba menjalankan function yang dibuat\n",
        "fahrenheittokelvinandcelcius(112)"
      ],
      "metadata": {
        "colab": {
          "base_uri": "https://localhost:8080/"
        },
        "id": "zCvtKX4RWOzq",
        "outputId": "a1a224f7-e3b0-4115-f55d-b293b77bec61"
      },
      "execution_count": null,
      "outputs": [
        {
          "output_type": "stream",
          "name": "stdout",
          "text": [
            "dari 112°F  menjadi 44.44444444444444°C dan 317.5944444444445K\n"
          ]
        }
      ]
    }
  ]
}