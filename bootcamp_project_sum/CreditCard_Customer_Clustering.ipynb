{
  "nbformat": 4,
  "nbformat_minor": 0,
  "metadata": {
    "colab": {
      "name": "h8dsft_P1M1_timothy.ipynb",
      "provenance": [],
      "toc_visible": true
    },
    "kernelspec": {
      "name": "python3",
      "display_name": "Python 3"
    },
    "language_info": {
      "name": "python"
    }
  },
  "cells": [
    {
      "cell_type": "markdown",
      "source": [
        "Query Google Cloud Platform:\n",
        "SELECT limit_balance, sex, education_level, marital_status, age, pay_0, pay_2, pay_3, pay_4, pay_5, pay_6, bill_amt_1, bill_amt_2, bill_amt_3, bill_amt_4, bill_amt_5, bill_amt_6, pay_amt_1, pay_amt_2, pay_amt_3, pay_amt_4, pay_amt_5, pay_amt_6, default_payment_next_month \n",
        "FROM `bigquery-public-data.ml_datasets.credit_card_default` \n",
        "LIMIT 21967;"
      ],
      "metadata": {
        "id": "83h01wXp4kbP"
      }
    },
    {
      "cell_type": "markdown",
      "source": [
        "# i. Perkenalan\n",
        "Nama: Timothy\n",
        "Batch: FTDS-011\n",
        "Dataset: credit_card_default\n",
        "Objective: Buatlah model Classification untuk memprediksi default_payment_next_month menggunakan dataset yang sudah kalian simpan\n"
      ],
      "metadata": {
        "id": "C2FtdOn44sob"
      }
    },
    {
      "cell_type": "markdown",
      "source": [
        "## Conceptual Problems (akan dijawab di bagian akhir)\n",
        "\n",
        "1.   Apakah fungsi parameter criterion pada Decision Tree? Jelaskan salah satu criterion yang kalian pahami!\n",
        "2.   Apakah fungsi dari pruning pada Tree model?\n",
        "3.   Bagaimana cara memilih K yang optimal pada KNN?\n",
        "4.   Jelaskan apa yang kalian ketahui tentang Cross Validation!\n",
        "5.   Jelaskan apa yang kalian ketahui tentang Accuracy, Precision, Recall, F1 Score!\n",
        "\n"
      ],
      "metadata": {
        "id": "QaK_0ygy5tbV"
      }
    },
    {
      "cell_type": "markdown",
      "source": [
        "# ii. Import Libraries"
      ],
      "metadata": {
        "id": "KsHUhAYc41A1"
      }
    },
    {
      "cell_type": "code",
      "source": [
        "  import numpy as np\n",
        "  import pandas as pd\n",
        "  import matplotlib.pyplot as plt\n",
        "  import seaborn as sns\n",
        "  from sklearn.ensemble  import RandomForestClassifier\n",
        "  from sklearn.model_selection import train_test_split\n",
        "  from sklearn.preprocessing import StandardScaler\n",
        "  from sklearn.metrics import accuracy_score, confusion_matrix, classification_report\n",
        "  from sklearn.linear_model import LogisticRegression\n",
        "  from sklearn.svm import SVC\n",
        "  from sklearn.tree import DecisionTreeClassifier\n",
        "  from sklearn.model_selection import GridSearchCV\n",
        "  from sklearn.model_selection import cross_val_score\n",
        "  from sklearn.neighbors import KNeighborsClassifier\n",
        "  from sklearn.naive_bayes import GaussianNB\n",
        "  from sklearn.ensemble import BaggingClassifier"
      ],
      "metadata": {
        "id": "HaKogxGu6BPc"
      },
      "execution_count": null,
      "outputs": []
    },
    {
      "cell_type": "markdown",
      "source": [
        "# iii. Data Loading\n",
        "Data diambil dari Google Cloud Plateform Big Query yang sebelumnya sudah saya jadikan .csv dengan query pada bagian paling atas notebook dan telah disimpan dalam google drive saya"
      ],
      "metadata": {
        "id": "IIrKUzck43qe"
      }
    },
    {
      "cell_type": "code",
      "source": [
        "from google.colab import drive\n",
        "drive.mount(\"/content/gdrive\")"
      ],
      "metadata": {
        "id": "BmVs4Tvy6y6V"
      },
      "execution_count": null,
      "outputs": []
    },
    {
      "cell_type": "code",
      "source": [
        "df = pd.read_csv('/content/gdrive/MyDrive/Dataset/bq-results-20220531-160622-1654013231983.csv')"
      ],
      "metadata": {
        "id": "IdSdPCt57Izk"
      },
      "execution_count": null,
      "outputs": []
    },
    {
      "cell_type": "markdown",
      "source": [
        "# iv. Exploratory Data Analysis (EDA)"
      ],
      "metadata": {
        "id": "pKtlERFa471T"
      }
    },
    {
      "cell_type": "code",
      "source": [
        "df.shape"
      ],
      "metadata": {
        "id": "tLdrr1DW9Q7A"
      },
      "execution_count": null,
      "outputs": []
    },
    {
      "cell_type": "code",
      "source": [
        "df.head()"
      ],
      "metadata": {
        "id": "Bn0gQBE07a4b"
      },
      "execution_count": null,
      "outputs": []
    },
    {
      "cell_type": "code",
      "source": [
        "df.tail()"
      ],
      "metadata": {
        "id": "Id2cAdtS9Meq"
      },
      "execution_count": null,
      "outputs": []
    },
    {
      "cell_type": "code",
      "source": [
        "df.info()"
      ],
      "metadata": {
        "id": "dQDO2NJa-OoN"
      },
      "execution_count": null,
      "outputs": []
    },
    {
      "cell_type": "markdown",
      "source": [
        "datatype semua kolom adalah int"
      ],
      "metadata": {
        "id": "niDLgwVL-4nH"
      }
    },
    {
      "cell_type": "code",
      "source": [
        "df.isnull().sum()"
      ],
      "metadata": {
        "id": "Pi3z7VNr-vhZ"
      },
      "execution_count": null,
      "outputs": []
    },
    {
      "cell_type": "markdown",
      "source": [
        "tidak ada missing values pada data set"
      ],
      "metadata": {
        "id": "yb9lX163-zRT"
      }
    },
    {
      "cell_type": "code",
      "source": [
        "plt.figure(figsize=[20,20])\n",
        "plt.subplot(421)\n",
        "g=sns.countplot(x= 'sex', hue = 'default_payment_next_month', data = df)\n",
        "plt.subplot(422)\n",
        "sns.countplot(x= 'education_level', hue='default_payment_next_month', data = df)\n",
        "plt.subplot(423)\n",
        "sns.countplot(x= 'age', hue='default_payment_next_month', data = df)\n",
        "plt.subplot(424)\n",
        "sns.countplot(x= 'marital_status', hue='default_payment_next_month', data = df)"
      ],
      "metadata": {
        "id": "nCIqpe68AHPy"
      },
      "execution_count": null,
      "outputs": []
    },
    {
      "cell_type": "markdown",
      "source": [
        "Berdasarkan 4 kategori tersebut dapat saya simpulkan kalau customer yang memiliki kemungkinan untuk membayar tagihan kartu kredit adalah customer laki-laki,tingkat pendidikan minimal universitas(2), Usia 25-27, dan status pernikahan sudah menikah"
      ],
      "metadata": {
        "id": "FGYKCzeZDKKE"
      }
    },
    {
      "cell_type": "code",
      "source": [
        "df.describe()"
      ],
      "metadata": {
        "id": "WVcFesuMETgS"
      },
      "execution_count": null,
      "outputs": []
    },
    {
      "cell_type": "code",
      "source": [
        "corr = df.corr()\n",
        "\n",
        "plt.figure(figsize=(20, 10))\n",
        "sns.heatmap(corr, annot= True, vmin=0, vmax=1)\n",
        "plt.show()"
      ],
      "metadata": {
        "id": "_UPG0jnNEbWW"
      },
      "execution_count": null,
      "outputs": []
    },
    {
      "cell_type": "markdown",
      "source": [
        "melalui heat map dapat terlihat yang memiliki korelasi dengan default_payment_next_month adalah pay_0, pay_2, pay_3, pay_4, pay_5, pay_6"
      ],
      "metadata": {
        "id": "7Yq4M_mpEw7V"
      }
    },
    {
      "cell_type": "markdown",
      "source": [
        "# v. Data Preprocessing"
      ],
      "metadata": {
        "id": "65sfyLrF4_4P"
      }
    },
    {
      "cell_type": "code",
      "source": [
        "cc = df.copy()\n",
        "cc.shape"
      ],
      "metadata": {
        "id": "sXVk-4-vEBCv"
      },
      "execution_count": null,
      "outputs": []
    },
    {
      "cell_type": "markdown",
      "source": [
        "menghilangkan seluruh kolom bill_amt dan pay_amt karena korelasi kolom kolom tersebut terhadap default_payment_next_month sangat kecil"
      ],
      "metadata": {
        "id": "Qvxfuen6F-sx"
      }
    },
    {
      "cell_type": "code",
      "source": [
        "cc.drop(['bill_amt_1', 'bill_amt_2', 'bill_amt_3', 'bill_amt_4', 'bill_amt_5', 'bill_amt_6', 'pay_amt_1', 'pay_amt_2', 'pay_amt_3', 'pay_amt_4', 'pay_amt_5', 'pay_amt_6'], axis=1, inplace=True)"
      ],
      "metadata": {
        "id": "XDbA7nURGQLq"
      },
      "execution_count": null,
      "outputs": []
    },
    {
      "cell_type": "code",
      "source": [
        "cc.head()"
      ],
      "metadata": {
        "id": "WYo6FhwhHyUG"
      },
      "execution_count": null,
      "outputs": []
    },
    {
      "cell_type": "markdown",
      "source": [
        "## Distribution Check"
      ],
      "metadata": {
        "id": "EePfhTKBJm-j"
      }
    },
    {
      "cell_type": "code",
      "source": [
        "def diagnostic_plots(cc, variable):\n",
        "    # Define figure size\n",
        "    plt.figure(figsize=(16, 4))\n",
        "\n",
        "    # Histogram\n",
        "    plt.subplot(1, 2, 1)\n",
        "    sns.histplot(cc[variable], bins=30)\n",
        "    plt.title('Histogram')\n",
        "\n",
        "    # Boxplot\n",
        "    plt.subplot(1, 2, 2)\n",
        "    sns.boxplot(y=cc[variable])\n",
        "    plt.title('Boxplot')\n",
        "\n",
        "    plt.show()"
      ],
      "metadata": {
        "id": "sqSVDAqNJ2Hg"
      },
      "execution_count": null,
      "outputs": []
    },
    {
      "cell_type": "code",
      "source": [
        "diagnostic_plots(cc, 'limit_balance')\n",
        "print('\\nSkewness Value : ', cc['limit_balance'].skew())"
      ],
      "metadata": {
        "id": "2zAs18j7J9-V"
      },
      "execution_count": null,
      "outputs": []
    },
    {
      "cell_type": "markdown",
      "source": [
        "kolom limit_balance skew atau tidak terdistribusi secara normal"
      ],
      "metadata": {
        "id": "ZNzO2h1TKMzc"
      }
    },
    {
      "cell_type": "code",
      "source": [
        "diagnostic_plots(cc, 'sex')\n",
        "print('\\nSkewness Value : ', cc['sex'].skew())"
      ],
      "metadata": {
        "id": "dI-QCLjsKRCu"
      },
      "execution_count": null,
      "outputs": []
    },
    {
      "cell_type": "markdown",
      "source": [
        "Kolom sex terdistribusi secara normal"
      ],
      "metadata": {
        "id": "84yTI68MKhbV"
      }
    },
    {
      "cell_type": "code",
      "source": [
        "diagnostic_plots(cc, 'education_level')\n",
        "print('\\nSkewness Value : ', cc['education_level'].skew())"
      ],
      "metadata": {
        "id": "itrfCD2sKmZ4"
      },
      "execution_count": null,
      "outputs": []
    },
    {
      "cell_type": "markdown",
      "source": [
        "kolom education_level skew atau tidak terdistribusi secara normal"
      ],
      "metadata": {
        "id": "j_ApUgUzKvUD"
      }
    },
    {
      "cell_type": "code",
      "source": [
        "diagnostic_plots(cc, 'marital_status')\n",
        "print('\\nSkewness Value : ', cc['marital_status'].skew())"
      ],
      "metadata": {
        "id": "0nGA8ej9K1VS"
      },
      "execution_count": null,
      "outputs": []
    },
    {
      "cell_type": "markdown",
      "source": [
        "Kolom marital_status terdistribusi secara normal"
      ],
      "metadata": {
        "id": "LhZdzbysLK0J"
      }
    },
    {
      "cell_type": "code",
      "source": [
        "diagnostic_plots(cc, 'age')\n",
        "print('\\nSkewness Value : ', cc['age'].skew())"
      ],
      "metadata": {
        "id": "rReo0h78LOhl"
      },
      "execution_count": null,
      "outputs": []
    },
    {
      "cell_type": "markdown",
      "source": [
        "kolom age skew atau tidak terdistribusi secara normal"
      ],
      "metadata": {
        "id": "DbhVVoYmLVmS"
      }
    },
    {
      "cell_type": "code",
      "source": [
        "diagnostic_plots(cc, 'pay_0')\n",
        "print('\\nSkewness Value : ', cc['pay_0'].skew())"
      ],
      "metadata": {
        "id": "1XXwvZ1NLyBG"
      },
      "execution_count": null,
      "outputs": []
    },
    {
      "cell_type": "markdown",
      "source": [
        "kolom pay_0 skew atau tidak terdistribusi secara normal"
      ],
      "metadata": {
        "id": "QaB5CghBMBL2"
      }
    },
    {
      "cell_type": "code",
      "source": [
        "diagnostic_plots(cc, 'pay_2')\n",
        "print('\\nSkewness Value : ', cc['pay_2'].skew())"
      ],
      "metadata": {
        "id": "_eFv99ffMEN9"
      },
      "execution_count": null,
      "outputs": []
    },
    {
      "cell_type": "markdown",
      "source": [
        "kolom pay_2 skew atau tidak terdistribusi secara normal"
      ],
      "metadata": {
        "id": "h9cpL7cGMRHM"
      }
    },
    {
      "cell_type": "code",
      "source": [
        "diagnostic_plots(cc, 'pay_3')\n",
        "print('\\nSkewness Value : ', cc['pay_3'].skew())"
      ],
      "metadata": {
        "id": "Eeap0s2eMTJM"
      },
      "execution_count": null,
      "outputs": []
    },
    {
      "cell_type": "markdown",
      "source": [
        "kolom pay_3 skew atau tidak terdistribusi secara normal"
      ],
      "metadata": {
        "id": "qj61DisaMYuZ"
      }
    },
    {
      "cell_type": "code",
      "source": [
        "diagnostic_plots(cc, 'pay_4')\n",
        "print('\\nSkewness Value : ', cc['pay_4'].skew())"
      ],
      "metadata": {
        "id": "d9MMu3-QMba-"
      },
      "execution_count": null,
      "outputs": []
    },
    {
      "cell_type": "markdown",
      "source": [
        "kolom pay_4 skew atau tidak terdistribusi secara normal"
      ],
      "metadata": {
        "id": "-oK4DHfmMiW5"
      }
    },
    {
      "cell_type": "code",
      "source": [
        "diagnostic_plots(cc, 'pay_5')\n",
        "print('\\nSkewness Value : ', cc['pay_5'].skew())"
      ],
      "metadata": {
        "id": "Hulcwr16MhmL"
      },
      "execution_count": null,
      "outputs": []
    },
    {
      "cell_type": "markdown",
      "source": [
        "kolom pay_5 skew atau tidak terdistribusi secara normal"
      ],
      "metadata": {
        "id": "48E6JqG-Mpdk"
      }
    },
    {
      "cell_type": "code",
      "source": [
        "diagnostic_plots(cc, 'pay_6')\n",
        "print('\\nSkewness Value : ', cc['pay_6'].skew())"
      ],
      "metadata": {
        "id": "AObptTitMhie"
      },
      "execution_count": null,
      "outputs": []
    },
    {
      "cell_type": "markdown",
      "source": [
        "kolom pay_6 skew atau tidak terdistribusi secara normal"
      ],
      "metadata": {
        "id": "mney-iDZMwQD"
      }
    },
    {
      "cell_type": "markdown",
      "source": [
        "## Distribution Check Summary\n",
        "\n",
        "1.  sex              Normal \n",
        "2.  education_level  Skew\n",
        "3.  marital_status   Normal\n",
        "4.  age              Skew\n",
        "5.  pay_0            Skew\n",
        "6.  pay_2            Skew\n",
        "7.  pay_3            Skew\n",
        "8.  pay_4            Skew\n",
        "9.  pay_5            Skew\n",
        "10. pay_6            Skew"
      ],
      "metadata": {
        "id": "tfhQzeQzMyDA"
      }
    },
    {
      "cell_type": "markdown",
      "source": [
        "## Handling Outlier"
      ],
      "metadata": {
        "id": "Wuj65kG-OrdU"
      }
    },
    {
      "cell_type": "code",
      "source": [
        "def find_normal_boundaries(cc, variable):\n",
        "    upper_boundary = cc[variable].mean() + 3 * cc[variable].std()\n",
        "    lower_boundary = cc[variable].mean() - 3 * cc[variable].std()\n",
        "\n",
        "    return upper_boundary, lower_boundary"
      ],
      "metadata": {
        "id": "0l7jOVy0OyDR"
      },
      "execution_count": null,
      "outputs": []
    },
    {
      "cell_type": "code",
      "source": [
        "upper_boundary, lower_boundary = find_normal_boundaries(cc, 'sex')\n",
        "upper_boundary, lower_boundary"
      ],
      "metadata": {
        "id": "NLbp1qeMO02l"
      },
      "execution_count": null,
      "outputs": []
    },
    {
      "cell_type": "code",
      "source": [
        "print('Total row: {}'.format(len(cc)))\n",
        "print('Right End Outliers: {}'.format(len(cc[cc['sex'] > upper_boundary])))\n",
        "print('Left End Outliers: {}'.format(len(cc[cc['sex'] < lower_boundary])))\n",
        "print('')\n",
        "print('% right end outliers : {}'.format(len(cc[cc['sex'] > upper_boundary]) / len(cc) * 100))\n",
        "print('% left end outliers  : {}'.format(len(cc[cc['sex'] < lower_boundary]) / len(cc) * 100))"
      ],
      "metadata": {
        "id": "Nk6q1WggPZlw"
      },
      "execution_count": null,
      "outputs": []
    },
    {
      "cell_type": "code",
      "source": [
        "upper_boundary, lower_boundary = find_normal_boundaries(cc, 'marital_status')\n",
        "upper_boundary, lower_boundary"
      ],
      "metadata": {
        "id": "o1bXjGQMPO56"
      },
      "execution_count": null,
      "outputs": []
    },
    {
      "cell_type": "code",
      "source": [
        "print('Total row: {}'.format(len(cc)))\n",
        "print('Right End Outliers: {}'.format(len(cc[cc['marital_status'] > upper_boundary])))\n",
        "print('Left End Outliers: {}'.format(len(cc[cc['marital_status'] < lower_boundary])))\n",
        "print('')\n",
        "print('% right end outliers : {}'.format(len(cc[cc['marital_status'] > upper_boundary]) / len(cc) * 100))\n",
        "print('% left end outliers  : {}'.format(len(cc[cc['marital_status'] < lower_boundary]) / len(cc) * 100))"
      ],
      "metadata": {
        "id": "1hokdQvNPg6K"
      },
      "execution_count": null,
      "outputs": []
    },
    {
      "cell_type": "markdown",
      "source": [
        "Tidak ada outlier pada kolom Sex dan Marital Status"
      ],
      "metadata": {
        "id": "eCDoxK7JPri0"
      }
    },
    {
      "cell_type": "code",
      "source": [
        "def find_skewed_boundaries(cc, variable, distance):\n",
        "    IQR = cc[variable].quantile(0.75) - cc[variable].quantile(0.25)\n",
        "\n",
        "    lower_boundary = cc[variable].quantile(0.25) - (IQR * distance)\n",
        "    upper_boundary = cc[variable].quantile(0.75) + (IQR * distance)\n",
        "\n",
        "    return upper_boundary, lower_boundary"
      ],
      "metadata": {
        "id": "xuFoF5qvP5qn"
      },
      "execution_count": null,
      "outputs": []
    },
    {
      "cell_type": "code",
      "source": [
        "upper_boundary, lower_boundary = find_skewed_boundaries(cc, 'education_level', 1.5)\n",
        "upper_boundary, lower_boundary"
      ],
      "metadata": {
        "id": "a8aJtizKQZHJ"
      },
      "execution_count": null,
      "outputs": []
    },
    {
      "cell_type": "code",
      "source": [
        "print('Total row: {}'.format(len(cc)))\n",
        "print('Right End Outliers: {}'.format(len(cc[cc['education_level'] > upper_boundary])))\n",
        "print('Left End Outliers: {}'.format(len(cc[cc['education_level'] < lower_boundary])))\n",
        "print('')\n",
        "print('% right end outliers : {}'.format(len(cc[cc['education_level'] > upper_boundary]) / len(cc) * 100))\n",
        "print('% left end outliers  : {}'.format(len(cc[cc['education_level'] < lower_boundary]) / len(cc) * 100))"
      ],
      "metadata": {
        "id": "rvCz8oboQA12"
      },
      "execution_count": null,
      "outputs": []
    },
    {
      "cell_type": "markdown",
      "source": [
        "Kolom education_level terdapat 1,4% Outlier"
      ],
      "metadata": {
        "id": "6YDAOAy-Qjf9"
      }
    },
    {
      "cell_type": "code",
      "source": [
        "upper_boundary, lower_boundary = find_skewed_boundaries(cc, 'age', 1.5)\n",
        "upper_boundary, lower_boundary"
      ],
      "metadata": {
        "id": "m6PWpy7UQpxv"
      },
      "execution_count": null,
      "outputs": []
    },
    {
      "cell_type": "code",
      "source": [
        "print('Total row: {}'.format(len(cc)))\n",
        "print('Right End Outliers: {}'.format(len(cc[cc['age'] > upper_boundary])))\n",
        "print('Left End Outliers: {}'.format(len(cc[cc['age'] < lower_boundary])))\n",
        "print('')\n",
        "print('% right end outliers : {}'.format(len(cc[cc['age'] > upper_boundary]) / len(cc) * 100))\n",
        "print('% left end outliers  : {}'.format(len(cc[cc['age'] < lower_boundary]) / len(cc) * 100))"
      ],
      "metadata": {
        "id": "2zfvlARGQts7"
      },
      "execution_count": null,
      "outputs": []
    },
    {
      "cell_type": "markdown",
      "source": [
        "Kolom age terdapat 0,8% Outlier"
      ],
      "metadata": {
        "id": "ioVsJ3ObQ9lF"
      }
    },
    {
      "cell_type": "code",
      "source": [
        "upper_boundary, lower_boundary = find_skewed_boundaries(cc, 'pay_0', 1.5)\n",
        "upper_boundary, lower_boundary"
      ],
      "metadata": {
        "id": "rWirKjQYQ_00"
      },
      "execution_count": null,
      "outputs": []
    },
    {
      "cell_type": "code",
      "source": [
        "print('Total row: {}'.format(len(cc)))\n",
        "print('Right End Outliers: {}'.format(len(cc[cc['pay_0'] > upper_boundary])))\n",
        "print('Left End Outliers: {}'.format(len(cc[cc['pay_0'] < lower_boundary])))\n",
        "print('')\n",
        "print('% right end outliers : {}'.format(len(cc[cc['pay_0'] > upper_boundary]) / len(cc) * 100))\n",
        "print('% left end outliers  : {}'.format(len(cc[cc['pay_0'] < lower_boundary]) / len(cc) * 100))"
      ],
      "metadata": {
        "id": "9nobikAyRFhS"
      },
      "execution_count": null,
      "outputs": []
    },
    {
      "cell_type": "markdown",
      "source": [
        "Kolom pay_0 terdapat 11% Outlier"
      ],
      "metadata": {
        "id": "mNhu_-_IRNND"
      }
    },
    {
      "cell_type": "code",
      "source": [
        "upper_boundary, lower_boundary = find_skewed_boundaries(cc, 'pay_2', 1.5)\n",
        "upper_boundary, lower_boundary"
      ],
      "metadata": {
        "id": "kvNHWe1ARUVT"
      },
      "execution_count": null,
      "outputs": []
    },
    {
      "cell_type": "code",
      "source": [
        "print('Total row: {}'.format(len(cc)))\n",
        "print('Right End Outliers: {}'.format(len(cc[cc['pay_2'] > upper_boundary])))\n",
        "print('Left End Outliers: {}'.format(len(cc[cc['pay_2'] < lower_boundary])))\n",
        "print('')\n",
        "print('% right end outliers : {}'.format(len(cc[cc['pay_2'] > upper_boundary]) / len(cc) * 100))\n",
        "print('% left end outliers  : {}'.format(len(cc[cc['pay_2'] < lower_boundary]) / len(cc) * 100))"
      ],
      "metadata": {
        "id": "ArwrE3xNRZSw"
      },
      "execution_count": null,
      "outputs": []
    },
    {
      "cell_type": "markdown",
      "source": [
        "Kolom pay_2 terdapat 14,5% Outlier"
      ],
      "metadata": {
        "id": "d_K5xKtRRixD"
      }
    },
    {
      "cell_type": "code",
      "source": [
        "upper_boundary, lower_boundary = find_skewed_boundaries(cc, 'pay_3', 1.5)\n",
        "upper_boundary, lower_boundary"
      ],
      "metadata": {
        "id": "WfWYdrrKRgQp"
      },
      "execution_count": null,
      "outputs": []
    },
    {
      "cell_type": "code",
      "source": [
        "print('Total row: {}'.format(len(cc)))\n",
        "print('Right End Outliers: {}'.format(len(cc[cc['pay_3'] > upper_boundary])))\n",
        "print('Left End Outliers: {}'.format(len(cc[cc['pay_3'] < lower_boundary])))\n",
        "print('')\n",
        "print('% right end outliers : {}'.format(len(cc[cc['pay_3'] > upper_boundary]) / len(cc) * 100))\n",
        "print('% left end outliers  : {}'.format(len(cc[cc['pay_3'] < lower_boundary]) / len(cc) * 100))"
      ],
      "metadata": {
        "id": "K7xQfD-MRpSl"
      },
      "execution_count": null,
      "outputs": []
    },
    {
      "cell_type": "markdown",
      "source": [
        "Kolom pay_3 terdapat 14,5% Outlier"
      ],
      "metadata": {
        "id": "XE5gez83RwmY"
      }
    },
    {
      "cell_type": "code",
      "source": [
        "upper_boundary, lower_boundary = find_skewed_boundaries(cc, 'pay_4', 1.5)\n",
        "upper_boundary, lower_boundary"
      ],
      "metadata": {
        "id": "kYUWpF-5R0ul"
      },
      "execution_count": null,
      "outputs": []
    },
    {
      "cell_type": "code",
      "source": [
        "print('Total row: {}'.format(len(cc)))\n",
        "print('Right End Outliers: {}'.format(len(cc[cc['pay_4'] > upper_boundary])))\n",
        "print('Left End Outliers: {}'.format(len(cc[cc['pay_4'] < lower_boundary])))\n",
        "print('')\n",
        "print('% right end outliers : {}'.format(len(cc[cc['pay_4'] > upper_boundary]) / len(cc) * 100))\n",
        "print('% left end outliers  : {}'.format(len(cc[cc['pay_4'] < lower_boundary]) / len(cc) * 100))"
      ],
      "metadata": {
        "id": "zaKaARluR31A"
      },
      "execution_count": null,
      "outputs": []
    },
    {
      "cell_type": "markdown",
      "source": [
        "Kolom pay_4 terdapat 12% Outlier\n",
        "\n"
      ],
      "metadata": {
        "id": "Ikvi67NcSBVX"
      }
    },
    {
      "cell_type": "code",
      "source": [
        "upper_boundary, lower_boundary = find_skewed_boundaries(cc, 'pay_5', 1.5)\n",
        "upper_boundary, lower_boundary"
      ],
      "metadata": {
        "id": "za0A53gbSGnI"
      },
      "execution_count": null,
      "outputs": []
    },
    {
      "cell_type": "code",
      "source": [
        "print('Total row: {}'.format(len(cc)))\n",
        "print('Right End Outliers: {}'.format(len(cc[cc['pay_5'] > upper_boundary])))\n",
        "print('Left End Outliers: {}'.format(len(cc[cc['pay_5'] < lower_boundary])))\n",
        "print('')\n",
        "print('% right end outliers : {}'.format(len(cc[cc['pay_5'] > upper_boundary]) / len(cc) * 100))\n",
        "print('% left end outliers  : {}'.format(len(cc[cc['pay_5'] < lower_boundary]) / len(cc) * 100))"
      ],
      "metadata": {
        "id": "5grdx2gcSI3m"
      },
      "execution_count": null,
      "outputs": []
    },
    {
      "cell_type": "markdown",
      "source": [
        "Kolom pay_5 terdapat 12% Outlier"
      ],
      "metadata": {
        "id": "2gWb1Nf3SQev"
      }
    },
    {
      "cell_type": "code",
      "source": [
        "upper_boundary, lower_boundary = find_skewed_boundaries(cc, 'pay_6', 1.5)\n",
        "upper_boundary, lower_boundary"
      ],
      "metadata": {
        "id": "7wmiXeVpSTOK"
      },
      "execution_count": null,
      "outputs": []
    },
    {
      "cell_type": "code",
      "source": [
        "print('Total row: {}'.format(len(cc)))\n",
        "print('Right End Outliers: {}'.format(len(cc[cc['pay_6'] > upper_boundary])))\n",
        "print('Left End Outliers: {}'.format(len(cc[cc['pay_6'] < lower_boundary])))\n",
        "print('')\n",
        "print('% right end outliers : {}'.format(len(cc[cc['pay_6'] > upper_boundary]) / len(cc) * 100))\n",
        "print('% left end outliers  : {}'.format(len(cc[cc['pay_6'] < lower_boundary]) / len(cc) * 100))"
      ],
      "metadata": {
        "id": "phjRi1-mSXvS"
      },
      "execution_count": null,
      "outputs": []
    },
    {
      "cell_type": "markdown",
      "source": [
        "Kolom pay_6 terdapat 11% Outlier"
      ],
      "metadata": {
        "id": "E8P3A52BSd7d"
      }
    },
    {
      "cell_type": "markdown",
      "source": [
        "## Handling Outlier Summary\n",
        "\n",
        "\n",
        "*   Tidak ada outlier: sex dan marital_status\n",
        "*   Trimming:          education_level dan age\n",
        "*   Capping:           pay_0, pay_2, pay_3, pay_4, pay_5, dan pay_6\n",
        "\n"
      ],
      "metadata": {
        "id": "WUfNEwWlSjze"
      }
    },
    {
      "cell_type": "markdown",
      "source": [
        "## Trimming"
      ],
      "metadata": {
        "id": "eb3-KPweTzhr"
      }
    },
    {
      "cell_type": "code",
      "source": [
        "# Limits for `education_level`\n",
        "education_level_upper_limit, education_level_lower_limit = find_skewed_boundaries(cc, 'education_level', 1.5)\n",
        "education_level_upper_limit, education_level_lower_limit\n",
        "\n",
        "# Limits for `age`\n",
        "age_upper_limit, age_lower_limit = find_skewed_boundaries(cc, 'age', 1.5)\n",
        "age_upper_limit, age_lower_limit\n"
      ],
      "metadata": {
        "id": "vCPvnn9rT1ap"
      },
      "execution_count": null,
      "outputs": []
    },
    {
      "cell_type": "code",
      "source": [
        "# Flag the outliers in category `education_level`\n",
        "outliers_education_level = np.where(cc['education_level'] > education_level_upper_limit, True,\n",
        "                       np.where(cc['education_level'] < education_level_lower_limit, True, False))\n",
        "\n",
        "# Flag the outliers in category `age`\n",
        "outliers_age = np.where(cc['age'] > age_upper_limit, True,\n",
        "                       np.where(cc['age'] < age_lower_limit, True, False))\n",
        "\n",
        "\n",
        "\n",
        "print(outliers_age[:10])"
      ],
      "metadata": {
        "id": "hOHtq3zQT-b_"
      },
      "execution_count": null,
      "outputs": []
    },
    {
      "cell_type": "code",
      "source": [
        "cc_trimmed = cc.loc[~(outliers_age + outliers_education_level)]"
      ],
      "metadata": {
        "id": "WwvIRQWoUBn6"
      },
      "execution_count": null,
      "outputs": []
    },
    {
      "cell_type": "markdown",
      "source": [
        "## Capping\n"
      ],
      "metadata": {
        "id": "vS15vB_2VN6W"
      }
    },
    {
      "cell_type": "code",
      "source": [
        "!pip install feature-engine\n",
        "from feature_engine.outliers import Winsorizer"
      ],
      "metadata": {
        "id": "tYwMT8vncOTy"
      },
      "execution_count": null,
      "outputs": []
    },
    {
      "cell_type": "code",
      "source": [
        "windsorizer = Winsorizer(capping_method='iqr', # choose iqr for IQR rule boundaries or gaussian for mean and std\n",
        "                          tail='both', # cap left, right or both tails \n",
        "                          fold=1.5,\n",
        "                          variables=['pay_0', 'pay_2', 'pay_3', 'pay_4', 'pay_5', 'pay_6'])\n",
        "\n",
        "windsorizer.fit(cc_trimmed)\n",
        "\n",
        "cc_t = windsorizer.transform(cc_trimmed)"
      ],
      "metadata": {
        "id": "mOhtls5UdK14"
      },
      "execution_count": null,
      "outputs": []
    },
    {
      "cell_type": "code",
      "source": [
        "print('cc Dataframe - Before Capping')\n",
        "print(cc_trimmed.describe())\n",
        "print('')\n",
        "print('cc Dataframe - After Capping')\n",
        "print(cc_t.describe())"
      ],
      "metadata": {
        "id": "vQkaQ74-drt2"
      },
      "execution_count": null,
      "outputs": []
    },
    {
      "cell_type": "code",
      "source": [
        "cc_t.head()"
      ],
      "metadata": {
        "id": "5r1TjfIOfgcT"
      },
      "execution_count": null,
      "outputs": []
    },
    {
      "cell_type": "markdown",
      "source": [
        "## Splitting Dataset"
      ],
      "metadata": {
        "id": "eIbxEatgeQ7O"
      }
    },
    {
      "cell_type": "code",
      "source": [
        "X = cc_t.drop(['default_payment_next_month'],axis=1)\n",
        "y = cc_t['default_payment_next_month']"
      ],
      "metadata": {
        "id": "lKISGYe0eeDo"
      },
      "execution_count": null,
      "outputs": []
    },
    {
      "cell_type": "code",
      "source": [
        "X_train, X_test, y_train, y_test = train_test_split(X, y, test_size=0.2, random_state=101)\n",
        "\n",
        "print('Train Size : ', X_train.shape)\n",
        "print('Test Size  : ', X_test.shape)"
      ],
      "metadata": {
        "id": "2vdpT0OmebQu"
      },
      "execution_count": null,
      "outputs": []
    },
    {
      "cell_type": "code",
      "source": [
        "X_train.info()"
      ],
      "metadata": {
        "id": "6COOUo-Ug0yr"
      },
      "execution_count": null,
      "outputs": []
    },
    {
      "cell_type": "code",
      "source": [
        "X_test.info()"
      ],
      "metadata": {
        "id": "QPkeFVLvg4OQ"
      },
      "execution_count": null,
      "outputs": []
    },
    {
      "cell_type": "markdown",
      "source": [
        "Semua data merupakan int atau float tidak ada object maka kita akan lanjut ke feature scalling"
      ],
      "metadata": {
        "id": "FNimc9vkg7b6"
      }
    },
    {
      "cell_type": "markdown",
      "source": [
        "## Feature Scalling\n",
        "menggunakan standard scaller karena outlier sudah dihandle"
      ],
      "metadata": {
        "id": "1ETW35fGfHAL"
      }
    },
    {
      "cell_type": "code",
      "source": [
        "scaler = StandardScaler()\n",
        "scaler.fit(X_train)\n",
        "\n",
        "X_train_scaled = scaler.transform(X_train)\n",
        "X_test_scaled = scaler.transform(X_test)\n",
        "\n",
        "X_train_scaled"
      ],
      "metadata": {
        "id": "mNOgA93yfRtd"
      },
      "execution_count": null,
      "outputs": []
    },
    {
      "cell_type": "code",
      "source": [
        "X_train = X_train_scaled.copy()"
      ],
      "metadata": {
        "id": "a0HVmpWtnd-r"
      },
      "execution_count": null,
      "outputs": []
    },
    {
      "cell_type": "code",
      "source": [
        "X_test = X_test_scaled.copy()"
      ],
      "metadata": {
        "id": "KGKfoPDH8-MG"
      },
      "execution_count": null,
      "outputs": []
    },
    {
      "cell_type": "markdown",
      "source": [
        "# vi. Model Definition, Training, and Evaluation"
      ],
      "metadata": {
        "id": "2nzd8KWF5Clc"
      }
    },
    {
      "cell_type": "markdown",
      "source": [
        "Menambahkan function print_score untuk memperlihatkan akurasi dari tiap model"
      ],
      "metadata": {
        "id": "zljBFbVknFgi"
      }
    },
    {
      "cell_type": "code",
      "source": [
        "def print_score(clf, X_train, y_train, X_test, y_test, train=True):\n",
        "    if train:\n",
        "        pred = clf.predict(X_train)\n",
        "        clf_report = pd.DataFrame(classification_report(y_train, pred, output_dict=True))\n",
        "        print(\"Train Result:\\n================================================\")\n",
        "        print(f\"Accuracy Score: {accuracy_score(y_train, pred) * 100:.2f}%\")\n",
        "        print(\"_______________________________________________\")\n",
        "        print(f\"CLASSIFICATION REPORT:\\n{clf_report}\")\n",
        "        print(\"_______________________________________________\")\n",
        "        print(f\"Confusion Matrix: \\n {confusion_matrix(y_train, pred)}\\n\")\n",
        "        \n",
        "    elif train==False:\n",
        "        pred = clf.predict(X_test)\n",
        "        clf_report = pd.DataFrame(classification_report(y_test, pred, output_dict=True))\n",
        "        print(\"Test Result:\\n================================================\")        \n",
        "        print(f\"Accuracy Score: {accuracy_score(y_test, pred) * 100:.2f}%\")\n",
        "        print(\"_______________________________________________\")\n",
        "        print(f\"CLASSIFICATION REPORT:\\n{clf_report}\")\n",
        "        print(\"_______________________________________________\")\n",
        "        print(f\"Confusion Matrix: \\n {confusion_matrix(y_test, pred)}\\n\")"
      ],
      "metadata": {
        "id": "ztZh8vqhnEmQ"
      },
      "execution_count": null,
      "outputs": []
    },
    {
      "cell_type": "markdown",
      "source": [
        "## Logistic Regression"
      ],
      "metadata": {
        "id": "Pz73WSoetaU0"
      }
    },
    {
      "cell_type": "code",
      "source": [
        "logreg = LogisticRegression()\n",
        "logreg.fit(X_train, y_train)\n",
        "\n",
        "print_score(logreg, X_train, y_train, X_test, y_test, train=True)\n",
        "print_score(logreg, X_train, y_train, X_test, y_test, train=False)"
      ],
      "metadata": {
        "id": "_LGz9qvkvF_B"
      },
      "execution_count": null,
      "outputs": []
    },
    {
      "cell_type": "code",
      "source": [
        "y_pred_train = logreg.predict(X_train)\n",
        "y_pred_test = logreg.predict(X_test)\n",
        "\n",
        "y_pred_train"
      ],
      "metadata": {
        "id": "IifBdTcx-fp_"
      },
      "execution_count": null,
      "outputs": []
    },
    {
      "cell_type": "markdown",
      "source": [
        "## SVM"
      ],
      "metadata": {
        "id": "0IqTES6HtesX"
      }
    },
    {
      "cell_type": "code",
      "source": [
        "svr = SVC()\n",
        "svr.fit(X_train, y_train)\n",
        "\n",
        "print_score(svr, X_train, y_train, X_test, y_test, train=True)\n",
        "print_score(svr, X_train, y_train, X_test, y_test, train=False)"
      ],
      "metadata": {
        "id": "Nu-pm5RJxY4w"
      },
      "execution_count": null,
      "outputs": []
    },
    {
      "cell_type": "code",
      "source": [
        "y_pred_train = svr.predict(X_train)\n",
        "y_pred_test = svr.predict(X_test)\n",
        "\n",
        "y_pred_train"
      ],
      "metadata": {
        "id": "x3tdnbsY_q38"
      },
      "execution_count": null,
      "outputs": []
    },
    {
      "cell_type": "markdown",
      "source": [
        "## Decision Tree"
      ],
      "metadata": {
        "id": "br74bCIOtgj2"
      }
    },
    {
      "cell_type": "code",
      "source": [
        "tree_clf = DecisionTreeClassifier()\n",
        "tree_clf.fit(X_train, y_train)\n",
        "\n",
        "print_score(tree_clf, X_train, y_train, X_test, y_test, train=True)\n",
        "print_score(tree_clf, X_train, y_train, X_test, y_test, train=False)"
      ],
      "metadata": {
        "id": "mYpAyiJYuOYZ"
      },
      "execution_count": null,
      "outputs": []
    },
    {
      "cell_type": "code",
      "source": [
        "params = {\n",
        "    \"criterion\":(\"gini\", \"entropy\"), \n",
        "    \"splitter\":(\"best\", \"random\"), \n",
        "    \"max_depth\":(list(range(1, 20))), \n",
        "    \"min_samples_split\":[2, 3, 4], \n",
        "    \"min_samples_leaf\":list(range(1, 20)), \n",
        "}\n",
        "\n",
        "\n",
        "tree_clf = DecisionTreeClassifier(random_state=42)\n",
        "tree_cv = GridSearchCV(tree_clf, params, scoring=\"accuracy\", n_jobs=-1, verbose=1, cv=3)\n",
        "tree_cv.fit(X_train, y_train)\n",
        "best_params = tree_cv.best_params_\n",
        "print(f\"Best paramters: {best_params})\")\n",
        "\n",
        "tree_clf = DecisionTreeClassifier(**best_params)\n",
        "tree_clf.fit(X_train, y_train)\n",
        "print_score(tree_clf, X_train, y_train, X_test, y_test, train=True)\n",
        "print_score(tree_clf, X_train, y_train, X_test, y_test, train=False)"
      ],
      "metadata": {
        "id": "TwzV9X19ujEp"
      },
      "execution_count": null,
      "outputs": []
    },
    {
      "cell_type": "code",
      "source": [
        "acc_train_cross_val = cross_val_score(tree_clf, \n",
        "                                      X_train, \n",
        "                                      y_train, \n",
        "                                      cv=3, scoring=\"accuracy\")\n",
        "\n",
        "print('Accuracy - All - Cross Validation  : ', acc_train_cross_val)\n",
        "print('Accuracy - Mean - Cross Validation : ', acc_train_cross_val.mean())\n",
        "print('Accuracy - Std - Cross Validation  : ', acc_train_cross_val.std())\n",
        "print('Accuracy - Range of Test-Set       : ', (acc_train_cross_val.mean()-acc_train_cross_val.std()) , '-', (acc_train_cross_val.mean()+acc_train_cross_val.std()))"
      ],
      "metadata": {
        "id": "HNa-_7DK2d-2"
      },
      "execution_count": null,
      "outputs": []
    },
    {
      "cell_type": "code",
      "source": [
        "y_pred_train = tree_clf.predict(X_train)\n",
        "y_pred_test = tree_clf.predict(X_test)\n",
        "\n",
        "y_pred_train"
      ],
      "metadata": {
        "id": "Bg0JxqH4_xd6"
      },
      "execution_count": null,
      "outputs": []
    },
    {
      "cell_type": "markdown",
      "source": [
        "## Random Forest"
      ],
      "metadata": {
        "id": "wR_modF7tipc"
      }
    },
    {
      "cell_type": "code",
      "source": [
        "rf_clf = RandomForestClassifier()\n",
        "rf_clf.fit(X_train, y_train)\n",
        "\n",
        "print_score(rf_clf, X_train, y_train, X_test, y_test, train=True)\n",
        "print_score(rf_clf, X_train, y_train, X_test, y_test, train=False)"
      ],
      "metadata": {
        "id": "h1b9kL98ykRN"
      },
      "execution_count": null,
      "outputs": []
    },
    {
      "cell_type": "code",
      "source": [
        "acc_train_cross_val = cross_val_score(rf_clf, \n",
        "                                      X_train, \n",
        "                                      y_train, \n",
        "                                      cv=3, scoring=\"accuracy\")\n",
        "\n",
        "print('Accuracy - All - Cross Validation  : ', acc_train_cross_val)\n",
        "print('Accuracy - Mean - Cross Validation : ', acc_train_cross_val.mean())\n",
        "print('Accuracy - Std - Cross Validation  : ', acc_train_cross_val.std())\n",
        "print('Accuracy - Range of Test-Set       : ', (acc_train_cross_val.mean()-acc_train_cross_val.std()) , '-', (acc_train_cross_val.mean()+acc_train_cross_val.std()))"
      ],
      "metadata": {
        "id": "GTlPZTtB1Ysn"
      },
      "execution_count": null,
      "outputs": []
    },
    {
      "cell_type": "code",
      "source": [
        "y_pred_train = rf_clf.predict(X_train)\n",
        "y_pred_test = rf_clf.predict(X_test)\n",
        "\n",
        "y_pred_train"
      ],
      "metadata": {
        "id": "s2kIZHNG_3x1"
      },
      "execution_count": null,
      "outputs": []
    },
    {
      "cell_type": "markdown",
      "source": [
        "## KNN"
      ],
      "metadata": {
        "id": "2hU7iGebtk2z"
      }
    },
    {
      "cell_type": "code",
      "source": [
        "knn_clf = KNeighborsClassifier()\n",
        "knn_clf.fit(X_train, y_train)\n",
        "\n",
        "print_score(knn_clf, X_train, y_train, X_test, y_test, train=True)\n",
        "print_score(knn_clf, X_train, y_train, X_test, y_test, train=False)"
      ],
      "metadata": {
        "id": "AvGI3zNo0UwR"
      },
      "execution_count": null,
      "outputs": []
    },
    {
      "cell_type": "code",
      "source": [
        "acc_train_cross_val = cross_val_score(knn_clf, \n",
        "                                      X_train, \n",
        "                                      y_train, \n",
        "                                      cv=3, scoring=\"accuracy\")\n",
        "\n",
        "print('Accuracy - All - Cross Validation  : ', acc_train_cross_val)\n",
        "print('Accuracy - Mean - Cross Validation : ', acc_train_cross_val.mean())\n",
        "print('Accuracy - Std - Cross Validation  : ', acc_train_cross_val.std())\n",
        "print('Accuracy - Range of Test-Set       : ', (acc_train_cross_val.mean()-acc_train_cross_val.std()) , '-', (acc_train_cross_val.mean()+acc_train_cross_val.std()))"
      ],
      "metadata": {
        "id": "pBdZ4NTx2Dzj"
      },
      "execution_count": null,
      "outputs": []
    },
    {
      "cell_type": "code",
      "source": [
        "y_pred_train = knn_clf.predict(X_train)\n",
        "y_pred_test = knn_clf.predict(X_test)\n",
        "\n",
        "y_pred_train"
      ],
      "metadata": {
        "id": "TR6v3HuU_8uD"
      },
      "execution_count": null,
      "outputs": []
    },
    {
      "cell_type": "markdown",
      "source": [
        "## Naive Bayes"
      ],
      "metadata": {
        "id": "HzAXZHHstrnu"
      }
    },
    {
      "cell_type": "code",
      "source": [
        "nb_clf = GaussianNB()\n",
        "nb_clf.fit(X_train, y_train)\n",
        "\n",
        "print_score(nb_clf, X_train, y_train, X_test, y_test, train=True)\n",
        "print_score(nb_clf, X_train, y_train, X_test, y_test, train=False)"
      ],
      "metadata": {
        "id": "UcvLX6y40wpR"
      },
      "execution_count": null,
      "outputs": []
    },
    {
      "cell_type": "code",
      "source": [
        "acc_train_cross_val = cross_val_score(nb_clf, \n",
        "                                      X_train, \n",
        "                                      y_train, \n",
        "                                      cv=3, scoring=\"accuracy\")\n",
        "\n",
        "print('Accuracy - All - Cross Validation  : ', acc_train_cross_val)\n",
        "print('Accuracy - Mean - Cross Validation : ', acc_train_cross_val.mean())\n",
        "print('Accuracy - Std - Cross Validation  : ', acc_train_cross_val.std())\n",
        "print('Accuracy - Range of Test-Set       : ', (acc_train_cross_val.mean()-acc_train_cross_val.std()) , '-', (acc_train_cross_val.mean()+acc_train_cross_val.std()))"
      ],
      "metadata": {
        "id": "1PQto32x2SV5"
      },
      "execution_count": null,
      "outputs": []
    },
    {
      "cell_type": "code",
      "source": [
        "y_pred_train = nb_clf.predict(X_train)\n",
        "y_pred_test = nb_clf.predict(X_test)\n",
        "\n",
        "y_pred_train"
      ],
      "metadata": {
        "id": "mZ6xHagyADAq"
      },
      "execution_count": null,
      "outputs": []
    },
    {
      "cell_type": "markdown",
      "source": [
        "## Bagging"
      ],
      "metadata": {
        "id": "x0RnSSbP-89V"
      }
    },
    {
      "cell_type": "code",
      "source": [
        "bg_clf = BaggingClassifier()\n",
        "bg_clf.fit(X_train, y_train)\n",
        "\n",
        "print_score(bg_clf, X_train, y_train, X_test, y_test, train=True)\n",
        "print_score(bg_clf, X_train, y_train, X_test, y_test, train=False)"
      ],
      "metadata": {
        "id": "BJZF2Lik_MZn"
      },
      "execution_count": null,
      "outputs": []
    },
    {
      "cell_type": "code",
      "source": [
        "y_pred_train = bg_clf.predict(X_train)\n",
        "y_pred_test = bg_clf.predict(X_test)\n",
        "\n",
        "y_pred_train"
      ],
      "metadata": {
        "id": "IMsTaBI8AHxR"
      },
      "execution_count": null,
      "outputs": []
    },
    {
      "cell_type": "markdown",
      "source": [
        "# vii. Model Inference"
      ],
      "metadata": {
        "id": "lqODECq55MRc"
      }
    },
    {
      "cell_type": "code",
      "source": [
        "data_inf = cc_t.sample(10, random_state=17)\n",
        "data_inf"
      ],
      "metadata": {
        "id": "fcpNfFKA6HQp"
      },
      "execution_count": null,
      "outputs": []
    },
    {
      "cell_type": "code",
      "source": [
        "X1 = data_inf.drop(['default_payment_next_month'],axis=1)\n",
        "y1 = data_inf['default_payment_next_month']"
      ],
      "metadata": {
        "id": "NSv6T9fp8H_l"
      },
      "execution_count": null,
      "outputs": []
    },
    {
      "cell_type": "code",
      "source": [
        "X_train1, X_test1, y_train1, y_test1 = train_test_split(X1, y1, test_size=0.2, random_state=101)"
      ],
      "metadata": {
        "id": "Sl177ONz8Hd1"
      },
      "execution_count": null,
      "outputs": []
    },
    {
      "cell_type": "code",
      "source": [
        "scaler = StandardScaler()\n",
        "scaler.fit(X_train1)\n",
        "\n",
        "X_train1_scaled = scaler.transform(X_train1)\n",
        "X_test1_scaled = scaler.transform(X_test1)\n",
        "\n",
        "X_train1_scaled"
      ],
      "metadata": {
        "id": "os47kJiB8sN6"
      },
      "execution_count": null,
      "outputs": []
    },
    {
      "cell_type": "code",
      "source": [
        "y_pred_train_inf = tree_clf.predict(X_train1_scaled)\n",
        "y_pred_test_inf = tree_clf.predict(X_test1_scaled)\n",
        "\n",
        "y_pred_train_inf"
      ],
      "metadata": {
        "id": "TDOonrc74t8y"
      },
      "execution_count": null,
      "outputs": []
    },
    {
      "cell_type": "markdown",
      "source": [
        "# viii. Pengambilan Keputusan\n",
        "Diantara 7 model diatas, saya memilih menggunakan model Decision karena berdasarkan print score, model tersebut yang memiliki Precision terhadap value 1(membayar tagihan kartu kredit bulan depan) tertinggi dibandingkan model lainnya yaitu sebesar 1 atau 100%, jadi dengan model decision tree saya harap pihak bank dapat merencanakan strategi kedepannya dengan informasi prediksi dari model yang sudah dibuat"
      ],
      "metadata": {
        "id": "m3e0w-Cv5QhV"
      }
    },
    {
      "cell_type": "markdown",
      "source": [
        "# ix. Jawaban Conceptual Problems\n",
        "\n",
        "1.   Criterion adalah parameter Decision Tree yang menentukan bagaimana kemurnian dalam pemisahan data akan diukur, cth: \"Gini Impurities\"\n",
        "2.   Pruning adalah teknik kompresi data dalam machine learning dan search algorithms yang mengurangi ukuran decision tree dan menghapus bagian decision tree yang tidak penting dan berulang-ulang\n",
        "3.   Optimal K dapat ditemukan menggunakan rumus akar kuadrat dari N, dimana N adalah jumlah sampel\n",
        "4.   Cross-validation digunakan dalam machine learning untuk mengestimasi keahlian model machine learning pada data yang tidak terlihat, cross-validation menggunakan sampel yang terbatas agar dapat meng-estimasi performa model dalam membuat prediksi pada data yang tidak digunakan dalam model training\n",
        "5.   \n",
        "Actual Negative, Predicted Negative = True Negative\n",
        "Actual Negative, Predicted Positive = False Positive\n",
        "Actual Positive, Predicted Negative = False Negative\n",
        "Actual Positive, Predicted Positive = True Positive\n",
        "Precision = True Positive / (True Positive+False Positive)\n",
        "Recall = True Positive / (True Positive + False Negative)\n",
        "F1-score = 2 * ((Precision * Recall) / (Precision + Recall))\n",
        "Sedangkan akurasi adalah tingkat keakuratan model yang dibuat (prediksi) dengan data aktual\n",
        "\n",
        "\n"
      ],
      "metadata": {
        "id": "N4Sjq39gAgMA"
      }
    }
  ]
}