{
  "nbformat": 4,
  "nbformat_minor": 0,
  "metadata": {
    "colab": {
      "name": "h8dsft_Milestone1P2_timothy.ipynb",
      "provenance": [],
      "toc_visible": true
    },
    "kernelspec": {
      "name": "python3",
      "display_name": "Python 3"
    },
    "language_info": {
      "name": "python"
    }
  },
  "cells": [
    {
      "cell_type": "markdown",
      "source": [
        "# i. Perkenalan\n",
        "Nama: Timothy\n",
        "Batch: FTDS-011\n",
        "Dataset: telcom_customer_churn\n",
        "Objective: Memprediksi Customer Churn untuk sebuah perusahaan telekomunikasi"
      ],
      "metadata": {
        "id": "GQootutpx1hT"
      }
    },
    {
      "cell_type": "markdown",
      "source": [
        "# ii. Import Libraries"
      ],
      "metadata": {
        "id": "k_1a9dWEzuCH"
      }
    },
    {
      "cell_type": "code",
      "source": [
        "import pandas as pd\n",
        "import numpy as np\n",
        "import seaborn as sns\n",
        "from sklearn.model_selection import train_test_split\n",
        "import matplotlib.pyplot as plt\n",
        "from sklearn.pipeline import Pipeline, make_pipeline\n",
        "from sklearn.compose import ColumnTransformer\n",
        "from sklearn.preprocessing import OneHotEncoder, StandardScaler\n",
        "import tensorflow as tf\n",
        "from tensorflow import keras\n",
        "from tensorflow.keras.models import Sequential\n",
        "from tensorflow.keras import Input, Model\n",
        "from tensorflow.keras.layers import Dense, Dropout, Activation\n",
        "from sklearn.metrics import classification_report\n",
        "import pickle\n",
        "!pip install -q -U keras-tuner\n",
        "import keras_tuner as kt\n",
        "from tensorflow.keras import layers\n",
        "from kerastuner.tuners import RandomSearch"
      ],
      "metadata": {
        "id": "y1TUOHv7zyDY",
        "colab": {
          "base_uri": "https://localhost:8080/"
        },
        "outputId": "418c0683-1236-4300-f2c9-bf4376a80b00"
      },
      "execution_count": null,
      "outputs": [
        {
          "output_type": "stream",
          "name": "stdout",
          "text": [
            "\u001b[?25l\r\u001b[K     |██▌                             | 10 kB 24.8 MB/s eta 0:00:01\r\u001b[K     |█████                           | 20 kB 30.0 MB/s eta 0:00:01\r\u001b[K     |███████▍                        | 30 kB 32.3 MB/s eta 0:00:01\r\u001b[K     |█████████▉                      | 40 kB 19.6 MB/s eta 0:00:01\r\u001b[K     |████████████▎                   | 51 kB 14.6 MB/s eta 0:00:01\r\u001b[K     |██████████████▊                 | 61 kB 16.8 MB/s eta 0:00:01\r\u001b[K     |█████████████████▏              | 71 kB 15.4 MB/s eta 0:00:01\r\u001b[K     |███████████████████▋            | 81 kB 12.4 MB/s eta 0:00:01\r\u001b[K     |██████████████████████          | 92 kB 13.6 MB/s eta 0:00:01\r\u001b[K     |████████████████████████▌       | 102 kB 14.7 MB/s eta 0:00:01\r\u001b[K     |███████████████████████████     | 112 kB 14.7 MB/s eta 0:00:01\r\u001b[K     |█████████████████████████████▍  | 122 kB 14.7 MB/s eta 0:00:01\r\u001b[K     |███████████████████████████████▉| 133 kB 14.7 MB/s eta 0:00:01\r\u001b[K     |████████████████████████████████| 133 kB 14.7 MB/s \n",
            "\u001b[?25h"
          ]
        },
        {
          "output_type": "stream",
          "name": "stderr",
          "text": [
            "/usr/local/lib/python3.7/dist-packages/ipykernel_launcher.py:19: DeprecationWarning: `import kerastuner` is deprecated, please use `import keras_tuner`.\n"
          ]
        }
      ]
    },
    {
      "cell_type": "markdown",
      "source": [
        "# iii. Data Loading\n",
        "Data diambil dari Kaggle"
      ],
      "metadata": {
        "id": "YZrCWXKX0GBr"
      }
    },
    {
      "cell_type": "code",
      "source": [
        "from google.colab import drive\n",
        "drive.mount(\"/content/gdrive\")"
      ],
      "metadata": {
        "colab": {
          "base_uri": "https://localhost:8080/"
        },
        "id": "WrbvZ3920SbB",
        "outputId": "c2fae7a5-e77e-468e-cd67-eb0fc47aa86e"
      },
      "execution_count": null,
      "outputs": [
        {
          "output_type": "stream",
          "name": "stdout",
          "text": [
            "Mounted at /content/gdrive\n"
          ]
        }
      ]
    },
    {
      "cell_type": "code",
      "source": [
        "df = pd.read_csv('/content/gdrive/MyDrive/Dataset/WA_Fn-UseC_-Telco-Customer-Churn.csv')"
      ],
      "metadata": {
        "id": "PZLJSVHf0m_R"
      },
      "execution_count": null,
      "outputs": []
    },
    {
      "cell_type": "markdown",
      "source": [
        "# iv. Exploratory Data Analysis (EDA)"
      ],
      "metadata": {
        "id": "m0pu9iN20z7w"
      }
    },
    {
      "cell_type": "code",
      "source": [
        "df.head()"
      ],
      "metadata": {
        "colab": {
          "base_uri": "https://localhost:8080/",
          "height": 386
        },
        "id": "_KLHkD-t061H",
        "outputId": "04b67981-4df2-47bf-96e2-c71c31993529"
      },
      "execution_count": null,
      "outputs": [
        {
          "output_type": "execute_result",
          "data": {
            "text/plain": [
              "   customerID  gender  SeniorCitizen Partner Dependents  tenure PhoneService  \\\n",
              "0  7590-VHVEG  Female              0     Yes         No       1           No   \n",
              "1  5575-GNVDE    Male              0      No         No      34          Yes   \n",
              "2  3668-QPYBK    Male              0      No         No       2          Yes   \n",
              "3  7795-CFOCW    Male              0      No         No      45           No   \n",
              "4  9237-HQITU  Female              0      No         No       2          Yes   \n",
              "\n",
              "      MultipleLines InternetService OnlineSecurity  ... DeviceProtection  \\\n",
              "0  No phone service             DSL             No  ...               No   \n",
              "1                No             DSL            Yes  ...              Yes   \n",
              "2                No             DSL            Yes  ...               No   \n",
              "3  No phone service             DSL            Yes  ...              Yes   \n",
              "4                No     Fiber optic             No  ...               No   \n",
              "\n",
              "  TechSupport StreamingTV StreamingMovies        Contract PaperlessBilling  \\\n",
              "0          No          No              No  Month-to-month              Yes   \n",
              "1          No          No              No        One year               No   \n",
              "2          No          No              No  Month-to-month              Yes   \n",
              "3         Yes          No              No        One year               No   \n",
              "4          No          No              No  Month-to-month              Yes   \n",
              "\n",
              "               PaymentMethod MonthlyCharges  TotalCharges Churn  \n",
              "0           Electronic check          29.85         29.85    No  \n",
              "1               Mailed check          56.95        1889.5    No  \n",
              "2               Mailed check          53.85        108.15   Yes  \n",
              "3  Bank transfer (automatic)          42.30       1840.75    No  \n",
              "4           Electronic check          70.70        151.65   Yes  \n",
              "\n",
              "[5 rows x 21 columns]"
            ],
            "text/html": [
              "\n",
              "  <div id=\"df-04bd165c-2449-407a-b5cd-2f3fb201e833\">\n",
              "    <div class=\"colab-df-container\">\n",
              "      <div>\n",
              "<style scoped>\n",
              "    .dataframe tbody tr th:only-of-type {\n",
              "        vertical-align: middle;\n",
              "    }\n",
              "\n",
              "    .dataframe tbody tr th {\n",
              "        vertical-align: top;\n",
              "    }\n",
              "\n",
              "    .dataframe thead th {\n",
              "        text-align: right;\n",
              "    }\n",
              "</style>\n",
              "<table border=\"1\" class=\"dataframe\">\n",
              "  <thead>\n",
              "    <tr style=\"text-align: right;\">\n",
              "      <th></th>\n",
              "      <th>customerID</th>\n",
              "      <th>gender</th>\n",
              "      <th>SeniorCitizen</th>\n",
              "      <th>Partner</th>\n",
              "      <th>Dependents</th>\n",
              "      <th>tenure</th>\n",
              "      <th>PhoneService</th>\n",
              "      <th>MultipleLines</th>\n",
              "      <th>InternetService</th>\n",
              "      <th>OnlineSecurity</th>\n",
              "      <th>...</th>\n",
              "      <th>DeviceProtection</th>\n",
              "      <th>TechSupport</th>\n",
              "      <th>StreamingTV</th>\n",
              "      <th>StreamingMovies</th>\n",
              "      <th>Contract</th>\n",
              "      <th>PaperlessBilling</th>\n",
              "      <th>PaymentMethod</th>\n",
              "      <th>MonthlyCharges</th>\n",
              "      <th>TotalCharges</th>\n",
              "      <th>Churn</th>\n",
              "    </tr>\n",
              "  </thead>\n",
              "  <tbody>\n",
              "    <tr>\n",
              "      <th>0</th>\n",
              "      <td>7590-VHVEG</td>\n",
              "      <td>Female</td>\n",
              "      <td>0</td>\n",
              "      <td>Yes</td>\n",
              "      <td>No</td>\n",
              "      <td>1</td>\n",
              "      <td>No</td>\n",
              "      <td>No phone service</td>\n",
              "      <td>DSL</td>\n",
              "      <td>No</td>\n",
              "      <td>...</td>\n",
              "      <td>No</td>\n",
              "      <td>No</td>\n",
              "      <td>No</td>\n",
              "      <td>No</td>\n",
              "      <td>Month-to-month</td>\n",
              "      <td>Yes</td>\n",
              "      <td>Electronic check</td>\n",
              "      <td>29.85</td>\n",
              "      <td>29.85</td>\n",
              "      <td>No</td>\n",
              "    </tr>\n",
              "    <tr>\n",
              "      <th>1</th>\n",
              "      <td>5575-GNVDE</td>\n",
              "      <td>Male</td>\n",
              "      <td>0</td>\n",
              "      <td>No</td>\n",
              "      <td>No</td>\n",
              "      <td>34</td>\n",
              "      <td>Yes</td>\n",
              "      <td>No</td>\n",
              "      <td>DSL</td>\n",
              "      <td>Yes</td>\n",
              "      <td>...</td>\n",
              "      <td>Yes</td>\n",
              "      <td>No</td>\n",
              "      <td>No</td>\n",
              "      <td>No</td>\n",
              "      <td>One year</td>\n",
              "      <td>No</td>\n",
              "      <td>Mailed check</td>\n",
              "      <td>56.95</td>\n",
              "      <td>1889.5</td>\n",
              "      <td>No</td>\n",
              "    </tr>\n",
              "    <tr>\n",
              "      <th>2</th>\n",
              "      <td>3668-QPYBK</td>\n",
              "      <td>Male</td>\n",
              "      <td>0</td>\n",
              "      <td>No</td>\n",
              "      <td>No</td>\n",
              "      <td>2</td>\n",
              "      <td>Yes</td>\n",
              "      <td>No</td>\n",
              "      <td>DSL</td>\n",
              "      <td>Yes</td>\n",
              "      <td>...</td>\n",
              "      <td>No</td>\n",
              "      <td>No</td>\n",
              "      <td>No</td>\n",
              "      <td>No</td>\n",
              "      <td>Month-to-month</td>\n",
              "      <td>Yes</td>\n",
              "      <td>Mailed check</td>\n",
              "      <td>53.85</td>\n",
              "      <td>108.15</td>\n",
              "      <td>Yes</td>\n",
              "    </tr>\n",
              "    <tr>\n",
              "      <th>3</th>\n",
              "      <td>7795-CFOCW</td>\n",
              "      <td>Male</td>\n",
              "      <td>0</td>\n",
              "      <td>No</td>\n",
              "      <td>No</td>\n",
              "      <td>45</td>\n",
              "      <td>No</td>\n",
              "      <td>No phone service</td>\n",
              "      <td>DSL</td>\n",
              "      <td>Yes</td>\n",
              "      <td>...</td>\n",
              "      <td>Yes</td>\n",
              "      <td>Yes</td>\n",
              "      <td>No</td>\n",
              "      <td>No</td>\n",
              "      <td>One year</td>\n",
              "      <td>No</td>\n",
              "      <td>Bank transfer (automatic)</td>\n",
              "      <td>42.30</td>\n",
              "      <td>1840.75</td>\n",
              "      <td>No</td>\n",
              "    </tr>\n",
              "    <tr>\n",
              "      <th>4</th>\n",
              "      <td>9237-HQITU</td>\n",
              "      <td>Female</td>\n",
              "      <td>0</td>\n",
              "      <td>No</td>\n",
              "      <td>No</td>\n",
              "      <td>2</td>\n",
              "      <td>Yes</td>\n",
              "      <td>No</td>\n",
              "      <td>Fiber optic</td>\n",
              "      <td>No</td>\n",
              "      <td>...</td>\n",
              "      <td>No</td>\n",
              "      <td>No</td>\n",
              "      <td>No</td>\n",
              "      <td>No</td>\n",
              "      <td>Month-to-month</td>\n",
              "      <td>Yes</td>\n",
              "      <td>Electronic check</td>\n",
              "      <td>70.70</td>\n",
              "      <td>151.65</td>\n",
              "      <td>Yes</td>\n",
              "    </tr>\n",
              "  </tbody>\n",
              "</table>\n",
              "<p>5 rows × 21 columns</p>\n",
              "</div>\n",
              "      <button class=\"colab-df-convert\" onclick=\"convertToInteractive('df-04bd165c-2449-407a-b5cd-2f3fb201e833')\"\n",
              "              title=\"Convert this dataframe to an interactive table.\"\n",
              "              style=\"display:none;\">\n",
              "        \n",
              "  <svg xmlns=\"http://www.w3.org/2000/svg\" height=\"24px\"viewBox=\"0 0 24 24\"\n",
              "       width=\"24px\">\n",
              "    <path d=\"M0 0h24v24H0V0z\" fill=\"none\"/>\n",
              "    <path d=\"M18.56 5.44l.94 2.06.94-2.06 2.06-.94-2.06-.94-.94-2.06-.94 2.06-2.06.94zm-11 1L8.5 8.5l.94-2.06 2.06-.94-2.06-.94L8.5 2.5l-.94 2.06-2.06.94zm10 10l.94 2.06.94-2.06 2.06-.94-2.06-.94-.94-2.06-.94 2.06-2.06.94z\"/><path d=\"M17.41 7.96l-1.37-1.37c-.4-.4-.92-.59-1.43-.59-.52 0-1.04.2-1.43.59L10.3 9.45l-7.72 7.72c-.78.78-.78 2.05 0 2.83L4 21.41c.39.39.9.59 1.41.59.51 0 1.02-.2 1.41-.59l7.78-7.78 2.81-2.81c.8-.78.8-2.07 0-2.86zM5.41 20L4 18.59l7.72-7.72 1.47 1.35L5.41 20z\"/>\n",
              "  </svg>\n",
              "      </button>\n",
              "      \n",
              "  <style>\n",
              "    .colab-df-container {\n",
              "      display:flex;\n",
              "      flex-wrap:wrap;\n",
              "      gap: 12px;\n",
              "    }\n",
              "\n",
              "    .colab-df-convert {\n",
              "      background-color: #E8F0FE;\n",
              "      border: none;\n",
              "      border-radius: 50%;\n",
              "      cursor: pointer;\n",
              "      display: none;\n",
              "      fill: #1967D2;\n",
              "      height: 32px;\n",
              "      padding: 0 0 0 0;\n",
              "      width: 32px;\n",
              "    }\n",
              "\n",
              "    .colab-df-convert:hover {\n",
              "      background-color: #E2EBFA;\n",
              "      box-shadow: 0px 1px 2px rgba(60, 64, 67, 0.3), 0px 1px 3px 1px rgba(60, 64, 67, 0.15);\n",
              "      fill: #174EA6;\n",
              "    }\n",
              "\n",
              "    [theme=dark] .colab-df-convert {\n",
              "      background-color: #3B4455;\n",
              "      fill: #D2E3FC;\n",
              "    }\n",
              "\n",
              "    [theme=dark] .colab-df-convert:hover {\n",
              "      background-color: #434B5C;\n",
              "      box-shadow: 0px 1px 3px 1px rgba(0, 0, 0, 0.15);\n",
              "      filter: drop-shadow(0px 1px 2px rgba(0, 0, 0, 0.3));\n",
              "      fill: #FFFFFF;\n",
              "    }\n",
              "  </style>\n",
              "\n",
              "      <script>\n",
              "        const buttonEl =\n",
              "          document.querySelector('#df-04bd165c-2449-407a-b5cd-2f3fb201e833 button.colab-df-convert');\n",
              "        buttonEl.style.display =\n",
              "          google.colab.kernel.accessAllowed ? 'block' : 'none';\n",
              "\n",
              "        async function convertToInteractive(key) {\n",
              "          const element = document.querySelector('#df-04bd165c-2449-407a-b5cd-2f3fb201e833');\n",
              "          const dataTable =\n",
              "            await google.colab.kernel.invokeFunction('convertToInteractive',\n",
              "                                                     [key], {});\n",
              "          if (!dataTable) return;\n",
              "\n",
              "          const docLinkHtml = 'Like what you see? Visit the ' +\n",
              "            '<a target=\"_blank\" href=https://colab.research.google.com/notebooks/data_table.ipynb>data table notebook</a>'\n",
              "            + ' to learn more about interactive tables.';\n",
              "          element.innerHTML = '';\n",
              "          dataTable['output_type'] = 'display_data';\n",
              "          await google.colab.output.renderOutput(dataTable, element);\n",
              "          const docLink = document.createElement('div');\n",
              "          docLink.innerHTML = docLinkHtml;\n",
              "          element.appendChild(docLink);\n",
              "        }\n",
              "      </script>\n",
              "    </div>\n",
              "  </div>\n",
              "  "
            ]
          },
          "metadata": {},
          "execution_count": 4
        }
      ]
    },
    {
      "cell_type": "code",
      "source": [
        "df.shape"
      ],
      "metadata": {
        "colab": {
          "base_uri": "https://localhost:8080/"
        },
        "id": "gibLgmAC1VX2",
        "outputId": "7f97dffd-7c40-430a-e17e-fc65ee2a3bba"
      },
      "execution_count": null,
      "outputs": [
        {
          "output_type": "execute_result",
          "data": {
            "text/plain": [
              "(7043, 21)"
            ]
          },
          "metadata": {},
          "execution_count": 5
        }
      ]
    },
    {
      "cell_type": "code",
      "source": [
        "df.info()"
      ],
      "metadata": {
        "colab": {
          "base_uri": "https://localhost:8080/"
        },
        "id": "3PZznGyF1ZL2",
        "outputId": "8a39bd10-0d7a-4ab5-fee8-080d2c0ca912"
      },
      "execution_count": null,
      "outputs": [
        {
          "output_type": "stream",
          "name": "stdout",
          "text": [
            "<class 'pandas.core.frame.DataFrame'>\n",
            "RangeIndex: 7043 entries, 0 to 7042\n",
            "Data columns (total 21 columns):\n",
            " #   Column            Non-Null Count  Dtype  \n",
            "---  ------            --------------  -----  \n",
            " 0   customerID        7043 non-null   object \n",
            " 1   gender            7043 non-null   object \n",
            " 2   SeniorCitizen     7043 non-null   int64  \n",
            " 3   Partner           7043 non-null   object \n",
            " 4   Dependents        7043 non-null   object \n",
            " 5   tenure            7043 non-null   int64  \n",
            " 6   PhoneService      7043 non-null   object \n",
            " 7   MultipleLines     7043 non-null   object \n",
            " 8   InternetService   7043 non-null   object \n",
            " 9   OnlineSecurity    7043 non-null   object \n",
            " 10  OnlineBackup      7043 non-null   object \n",
            " 11  DeviceProtection  7043 non-null   object \n",
            " 12  TechSupport       7043 non-null   object \n",
            " 13  StreamingTV       7043 non-null   object \n",
            " 14  StreamingMovies   7043 non-null   object \n",
            " 15  Contract          7043 non-null   object \n",
            " 16  PaperlessBilling  7043 non-null   object \n",
            " 17  PaymentMethod     7043 non-null   object \n",
            " 18  MonthlyCharges    7043 non-null   float64\n",
            " 19  TotalCharges      7043 non-null   object \n",
            " 20  Churn             7043 non-null   object \n",
            "dtypes: float64(1), int64(2), object(18)\n",
            "memory usage: 1.1+ MB\n"
          ]
        }
      ]
    },
    {
      "cell_type": "markdown",
      "source": [
        "## Feature Info\n",
        "1. Customers who left within the last month – the column is called Churn\n",
        "2. Services that each customer has signed up for – phone, multiple lines, internet, online security, online backup, device protection, tech support, and streaming TV and movies\n",
        "3. Customer account information – how long they’ve been a customer, contract, payment method, paperless billing, monthly charges, and total charges\n",
        "4. \n",
        "Demographic info about customers – gender, age range, and if they have partners and dependents\n",
        "\n"
      ],
      "metadata": {
        "id": "eOcyfIyG4FLO"
      }
    },
    {
      "cell_type": "code",
      "source": [
        "## Turn Churn feature into number\n",
        "df['Churn'].replace(to_replace='Yes', value=1, inplace=True)\n",
        "df['Churn'].replace(to_replace='No',  value=0, inplace=True)"
      ],
      "metadata": {
        "id": "f_rb5kdl1uAk"
      },
      "execution_count": null,
      "outputs": []
    },
    {
      "cell_type": "code",
      "source": [
        "## Turn TotalCharges Feature into float and drop n/a\n",
        "df['TotalCharges'].replace(to_replace = ' ', value= np.nan, inplace = True)\n",
        "df['TotalCharges'] = df['TotalCharges'].astype(float)\n",
        "df.dropna(axis=0, inplace=True)"
      ],
      "metadata": {
        "id": "FI3iVcszCKKD"
      },
      "execution_count": null,
      "outputs": []
    },
    {
      "cell_type": "code",
      "source": [
        "df.isnull().sum()"
      ],
      "metadata": {
        "colab": {
          "base_uri": "https://localhost:8080/"
        },
        "id": "UKTQa_jD1dYV",
        "outputId": "9cdc98c8-787b-4f70-e107-b5cd9cc9c582"
      },
      "execution_count": null,
      "outputs": [
        {
          "output_type": "execute_result",
          "data": {
            "text/plain": [
              "customerID          0\n",
              "gender              0\n",
              "SeniorCitizen       0\n",
              "Partner             0\n",
              "Dependents          0\n",
              "tenure              0\n",
              "PhoneService        0\n",
              "MultipleLines       0\n",
              "InternetService     0\n",
              "OnlineSecurity      0\n",
              "OnlineBackup        0\n",
              "DeviceProtection    0\n",
              "TechSupport         0\n",
              "StreamingTV         0\n",
              "StreamingMovies     0\n",
              "Contract            0\n",
              "PaperlessBilling    0\n",
              "PaymentMethod       0\n",
              "MonthlyCharges      0\n",
              "TotalCharges        0\n",
              "Churn               0\n",
              "dtype: int64"
            ]
          },
          "metadata": {},
          "execution_count": 9
        }
      ]
    },
    {
      "cell_type": "markdown",
      "source": [
        "Tidak ada missing values pada Dataset"
      ],
      "metadata": {
        "id": "HAuqh0I81f68"
      }
    },
    {
      "cell_type": "code",
      "source": [
        "sns.barplot(x=\"SeniorCitizen\",y=\"Churn\",hue=\"gender\",data=df)"
      ],
      "metadata": {
        "colab": {
          "base_uri": "https://localhost:8080/",
          "height": 296
        },
        "id": "34FlP-w-1iT7",
        "outputId": "8a6f024c-2fbf-40b3-91e9-4a31a1f935be"
      },
      "execution_count": null,
      "outputs": [
        {
          "output_type": "execute_result",
          "data": {
            "text/plain": [
              "<matplotlib.axes._subplots.AxesSubplot at 0x7fb09bfca750>"
            ]
          },
          "metadata": {},
          "execution_count": 10
        },
        {
          "output_type": "display_data",
          "data": {
            "text/plain": [
              "<Figure size 432x288 with 1 Axes>"
            ],
            "image/png": "[encoded data removed]"
          },
          "metadata": {
            "needs_background": "light"
          }
        }
      ]
    },
    {
      "cell_type": "code",
      "source": [
        "sns.barplot(x=\"SeniorCitizen\",y=\"tenure\",hue=\"gender\",data=df)"
      ],
      "metadata": {
        "colab": {
          "base_uri": "https://localhost:8080/",
          "height": 296
        },
        "id": "jzNdhECw5yZJ",
        "outputId": "98bc99b8-f638-40e2-8482-cbc9750f4325"
      },
      "execution_count": null,
      "outputs": [
        {
          "output_type": "execute_result",
          "data": {
            "text/plain": [
              "<matplotlib.axes._subplots.AxesSubplot at 0x7fb09bee52d0>"
            ]
          },
          "metadata": {},
          "execution_count": 11
        },
        {
          "output_type": "display_data",
          "data": {
            "text/plain": [
              "<Figure size 432x288 with 1 Axes>"
            ],
            "image/png": "[encoded data removed]"
          },
          "metadata": {
            "needs_background": "light"
          }
        }
      ]
    },
    {
      "cell_type": "markdown",
      "source": [
        "Jangkat waktu berlangganan customer senior citizen dengan yang tidak senior kurang lebih sama"
      ],
      "metadata": {
        "id": "PUtEs-Eu555E"
      }
    },
    {
      "cell_type": "markdown",
      "source": [
        "Melalui figur atau barplot diatas dapat disimpulkan bahwa female senior citizen lebih cenderung untuk Churn"
      ],
      "metadata": {
        "id": "GOxYxG0w3kc7"
      }
    },
    {
      "cell_type": "code",
      "source": [
        "sns.barplot(x=\"SeniorCitizen\",y=\"Churn\",hue=\"PhoneService\",data=df)"
      ],
      "metadata": {
        "colab": {
          "base_uri": "https://localhost:8080/",
          "height": 296
        },
        "id": "96gAzhTV3j9t",
        "outputId": "d43f9dd3-6325-40ea-c482-a1ce90d92236"
      },
      "execution_count": null,
      "outputs": [
        {
          "output_type": "execute_result",
          "data": {
            "text/plain": [
              "<matplotlib.axes._subplots.AxesSubplot at 0x7fb09b9b3fd0>"
            ]
          },
          "metadata": {},
          "execution_count": 12
        },
        {
          "output_type": "display_data",
          "data": {
            "text/plain": [
              "<Figure size 432x288 with 1 Axes>"
            ],
            "image/png": "[encoded data removed]"
          },
          "metadata": {
            "needs_background": "light"
          }
        }
      ]
    },
    {
      "cell_type": "markdown",
      "source": [
        "Hal tersebut juga berlaku terhadap layanan telfon"
      ],
      "metadata": {
        "id": "bgXsycIy4mEy"
      }
    },
    {
      "cell_type": "code",
      "source": [
        "sns.barplot(x=\"SeniorCitizen\",y=\"Churn\",hue=\"InternetService\",data=df)\n",
        "plt.legend(loc='center left', bbox_to_anchor=(1.00, 0.5), ncol=1)"
      ],
      "metadata": {
        "colab": {
          "base_uri": "https://localhost:8080/",
          "height": 296
        },
        "id": "GXlU5tdR4ldz",
        "outputId": "64e170e4-0beb-4442-dd67-2306e8ea6170"
      },
      "execution_count": null,
      "outputs": [
        {
          "output_type": "execute_result",
          "data": {
            "text/plain": [
              "<matplotlib.legend.Legend at 0x7fb09b9a2d90>"
            ]
          },
          "metadata": {},
          "execution_count": 13
        },
        {
          "output_type": "display_data",
          "data": {
            "text/plain": [
              "<Figure size 432x288 with 1 Axes>"
            ],
            "image/png": "[encoded data removed]"
          },
          "metadata": {
            "needs_background": "light"
          }
        }
      ]
    },
    {
      "cell_type": "markdown",
      "source": [
        "Melalui barplot diatas dapat terlihat bahwa layanan telcom dengan churn tertinggi adalah layanan internet Fiber Optic"
      ],
      "metadata": {
        "id": "hz3zWXbg4uKG"
      }
    },
    {
      "cell_type": "code",
      "source": [
        "sns.barplot(x=\"SeniorCitizen\",y=\"Churn\",hue=\"OnlineSecurity\",data=df)\n",
        "plt.legend(loc='upper left')"
      ],
      "metadata": {
        "colab": {
          "base_uri": "https://localhost:8080/",
          "height": 296
        },
        "id": "NnU_AvHm5AU5",
        "outputId": "623b4f7d-f0b2-4ce3-f451-6946da1316f6"
      },
      "execution_count": null,
      "outputs": [
        {
          "output_type": "execute_result",
          "data": {
            "text/plain": [
              "<matplotlib.legend.Legend at 0x7fb09b9b3790>"
            ]
          },
          "metadata": {},
          "execution_count": 14
        },
        {
          "output_type": "display_data",
          "data": {
            "text/plain": [
              "<Figure size 432x288 with 1 Axes>"
            ],
            "image/png": "[encoded data removed]"
          },
          "metadata": {
            "needs_background": "light"
          }
        }
      ]
    },
    {
      "cell_type": "markdown",
      "source": [
        "Banyak customer yang tidak memiliki Online Security"
      ],
      "metadata": {
        "id": "_hCE-imU5CDj"
      }
    },
    {
      "cell_type": "code",
      "source": [
        "sns.barplot(x=\"SeniorCitizen\",y=\"Churn\",hue=\"DeviceProtection\",data=df)"
      ],
      "metadata": {
        "colab": {
          "base_uri": "https://localhost:8080/",
          "height": 296
        },
        "id": "9iKCnNZ15N-0",
        "outputId": "d53c31b7-0c99-48e6-c968-6035469c49b7"
      },
      "execution_count": null,
      "outputs": [
        {
          "output_type": "execute_result",
          "data": {
            "text/plain": [
              "<matplotlib.axes._subplots.AxesSubplot at 0x7fb09b827f90>"
            ]
          },
          "metadata": {},
          "execution_count": 15
        },
        {
          "output_type": "display_data",
          "data": {
            "text/plain": [
              "<Figure size 432x288 with 1 Axes>"
            ],
            "image/png": "[encoded data removed]"
          },
          "metadata": {
            "needs_background": "light"
          }
        }
      ]
    },
    {
      "cell_type": "markdown",
      "source": [
        "Begitu juga dengan Device Protection"
      ],
      "metadata": {
        "id": "PzlI3N8k5Pne"
      }
    },
    {
      "cell_type": "markdown",
      "source": [
        "Dapat saya simpulkan, sebagian besar customer Telcom belum memiliki kesadaran yang tinggi terhadap keamanan jaringan maupun hardwarenya; Layanan internet yang kurang disukai adalah layanan internet fiber optic; Dalam tahun tersebut banyak customer yang sudah lanjut usia atau senior citizen yang berhenti berlangganan"
      ],
      "metadata": {
        "id": "s8blPSxO5Tsv"
      }
    },
    {
      "cell_type": "code",
      "source": [
        "corr = df.corr()\n",
        "\n",
        "plt.figure(figsize=(10, 5))\n",
        "sns.heatmap(corr, annot= True, vmin=0, vmax=1)\n",
        "plt.show()"
      ],
      "metadata": {
        "colab": {
          "base_uri": "https://localhost:8080/",
          "height": 324
        },
        "id": "FiLQhuV26X6d",
        "outputId": "3a39b393-64e3-43bd-cea9-9977247df141"
      },
      "execution_count": null,
      "outputs": [
        {
          "output_type": "display_data",
          "data": {
            "text/plain": [
              "<Figure size 720x360 with 2 Axes>"
            ],
            "image/png": "[encoded data removed]"
          },
          "metadata": {
            "needs_background": "light"
          }
        }
      ]
    },
    {
      "cell_type": "markdown",
      "source": [
        "Melalui heatmap dapat terlihat feature dengan korelasi tertinggi dengan target (churn) adalah Senior Citizen dan Monthly Charges"
      ],
      "metadata": {
        "id": "jYccImBn6tqb"
      }
    },
    {
      "cell_type": "code",
      "source": [
        "df.describe()"
      ],
      "metadata": {
        "colab": {
          "base_uri": "https://localhost:8080/",
          "height": 300
        },
        "id": "Ng7dFOYXJNfy",
        "outputId": "7448b44d-ccc2-4919-b04d-a5daae5a4ffc"
      },
      "execution_count": null,
      "outputs": [
        {
          "output_type": "execute_result",
          "data": {
            "text/plain": [
              "       SeniorCitizen       tenure  MonthlyCharges  TotalCharges        Churn\n",
              "count    7032.000000  7032.000000     7032.000000   7032.000000  7032.000000\n",
              "mean        0.162400    32.421786       64.798208   2283.300441     0.265785\n",
              "std         0.368844    24.545260       30.085974   2266.771362     0.441782\n",
              "min         0.000000     1.000000       18.250000     18.800000     0.000000\n",
              "25%         0.000000     9.000000       35.587500    401.450000     0.000000\n",
              "50%         0.000000    29.000000       70.350000   1397.475000     0.000000\n",
              "75%         0.000000    55.000000       89.862500   3794.737500     1.000000\n",
              "max         1.000000    72.000000      118.750000   8684.800000     1.000000"
            ],
            "text/html": [
              "\n",
              "  <div id=\"df-3afa1f4d-3e40-4297-8437-4f028eaa3f73\">\n",
              "    <div class=\"colab-df-container\">\n",
              "      <div>\n",
              "<style scoped>\n",
              "    .dataframe tbody tr th:only-of-type {\n",
              "        vertical-align: middle;\n",
              "    }\n",
              "\n",
              "    .dataframe tbody tr th {\n",
              "        vertical-align: top;\n",
              "    }\n",
              "\n",
              "    .dataframe thead th {\n",
              "        text-align: right;\n",
              "    }\n",
              "</style>\n",
              "<table border=\"1\" class=\"dataframe\">\n",
              "  <thead>\n",
              "    <tr style=\"text-align: right;\">\n",
              "      <th></th>\n",
              "      <th>SeniorCitizen</th>\n",
              "      <th>tenure</th>\n",
              "      <th>MonthlyCharges</th>\n",
              "      <th>TotalCharges</th>\n",
              "      <th>Churn</th>\n",
              "    </tr>\n",
              "  </thead>\n",
              "  <tbody>\n",
              "    <tr>\n",
              "      <th>count</th>\n",
              "      <td>7032.000000</td>\n",
              "      <td>7032.000000</td>\n",
              "      <td>7032.000000</td>\n",
              "      <td>7032.000000</td>\n",
              "      <td>7032.000000</td>\n",
              "    </tr>\n",
              "    <tr>\n",
              "      <th>mean</th>\n",
              "      <td>0.162400</td>\n",
              "      <td>32.421786</td>\n",
              "      <td>64.798208</td>\n",
              "      <td>2283.300441</td>\n",
              "      <td>0.265785</td>\n",
              "    </tr>\n",
              "    <tr>\n",
              "      <th>std</th>\n",
              "      <td>0.368844</td>\n",
              "      <td>24.545260</td>\n",
              "      <td>30.085974</td>\n",
              "      <td>2266.771362</td>\n",
              "      <td>0.441782</td>\n",
              "    </tr>\n",
              "    <tr>\n",
              "      <th>min</th>\n",
              "      <td>0.000000</td>\n",
              "      <td>1.000000</td>\n",
              "      <td>18.250000</td>\n",
              "      <td>18.800000</td>\n",
              "      <td>0.000000</td>\n",
              "    </tr>\n",
              "    <tr>\n",
              "      <th>25%</th>\n",
              "      <td>0.000000</td>\n",
              "      <td>9.000000</td>\n",
              "      <td>35.587500</td>\n",
              "      <td>401.450000</td>\n",
              "      <td>0.000000</td>\n",
              "    </tr>\n",
              "    <tr>\n",
              "      <th>50%</th>\n",
              "      <td>0.000000</td>\n",
              "      <td>29.000000</td>\n",
              "      <td>70.350000</td>\n",
              "      <td>1397.475000</td>\n",
              "      <td>0.000000</td>\n",
              "    </tr>\n",
              "    <tr>\n",
              "      <th>75%</th>\n",
              "      <td>0.000000</td>\n",
              "      <td>55.000000</td>\n",
              "      <td>89.862500</td>\n",
              "      <td>3794.737500</td>\n",
              "      <td>1.000000</td>\n",
              "    </tr>\n",
              "    <tr>\n",
              "      <th>max</th>\n",
              "      <td>1.000000</td>\n",
              "      <td>72.000000</td>\n",
              "      <td>118.750000</td>\n",
              "      <td>8684.800000</td>\n",
              "      <td>1.000000</td>\n",
              "    </tr>\n",
              "  </tbody>\n",
              "</table>\n",
              "</div>\n",
              "      <button class=\"colab-df-convert\" onclick=\"convertToInteractive('df-3afa1f4d-3e40-4297-8437-4f028eaa3f73')\"\n",
              "              title=\"Convert this dataframe to an interactive table.\"\n",
              "              style=\"display:none;\">\n",
              "        \n",
              "  <svg xmlns=\"http://www.w3.org/2000/svg\" height=\"24px\"viewBox=\"0 0 24 24\"\n",
              "       width=\"24px\">\n",
              "    <path d=\"M0 0h24v24H0V0z\" fill=\"none\"/>\n",
              "    <path d=\"M18.56 5.44l.94 2.06.94-2.06 2.06-.94-2.06-.94-.94-2.06-.94 2.06-2.06.94zm-11 1L8.5 8.5l.94-2.06 2.06-.94-2.06-.94L8.5 2.5l-.94 2.06-2.06.94zm10 10l.94 2.06.94-2.06 2.06-.94-2.06-.94-.94-2.06-.94 2.06-2.06.94z\"/><path d=\"M17.41 7.96l-1.37-1.37c-.4-.4-.92-.59-1.43-.59-.52 0-1.04.2-1.43.59L10.3 9.45l-7.72 7.72c-.78.78-.78 2.05 0 2.83L4 21.41c.39.39.9.59 1.41.59.51 0 1.02-.2 1.41-.59l7.78-7.78 2.81-2.81c.8-.78.8-2.07 0-2.86zM5.41 20L4 18.59l7.72-7.72 1.47 1.35L5.41 20z\"/>\n",
              "  </svg>\n",
              "      </button>\n",
              "      \n",
              "  <style>\n",
              "    .colab-df-container {\n",
              "      display:flex;\n",
              "      flex-wrap:wrap;\n",
              "      gap: 12px;\n",
              "    }\n",
              "\n",
              "    .colab-df-convert {\n",
              "      background-color: #E8F0FE;\n",
              "      border: none;\n",
              "      border-radius: 50%;\n",
              "      cursor: pointer;\n",
              "      display: none;\n",
              "      fill: #1967D2;\n",
              "      height: 32px;\n",
              "      padding: 0 0 0 0;\n",
              "      width: 32px;\n",
              "    }\n",
              "\n",
              "    .colab-df-convert:hover {\n",
              "      background-color: #E2EBFA;\n",
              "      box-shadow: 0px 1px 2px rgba(60, 64, 67, 0.3), 0px 1px 3px 1px rgba(60, 64, 67, 0.15);\n",
              "      fill: #174EA6;\n",
              "    }\n",
              "\n",
              "    [theme=dark] .colab-df-convert {\n",
              "      background-color: #3B4455;\n",
              "      fill: #D2E3FC;\n",
              "    }\n",
              "\n",
              "    [theme=dark] .colab-df-convert:hover {\n",
              "      background-color: #434B5C;\n",
              "      box-shadow: 0px 1px 3px 1px rgba(0, 0, 0, 0.15);\n",
              "      filter: drop-shadow(0px 1px 2px rgba(0, 0, 0, 0.3));\n",
              "      fill: #FFFFFF;\n",
              "    }\n",
              "  </style>\n",
              "\n",
              "      <script>\n",
              "        const buttonEl =\n",
              "          document.querySelector('#df-3afa1f4d-3e40-4297-8437-4f028eaa3f73 button.colab-df-convert');\n",
              "        buttonEl.style.display =\n",
              "          google.colab.kernel.accessAllowed ? 'block' : 'none';\n",
              "\n",
              "        async function convertToInteractive(key) {\n",
              "          const element = document.querySelector('#df-3afa1f4d-3e40-4297-8437-4f028eaa3f73');\n",
              "          const dataTable =\n",
              "            await google.colab.kernel.invokeFunction('convertToInteractive',\n",
              "                                                     [key], {});\n",
              "          if (!dataTable) return;\n",
              "\n",
              "          const docLinkHtml = 'Like what you see? Visit the ' +\n",
              "            '<a target=\"_blank\" href=https://colab.research.google.com/notebooks/data_table.ipynb>data table notebook</a>'\n",
              "            + ' to learn more about interactive tables.';\n",
              "          element.innerHTML = '';\n",
              "          dataTable['output_type'] = 'display_data';\n",
              "          await google.colab.output.renderOutput(dataTable, element);\n",
              "          const docLink = document.createElement('div');\n",
              "          docLink.innerHTML = docLinkHtml;\n",
              "          element.appendChild(docLink);\n",
              "        }\n",
              "      </script>\n",
              "    </div>\n",
              "  </div>\n",
              "  "
            ]
          },
          "metadata": {},
          "execution_count": 17
        }
      ]
    },
    {
      "cell_type": "markdown",
      "source": [
        "# v. Data Preprocessing"
      ],
      "metadata": {
        "id": "ZfjBrGlN65vv"
      }
    },
    {
      "cell_type": "code",
      "source": [
        "## Remove customer ID\n",
        "df.drop(['customerID'], axis=1, inplace=True)"
      ],
      "metadata": {
        "id": "ZKQ7JQ3ZBra7"
      },
      "execution_count": null,
      "outputs": []
    },
    {
      "cell_type": "markdown",
      "source": [
        "## Mengubah object menjadi number/binary"
      ],
      "metadata": {
        "id": "GcnP8fRDFaYr"
      }
    },
    {
      "cell_type": "code",
      "source": [
        "df['Partner'].replace(to_replace='Yes', value=1, inplace=True)\n",
        "df['Partner'].replace(to_replace='No',  value=0, inplace=True)"
      ],
      "metadata": {
        "id": "zlM5dEM5EefF"
      },
      "execution_count": null,
      "outputs": []
    },
    {
      "cell_type": "code",
      "source": [
        "df['Dependents'].replace(to_replace='Yes', value=1, inplace=True)\n",
        "df['Dependents'].replace(to_replace='No',  value=0, inplace=True)"
      ],
      "metadata": {
        "id": "fiUjfiA9Fh44"
      },
      "execution_count": null,
      "outputs": []
    },
    {
      "cell_type": "code",
      "source": [
        "df['PhoneService'].replace(to_replace='Yes', value=1, inplace=True)\n",
        "df['PhoneService'].replace(to_replace='No',  value=0, inplace=True)"
      ],
      "metadata": {
        "id": "h0NXexkrFluv"
      },
      "execution_count": null,
      "outputs": []
    },
    {
      "cell_type": "code",
      "source": [
        "df['PaperlessBilling'].replace(to_replace='Yes', value=1, inplace=True)\n",
        "df['PaperlessBilling'].replace(to_replace='No',  value=0, inplace=True)"
      ],
      "metadata": {
        "id": "RW56BpdoF2zR"
      },
      "execution_count": null,
      "outputs": []
    },
    {
      "cell_type": "markdown",
      "source": [
        "## Splitting Dataset"
      ],
      "metadata": {
        "id": "nPQ7ez8CF_cd"
      }
    },
    {
      "cell_type": "code",
      "source": [
        "X = df.drop('Churn', axis=1)\n",
        "y = df['Churn']\n",
        "\n",
        "X_train, X_test, y_train, y_test =   train_test_split(X, y, test_size=0.20, random_state=42)\n",
        "\n",
        "print(X_train.shape, X_test.shape)"
      ],
      "metadata": {
        "colab": {
          "base_uri": "https://localhost:8080/"
        },
        "id": "NmJ4lxwOF-Tr",
        "outputId": "f7c9bcbc-a409-4c84-e504-28d859640239"
      },
      "execution_count": null,
      "outputs": [
        {
          "output_type": "stream",
          "name": "stdout",
          "text": [
            "(5625, 19) (1407, 19)\n"
          ]
        }
      ]
    },
    {
      "cell_type": "markdown",
      "source": [
        "## Distribution Check"
      ],
      "metadata": {
        "id": "6oWyQXk1G8HB"
      }
    },
    {
      "cell_type": "code",
      "source": [
        "def diagnostic_plots(X_train, variable):\n",
        "    # Define figure size\n",
        "    plt.figure(figsize=(16, 4))\n",
        "\n",
        "    # Histogram\n",
        "    plt.subplot(1, 2, 1)\n",
        "    sns.histplot(X_train[variable], bins=30)\n",
        "    plt.title('Histogram')\n",
        "\n",
        "    # Boxplot\n",
        "    plt.subplot(1, 2, 2)\n",
        "    sns.boxplot(y=X_train[variable])\n",
        "    plt.title('Boxplot')\n",
        "\n",
        "    plt.show()"
      ],
      "metadata": {
        "id": "DiwmZgrqG7T6"
      },
      "execution_count": null,
      "outputs": []
    },
    {
      "cell_type": "code",
      "source": [
        "diagnostic_plots(X_train, 'tenure')\n",
        "print('\\nSkewness Value : ', X_train['tenure'].skew())"
      ],
      "metadata": {
        "colab": {
          "base_uri": "https://localhost:8080/"
        },
        "id": "TdnwvFurI2E5",
        "outputId": "4903db90-0971-4283-b6e8-a3da69330544"
      },
      "execution_count": null,
      "outputs": [
        {
          "output_type": "display_data",
          "data": {
            "text/plain": [
              "<Figure size 1152x288 with 2 Axes>"
            ],
            "image/png": "[encoded data removed]"
          },
          "metadata": {
            "needs_background": "light"
          }
        },
        {
          "output_type": "stream",
          "name": "stdout",
          "text": [
            "\n",
            "Skewness Value :  0.24201466166359398\n"
          ]
        }
      ]
    },
    {
      "cell_type": "code",
      "source": [
        "diagnostic_plots(X_train, 'MonthlyCharges')\n",
        "print('\\nSkewness Value : ', X_train['MonthlyCharges'].skew())"
      ],
      "metadata": {
        "colab": {
          "base_uri": "https://localhost:8080/"
        },
        "id": "jtJtcHEtKM7P",
        "outputId": "ea247f93-7076-4de3-c042-a927a895f375"
      },
      "execution_count": null,
      "outputs": [
        {
          "output_type": "display_data",
          "data": {
            "text/plain": [
              "<Figure size 1152x288 with 2 Axes>"
            ],
            "image/png": "[encoded data removed]"
          },
          "metadata": {
            "needs_background": "light"
          }
        },
        {
          "output_type": "stream",
          "name": "stdout",
          "text": [
            "\n",
            "Skewness Value :  -0.21790770281925442\n"
          ]
        }
      ]
    },
    {
      "cell_type": "markdown",
      "source": [
        "Tenure dan MonthlyCharges adalah 2 feature numerical dari X_train dan keduanya terdistribusi normal"
      ],
      "metadata": {
        "id": "P5-WrGyoKnhP"
      }
    },
    {
      "cell_type": "code",
      "source": [
        "## Splitting Dataset untuk mendapatkan X_val dan y_val\n",
        "X_train, X_val, y_train, y_val = train_test_split(X_train, y_train, test_size=0.1, random_state=42)"
      ],
      "metadata": {
        "id": "BFlisL4pLHcc"
      },
      "execution_count": null,
      "outputs": []
    },
    {
      "cell_type": "markdown",
      "source": [
        "## Feature Engineering\n",
        "num_col adalah feature dengan nilai numerikal yang akan diproses menggunakan Standard Scaler\n",
        "cat_col adalah feature kategorical yang perlu di encode menggunakan OneHotEncoder"
      ],
      "metadata": {
        "id": "adEU-bz7OlSm"
      }
    },
    {
      "cell_type": "code",
      "source": [
        "num_col = ['tenure', 'MonthlyCharges', 'TotalCharges']\n",
        "cat_col = ['PaymentMethod', 'Contract', 'InternetService']\n",
        "\n",
        "num_pipeline = make_pipeline(StandardScaler())\n",
        "\n",
        "cat_pipeline = make_pipeline(OneHotEncoder())\n",
        "\n",
        "data_pipeline = ColumnTransformer([\n",
        "    ('pipe_num', num_pipeline, num_col),\n",
        "    ('pipe_cat', cat_pipeline, cat_col)\n",
        "])"
      ],
      "metadata": {
        "id": "xuGuhp3JLF76"
      },
      "execution_count": null,
      "outputs": []
    },
    {
      "cell_type": "code",
      "source": [
        "X_train = data_pipeline.fit_transform(X_train)\n",
        "X_val = data_pipeline.transform(X_val)\n",
        "X_test = data_pipeline.transform(X_test)"
      ],
      "metadata": {
        "id": "-pwS8TzzPtca"
      },
      "execution_count": null,
      "outputs": []
    },
    {
      "cell_type": "code",
      "source": [
        "X_train = np.array(X_train)\n",
        "y_train = np.array(y_train)\n",
        "X_test = np.array(X_test)\n",
        "y_test = np.array(y_test)\n",
        "\n",
        "input_shape = X_train.shape[1]"
      ],
      "metadata": {
        "id": "p4rPDJtrWFrv"
      },
      "execution_count": null,
      "outputs": []
    },
    {
      "cell_type": "markdown",
      "source": [
        "## Buat Arsitektur ANN (Sequential)"
      ],
      "metadata": {
        "id": "GJP8JZ8AU5jK"
      }
    },
    {
      "cell_type": "code",
      "source": [
        "model = Sequential()\n",
        "model.add(Dense(128, input_dim=input_shape, kernel_initializer='uniform', activation='relu'))\n",
        "model.add(Dropout(0.7))\n",
        "model.add(Dense(64, activation='relu'))\n",
        "model.add(Dropout(0.5))\n",
        "model.add(Dense(32, activation='relu'))\n",
        "model.add(Dropout(0.2))\n",
        "model.add(Dense(1, activation='sigmoid'))\n",
        "\n",
        "\n",
        "\n",
        "model.compile(loss='binary_crossentropy',\n",
        "              optimizer='adam',\n",
        "              metrics=['accuracy'])"
      ],
      "metadata": {
        "id": "0jhPe4R6U8Vs"
      },
      "execution_count": null,
      "outputs": []
    },
    {
      "cell_type": "markdown",
      "source": [
        "Notes:\n",
        "\n",
        "1. binary_crossentropy: Used as a loss function for binary classification model. The binary_crossentropy function computes the cross-entropy loss between true labels and predicted labels.\n",
        "2. Adam optimization is a stochastic gradient descent method that is based on adaptive estimation of first-order and second-order moments. According to Kingma et al., 2014, the method is \"computationally efficient, has little memory requirement, invariant to diagonal rescaling of gradients, and is well suited for problems that are large in terms of data/parameters\".\n",
        "3. The term kernel_initializer is a fancy term for which statistical distribution or function to use for initialising the weights. In case of statistical distribution, the library will generate numbers from that statistical distribution and use as starting weights.\n"
      ],
      "metadata": {
        "id": "uNdKDzv0X4RH"
      }
    },
    {
      "cell_type": "markdown",
      "source": [
        "## Functional API"
      ],
      "metadata": {
        "id": "kmF2kPaYnoLP"
      }
    },
    {
      "cell_type": "code",
      "source": [
        "inputs = keras.Input(input_shape)\n",
        "Layer_1 = Dense(128, activation=\"relu\")(inputs)\n",
        "Layer_1 = Dropout(0.7)(Layer_1)\n",
        "Layer_2 = Dense(64, activation=\"relu\")(Layer_1)\n",
        "Layer_2 = Dropout(0.5)(Layer_2)\n",
        "Layer_3 = Dense(32, activation=\"relu\")(Layer_2)\n",
        "Layer_3 = Dropout(0.5)(Layer_3) \n",
        "output_layer= Dense(1, activation=\"sigmoid\")(Layer_3)\n",
        "\n",
        "model2 = Model(inputs=inputs, outputs=output_layer)\n",
        "\n",
        "model2.compile(loss='binary_crossentropy',\n",
        "              optimizer='adam',\n",
        "              metrics=['accuracy'])"
      ],
      "metadata": {
        "id": "vI2O5-EAzuYq"
      },
      "execution_count": null,
      "outputs": []
    },
    {
      "cell_type": "code",
      "source": [
        "history2 = model2.fit(X_train, y_train, epochs=100, validation_data=(X_val, y_val))"
      ],
      "metadata": {
        "colab": {
          "base_uri": "https://localhost:8080/"
        },
        "id": "u2vjk-zo3hMD",
        "outputId": "47e3628e-6d59-486c-b709-610341334ada"
      },
      "execution_count": null,
      "outputs": [
        {
          "output_type": "stream",
          "name": "stdout",
          "text": [
            "Epoch 1/100\n",
            "159/159 [==============================] - 2s 5ms/step - loss: 0.5355 - accuracy: 0.7317 - val_loss: 0.4668 - val_accuracy: 0.7691\n",
            "Epoch 2/100\n",
            "159/159 [==============================] - 1s 5ms/step - loss: 0.4721 - accuracy: 0.7631 - val_loss: 0.4505 - val_accuracy: 0.7691\n",
            "Epoch 3/100\n",
            "159/159 [==============================] - 1s 5ms/step - loss: 0.4635 - accuracy: 0.7667 - val_loss: 0.4537 - val_accuracy: 0.7655\n",
            "Epoch 4/100\n",
            "159/159 [==============================] - 1s 6ms/step - loss: 0.4561 - accuracy: 0.7720 - val_loss: 0.4500 - val_accuracy: 0.7709\n",
            "Epoch 5/100\n",
            "159/159 [==============================] - 1s 5ms/step - loss: 0.4517 - accuracy: 0.7801 - val_loss: 0.4482 - val_accuracy: 0.7780\n",
            "Epoch 6/100\n",
            "159/159 [==============================] - 1s 6ms/step - loss: 0.4503 - accuracy: 0.7803 - val_loss: 0.4457 - val_accuracy: 0.7869\n",
            "Epoch 7/100\n",
            "159/159 [==============================] - 1s 5ms/step - loss: 0.4500 - accuracy: 0.7835 - val_loss: 0.4458 - val_accuracy: 0.7922\n",
            "Epoch 8/100\n",
            "159/159 [==============================] - 1s 5ms/step - loss: 0.4499 - accuracy: 0.7815 - val_loss: 0.4540 - val_accuracy: 0.7833\n",
            "Epoch 9/100\n",
            "159/159 [==============================] - 1s 6ms/step - loss: 0.4432 - accuracy: 0.7888 - val_loss: 0.4431 - val_accuracy: 0.7833\n",
            "Epoch 10/100\n",
            "159/159 [==============================] - 1s 5ms/step - loss: 0.4474 - accuracy: 0.7898 - val_loss: 0.4467 - val_accuracy: 0.7762\n",
            "Epoch 11/100\n",
            "159/159 [==============================] - 1s 5ms/step - loss: 0.4450 - accuracy: 0.7914 - val_loss: 0.4447 - val_accuracy: 0.7780\n",
            "Epoch 12/100\n",
            "159/159 [==============================] - 1s 5ms/step - loss: 0.4431 - accuracy: 0.7900 - val_loss: 0.4421 - val_accuracy: 0.7762\n",
            "Epoch 13/100\n",
            "159/159 [==============================] - 1s 6ms/step - loss: 0.4450 - accuracy: 0.7918 - val_loss: 0.4433 - val_accuracy: 0.7798\n",
            "Epoch 14/100\n",
            "159/159 [==============================] - 1s 6ms/step - loss: 0.4366 - accuracy: 0.7951 - val_loss: 0.4486 - val_accuracy: 0.7798\n",
            "Epoch 15/100\n",
            "159/159 [==============================] - 1s 6ms/step - loss: 0.4335 - accuracy: 0.7934 - val_loss: 0.4381 - val_accuracy: 0.7869\n",
            "Epoch 16/100\n",
            "159/159 [==============================] - 1s 5ms/step - loss: 0.4356 - accuracy: 0.7910 - val_loss: 0.4399 - val_accuracy: 0.7851\n",
            "Epoch 17/100\n",
            "159/159 [==============================] - 1s 6ms/step - loss: 0.4328 - accuracy: 0.7928 - val_loss: 0.4348 - val_accuracy: 0.7904\n",
            "Epoch 18/100\n",
            "159/159 [==============================] - 1s 6ms/step - loss: 0.4346 - accuracy: 0.7928 - val_loss: 0.4410 - val_accuracy: 0.7904\n",
            "Epoch 19/100\n",
            "159/159 [==============================] - 1s 6ms/step - loss: 0.4349 - accuracy: 0.7938 - val_loss: 0.4423 - val_accuracy: 0.7886\n",
            "Epoch 20/100\n",
            "159/159 [==============================] - 2s 10ms/step - loss: 0.4387 - accuracy: 0.7930 - val_loss: 0.4381 - val_accuracy: 0.7833\n",
            "Epoch 21/100\n",
            "159/159 [==============================] - 2s 10ms/step - loss: 0.4324 - accuracy: 0.7936 - val_loss: 0.4373 - val_accuracy: 0.7869\n",
            "Epoch 22/100\n",
            "159/159 [==============================] - 2s 11ms/step - loss: 0.4377 - accuracy: 0.7936 - val_loss: 0.4403 - val_accuracy: 0.7869\n",
            "Epoch 23/100\n",
            "159/159 [==============================] - 1s 7ms/step - loss: 0.4396 - accuracy: 0.7932 - val_loss: 0.4407 - val_accuracy: 0.7869\n",
            "Epoch 24/100\n",
            "159/159 [==============================] - 1s 6ms/step - loss: 0.4365 - accuracy: 0.7861 - val_loss: 0.4363 - val_accuracy: 0.7815\n",
            "Epoch 25/100\n",
            "159/159 [==============================] - 1s 5ms/step - loss: 0.4372 - accuracy: 0.7971 - val_loss: 0.4380 - val_accuracy: 0.7815\n",
            "Epoch 26/100\n",
            "159/159 [==============================] - 1s 5ms/step - loss: 0.4347 - accuracy: 0.7985 - val_loss: 0.4408 - val_accuracy: 0.7886\n",
            "Epoch 27/100\n",
            "159/159 [==============================] - 1s 6ms/step - loss: 0.4347 - accuracy: 0.7979 - val_loss: 0.4326 - val_accuracy: 0.7886\n",
            "Epoch 28/100\n",
            "159/159 [==============================] - 1s 7ms/step - loss: 0.4350 - accuracy: 0.7965 - val_loss: 0.4349 - val_accuracy: 0.7780\n",
            "Epoch 29/100\n",
            "159/159 [==============================] - 1s 6ms/step - loss: 0.4299 - accuracy: 0.7965 - val_loss: 0.4359 - val_accuracy: 0.7833\n",
            "Epoch 30/100\n",
            "159/159 [==============================] - 1s 5ms/step - loss: 0.4282 - accuracy: 0.7979 - val_loss: 0.4369 - val_accuracy: 0.7851\n",
            "Epoch 31/100\n",
            "159/159 [==============================] - 1s 6ms/step - loss: 0.4302 - accuracy: 0.8001 - val_loss: 0.4374 - val_accuracy: 0.7833\n",
            "Epoch 32/100\n",
            "159/159 [==============================] - 1s 5ms/step - loss: 0.4302 - accuracy: 0.7989 - val_loss: 0.4357 - val_accuracy: 0.7798\n",
            "Epoch 33/100\n",
            "159/159 [==============================] - 1s 5ms/step - loss: 0.4302 - accuracy: 0.7951 - val_loss: 0.4385 - val_accuracy: 0.7869\n",
            "Epoch 34/100\n",
            "159/159 [==============================] - 1s 5ms/step - loss: 0.4305 - accuracy: 0.7971 - val_loss: 0.4330 - val_accuracy: 0.7869\n",
            "Epoch 35/100\n",
            "159/159 [==============================] - 1s 6ms/step - loss: 0.4280 - accuracy: 0.7973 - val_loss: 0.4333 - val_accuracy: 0.7851\n",
            "Epoch 36/100\n",
            "159/159 [==============================] - 1s 6ms/step - loss: 0.4297 - accuracy: 0.7987 - val_loss: 0.4343 - val_accuracy: 0.7815\n",
            "Epoch 37/100\n",
            "159/159 [==============================] - 1s 6ms/step - loss: 0.4352 - accuracy: 0.7947 - val_loss: 0.4365 - val_accuracy: 0.7833\n",
            "Epoch 38/100\n",
            "159/159 [==============================] - 1s 6ms/step - loss: 0.4265 - accuracy: 0.8007 - val_loss: 0.4323 - val_accuracy: 0.7851\n",
            "Epoch 39/100\n",
            "159/159 [==============================] - 1s 5ms/step - loss: 0.4277 - accuracy: 0.8017 - val_loss: 0.4350 - val_accuracy: 0.7833\n",
            "Epoch 40/100\n",
            "159/159 [==============================] - 1s 5ms/step - loss: 0.4279 - accuracy: 0.7957 - val_loss: 0.4332 - val_accuracy: 0.7869\n",
            "Epoch 41/100\n",
            "159/159 [==============================] - 1s 5ms/step - loss: 0.4289 - accuracy: 0.7942 - val_loss: 0.4381 - val_accuracy: 0.7798\n",
            "Epoch 42/100\n",
            "159/159 [==============================] - 1s 5ms/step - loss: 0.4242 - accuracy: 0.8036 - val_loss: 0.4324 - val_accuracy: 0.7851\n",
            "Epoch 43/100\n",
            "159/159 [==============================] - 1s 4ms/step - loss: 0.4351 - accuracy: 0.7930 - val_loss: 0.4379 - val_accuracy: 0.7815\n",
            "Epoch 44/100\n",
            "159/159 [==============================] - 0s 3ms/step - loss: 0.4281 - accuracy: 0.7969 - val_loss: 0.4386 - val_accuracy: 0.7851\n",
            "Epoch 45/100\n",
            "159/159 [==============================] - 0s 3ms/step - loss: 0.4286 - accuracy: 0.8005 - val_loss: 0.4321 - val_accuracy: 0.7886\n",
            "Epoch 46/100\n",
            "159/159 [==============================] - 0s 3ms/step - loss: 0.4320 - accuracy: 0.7928 - val_loss: 0.4324 - val_accuracy: 0.7780\n",
            "Epoch 47/100\n",
            "159/159 [==============================] - 0s 3ms/step - loss: 0.4265 - accuracy: 0.7991 - val_loss: 0.4310 - val_accuracy: 0.7886\n",
            "Epoch 48/100\n",
            "159/159 [==============================] - 0s 2ms/step - loss: 0.4293 - accuracy: 0.7983 - val_loss: 0.4334 - val_accuracy: 0.7904\n",
            "Epoch 49/100\n",
            "159/159 [==============================] - 1s 3ms/step - loss: 0.4247 - accuracy: 0.7991 - val_loss: 0.4344 - val_accuracy: 0.7886\n",
            "Epoch 50/100\n",
            "159/159 [==============================] - 0s 3ms/step - loss: 0.4300 - accuracy: 0.7963 - val_loss: 0.4348 - val_accuracy: 0.7851\n",
            "Epoch 51/100\n",
            "159/159 [==============================] - 0s 3ms/step - loss: 0.4299 - accuracy: 0.7971 - val_loss: 0.4296 - val_accuracy: 0.7815\n",
            "Epoch 52/100\n",
            "159/159 [==============================] - 0s 3ms/step - loss: 0.4233 - accuracy: 0.8001 - val_loss: 0.4296 - val_accuracy: 0.7851\n",
            "Epoch 53/100\n",
            "159/159 [==============================] - 0s 3ms/step - loss: 0.4261 - accuracy: 0.8001 - val_loss: 0.4307 - val_accuracy: 0.7886\n",
            "Epoch 54/100\n",
            "159/159 [==============================] - 0s 3ms/step - loss: 0.4268 - accuracy: 0.7949 - val_loss: 0.4348 - val_accuracy: 0.7815\n",
            "Epoch 55/100\n",
            "159/159 [==============================] - 0s 3ms/step - loss: 0.4281 - accuracy: 0.7989 - val_loss: 0.4387 - val_accuracy: 0.7922\n",
            "Epoch 56/100\n",
            "159/159 [==============================] - 0s 3ms/step - loss: 0.4259 - accuracy: 0.7971 - val_loss: 0.4333 - val_accuracy: 0.7762\n",
            "Epoch 57/100\n",
            "159/159 [==============================] - 0s 3ms/step - loss: 0.4242 - accuracy: 0.7940 - val_loss: 0.4311 - val_accuracy: 0.7851\n",
            "Epoch 58/100\n",
            "159/159 [==============================] - 0s 2ms/step - loss: 0.4324 - accuracy: 0.7932 - val_loss: 0.4333 - val_accuracy: 0.7851\n",
            "Epoch 59/100\n",
            "159/159 [==============================] - 0s 3ms/step - loss: 0.4238 - accuracy: 0.7967 - val_loss: 0.4304 - val_accuracy: 0.7851\n",
            "Epoch 60/100\n",
            "159/159 [==============================] - 0s 3ms/step - loss: 0.4297 - accuracy: 0.7969 - val_loss: 0.4305 - val_accuracy: 0.7869\n",
            "Epoch 61/100\n",
            "159/159 [==============================] - 0s 3ms/step - loss: 0.4272 - accuracy: 0.7991 - val_loss: 0.4379 - val_accuracy: 0.7940\n",
            "Epoch 62/100\n",
            "159/159 [==============================] - 0s 3ms/step - loss: 0.4250 - accuracy: 0.7936 - val_loss: 0.4331 - val_accuracy: 0.7957\n",
            "Epoch 63/100\n",
            "159/159 [==============================] - 0s 3ms/step - loss: 0.4299 - accuracy: 0.7920 - val_loss: 0.4365 - val_accuracy: 0.7833\n",
            "Epoch 64/100\n",
            "159/159 [==============================] - 0s 3ms/step - loss: 0.4290 - accuracy: 0.7942 - val_loss: 0.4311 - val_accuracy: 0.7886\n",
            "Epoch 65/100\n",
            "159/159 [==============================] - 0s 3ms/step - loss: 0.4264 - accuracy: 0.7985 - val_loss: 0.4322 - val_accuracy: 0.7869\n",
            "Epoch 66/100\n",
            "159/159 [==============================] - 0s 3ms/step - loss: 0.4297 - accuracy: 0.7997 - val_loss: 0.4333 - val_accuracy: 0.7851\n",
            "Epoch 67/100\n",
            "159/159 [==============================] - 0s 3ms/step - loss: 0.4245 - accuracy: 0.7973 - val_loss: 0.4337 - val_accuracy: 0.7851\n",
            "Epoch 68/100\n",
            "159/159 [==============================] - 0s 3ms/step - loss: 0.4279 - accuracy: 0.7963 - val_loss: 0.4325 - val_accuracy: 0.7904\n",
            "Epoch 69/100\n",
            "159/159 [==============================] - 0s 3ms/step - loss: 0.4267 - accuracy: 0.7951 - val_loss: 0.4329 - val_accuracy: 0.7922\n",
            "Epoch 70/100\n",
            "159/159 [==============================] - 0s 3ms/step - loss: 0.4284 - accuracy: 0.7959 - val_loss: 0.4337 - val_accuracy: 0.7869\n",
            "Epoch 71/100\n",
            "159/159 [==============================] - 0s 3ms/step - loss: 0.4243 - accuracy: 0.7959 - val_loss: 0.4292 - val_accuracy: 0.7851\n",
            "Epoch 72/100\n",
            "159/159 [==============================] - 0s 3ms/step - loss: 0.4301 - accuracy: 0.7951 - val_loss: 0.4339 - val_accuracy: 0.7869\n",
            "Epoch 73/100\n",
            "159/159 [==============================] - 0s 3ms/step - loss: 0.4283 - accuracy: 0.7951 - val_loss: 0.4287 - val_accuracy: 0.7886\n",
            "Epoch 74/100\n",
            "159/159 [==============================] - 0s 3ms/step - loss: 0.4289 - accuracy: 0.7995 - val_loss: 0.4341 - val_accuracy: 0.7851\n",
            "Epoch 75/100\n",
            "159/159 [==============================] - 0s 3ms/step - loss: 0.4246 - accuracy: 0.7949 - val_loss: 0.4319 - val_accuracy: 0.7833\n",
            "Epoch 76/100\n",
            "159/159 [==============================] - 0s 3ms/step - loss: 0.4305 - accuracy: 0.7910 - val_loss: 0.4312 - val_accuracy: 0.7833\n",
            "Epoch 77/100\n",
            "159/159 [==============================] - 0s 3ms/step - loss: 0.4221 - accuracy: 0.8030 - val_loss: 0.4270 - val_accuracy: 0.7851\n",
            "Epoch 78/100\n",
            "159/159 [==============================] - 0s 3ms/step - loss: 0.4267 - accuracy: 0.8021 - val_loss: 0.4298 - val_accuracy: 0.7886\n",
            "Epoch 79/100\n",
            "159/159 [==============================] - 0s 3ms/step - loss: 0.4232 - accuracy: 0.8011 - val_loss: 0.4347 - val_accuracy: 0.7886\n",
            "Epoch 80/100\n",
            "159/159 [==============================] - 0s 3ms/step - loss: 0.4277 - accuracy: 0.7969 - val_loss: 0.4335 - val_accuracy: 0.7833\n",
            "Epoch 81/100\n",
            "159/159 [==============================] - 0s 2ms/step - loss: 0.4199 - accuracy: 0.7973 - val_loss: 0.4315 - val_accuracy: 0.7869\n",
            "Epoch 82/100\n",
            "159/159 [==============================] - 0s 3ms/step - loss: 0.4273 - accuracy: 0.8023 - val_loss: 0.4301 - val_accuracy: 0.7869\n",
            "Epoch 83/100\n",
            "159/159 [==============================] - 0s 3ms/step - loss: 0.4283 - accuracy: 0.7975 - val_loss: 0.4314 - val_accuracy: 0.7886\n",
            "Epoch 84/100\n",
            "159/159 [==============================] - 0s 3ms/step - loss: 0.4268 - accuracy: 0.7945 - val_loss: 0.4324 - val_accuracy: 0.7833\n",
            "Epoch 85/100\n",
            "159/159 [==============================] - 0s 3ms/step - loss: 0.4232 - accuracy: 0.7983 - val_loss: 0.4322 - val_accuracy: 0.7851\n",
            "Epoch 86/100\n",
            "159/159 [==============================] - 0s 3ms/step - loss: 0.4224 - accuracy: 0.7934 - val_loss: 0.4290 - val_accuracy: 0.7904\n",
            "Epoch 87/100\n",
            "159/159 [==============================] - 0s 3ms/step - loss: 0.4269 - accuracy: 0.7967 - val_loss: 0.4346 - val_accuracy: 0.7869\n",
            "Epoch 88/100\n",
            "159/159 [==============================] - 0s 3ms/step - loss: 0.4227 - accuracy: 0.7961 - val_loss: 0.4326 - val_accuracy: 0.7762\n",
            "Epoch 89/100\n",
            "159/159 [==============================] - 0s 2ms/step - loss: 0.4190 - accuracy: 0.8028 - val_loss: 0.4322 - val_accuracy: 0.7762\n",
            "Epoch 90/100\n",
            "159/159 [==============================] - 0s 3ms/step - loss: 0.4273 - accuracy: 0.7983 - val_loss: 0.4323 - val_accuracy: 0.7780\n",
            "Epoch 91/100\n",
            "159/159 [==============================] - 0s 3ms/step - loss: 0.4287 - accuracy: 0.7983 - val_loss: 0.4332 - val_accuracy: 0.7833\n",
            "Epoch 92/100\n",
            "159/159 [==============================] - 0s 3ms/step - loss: 0.4243 - accuracy: 0.8001 - val_loss: 0.4310 - val_accuracy: 0.7815\n",
            "Epoch 93/100\n",
            "159/159 [==============================] - 0s 3ms/step - loss: 0.4294 - accuracy: 0.7965 - val_loss: 0.4317 - val_accuracy: 0.7869\n",
            "Epoch 94/100\n",
            "159/159 [==============================] - 0s 3ms/step - loss: 0.4263 - accuracy: 0.7987 - val_loss: 0.4327 - val_accuracy: 0.7851\n",
            "Epoch 95/100\n",
            "159/159 [==============================] - 0s 3ms/step - loss: 0.4277 - accuracy: 0.7983 - val_loss: 0.4326 - val_accuracy: 0.7869\n",
            "Epoch 96/100\n",
            "159/159 [==============================] - 0s 3ms/step - loss: 0.4276 - accuracy: 0.7926 - val_loss: 0.4351 - val_accuracy: 0.7851\n",
            "Epoch 97/100\n",
            "159/159 [==============================] - 0s 3ms/step - loss: 0.4262 - accuracy: 0.7908 - val_loss: 0.4280 - val_accuracy: 0.7851\n",
            "Epoch 98/100\n",
            "159/159 [==============================] - 0s 3ms/step - loss: 0.4259 - accuracy: 0.8011 - val_loss: 0.4311 - val_accuracy: 0.7886\n",
            "Epoch 99/100\n",
            "159/159 [==============================] - 0s 3ms/step - loss: 0.4243 - accuracy: 0.7973 - val_loss: 0.4279 - val_accuracy: 0.7815\n",
            "Epoch 100/100\n",
            "159/159 [==============================] - 0s 3ms/step - loss: 0.4198 - accuracy: 0.8015 - val_loss: 0.4293 - val_accuracy: 0.7851\n"
          ]
        }
      ]
    },
    {
      "cell_type": "markdown",
      "source": [
        "# vii. Model Training"
      ],
      "metadata": {
        "id": "sdfvx_4P_LDP"
      }
    },
    {
      "cell_type": "code",
      "source": [
        "history = model.fit(X_train, y_train, epochs=100, validation_data=(X_val, y_val))"
      ],
      "metadata": {
        "colab": {
          "base_uri": "https://localhost:8080/"
        },
        "id": "YhJ_DpBGXETQ",
        "outputId": "7e702559-776a-4e8a-86ef-e21d05c5e0ef"
      },
      "execution_count": null,
      "outputs": [
        {
          "output_type": "stream",
          "name": "stdout",
          "text": [
            "Epoch 1/100\n",
            "159/159 [==============================] - 1s 4ms/step - loss: 0.5097 - accuracy: 0.7327 - val_loss: 0.4597 - val_accuracy: 0.7691\n",
            "Epoch 2/100\n",
            "159/159 [==============================] - 0s 3ms/step - loss: 0.4490 - accuracy: 0.7809 - val_loss: 0.4472 - val_accuracy: 0.7691\n",
            "Epoch 3/100\n",
            "159/159 [==============================] - 0s 3ms/step - loss: 0.4422 - accuracy: 0.7857 - val_loss: 0.4469 - val_accuracy: 0.7833\n",
            "Epoch 4/100\n",
            "159/159 [==============================] - 0s 3ms/step - loss: 0.4461 - accuracy: 0.7843 - val_loss: 0.4430 - val_accuracy: 0.7851\n",
            "Epoch 5/100\n",
            "159/159 [==============================] - 0s 3ms/step - loss: 0.4412 - accuracy: 0.7902 - val_loss: 0.4441 - val_accuracy: 0.7780\n",
            "Epoch 6/100\n",
            "159/159 [==============================] - 0s 2ms/step - loss: 0.4412 - accuracy: 0.7908 - val_loss: 0.4397 - val_accuracy: 0.7798\n",
            "Epoch 7/100\n",
            "159/159 [==============================] - 0s 2ms/step - loss: 0.4394 - accuracy: 0.7944 - val_loss: 0.4401 - val_accuracy: 0.7886\n",
            "Epoch 8/100\n",
            "159/159 [==============================] - 0s 3ms/step - loss: 0.4359 - accuracy: 0.7938 - val_loss: 0.4382 - val_accuracy: 0.7851\n",
            "Epoch 9/100\n",
            "159/159 [==============================] - 0s 3ms/step - loss: 0.4346 - accuracy: 0.7904 - val_loss: 0.4405 - val_accuracy: 0.7869\n",
            "Epoch 10/100\n",
            "159/159 [==============================] - 0s 3ms/step - loss: 0.4343 - accuracy: 0.7949 - val_loss: 0.4413 - val_accuracy: 0.7798\n",
            "Epoch 11/100\n",
            "159/159 [==============================] - 0s 2ms/step - loss: 0.4360 - accuracy: 0.7912 - val_loss: 0.4455 - val_accuracy: 0.7798\n",
            "Epoch 12/100\n",
            "159/159 [==============================] - 0s 2ms/step - loss: 0.4319 - accuracy: 0.7920 - val_loss: 0.4424 - val_accuracy: 0.7957\n",
            "Epoch 13/100\n",
            "159/159 [==============================] - 0s 3ms/step - loss: 0.4330 - accuracy: 0.7924 - val_loss: 0.4452 - val_accuracy: 0.7798\n",
            "Epoch 14/100\n",
            "159/159 [==============================] - 0s 3ms/step - loss: 0.4297 - accuracy: 0.7955 - val_loss: 0.4391 - val_accuracy: 0.7886\n",
            "Epoch 15/100\n",
            "159/159 [==============================] - 0s 3ms/step - loss: 0.4300 - accuracy: 0.7961 - val_loss: 0.4428 - val_accuracy: 0.7851\n",
            "Epoch 16/100\n",
            "159/159 [==============================] - 0s 3ms/step - loss: 0.4289 - accuracy: 0.7975 - val_loss: 0.4367 - val_accuracy: 0.7851\n",
            "Epoch 17/100\n",
            "159/159 [==============================] - 0s 3ms/step - loss: 0.4306 - accuracy: 0.8013 - val_loss: 0.4363 - val_accuracy: 0.7869\n",
            "Epoch 18/100\n",
            "159/159 [==============================] - 0s 2ms/step - loss: 0.4333 - accuracy: 0.7961 - val_loss: 0.4384 - val_accuracy: 0.7904\n",
            "Epoch 19/100\n",
            "159/159 [==============================] - 0s 3ms/step - loss: 0.4342 - accuracy: 0.7967 - val_loss: 0.4428 - val_accuracy: 0.7869\n",
            "Epoch 20/100\n",
            "159/159 [==============================] - 0s 3ms/step - loss: 0.4312 - accuracy: 0.7951 - val_loss: 0.4370 - val_accuracy: 0.7851\n",
            "Epoch 21/100\n",
            "159/159 [==============================] - 0s 3ms/step - loss: 0.4300 - accuracy: 0.7999 - val_loss: 0.4414 - val_accuracy: 0.7869\n",
            "Epoch 22/100\n",
            "159/159 [==============================] - 0s 3ms/step - loss: 0.4285 - accuracy: 0.7973 - val_loss: 0.4376 - val_accuracy: 0.7940\n",
            "Epoch 23/100\n",
            "159/159 [==============================] - 0s 3ms/step - loss: 0.4295 - accuracy: 0.7955 - val_loss: 0.4392 - val_accuracy: 0.7869\n",
            "Epoch 24/100\n",
            "159/159 [==============================] - 0s 3ms/step - loss: 0.4287 - accuracy: 0.7967 - val_loss: 0.4359 - val_accuracy: 0.7780\n",
            "Epoch 25/100\n",
            "159/159 [==============================] - 0s 3ms/step - loss: 0.4317 - accuracy: 0.7926 - val_loss: 0.4373 - val_accuracy: 0.7833\n",
            "Epoch 26/100\n",
            "159/159 [==============================] - 0s 3ms/step - loss: 0.4245 - accuracy: 0.7959 - val_loss: 0.4338 - val_accuracy: 0.7815\n",
            "Epoch 27/100\n",
            "159/159 [==============================] - 0s 3ms/step - loss: 0.4301 - accuracy: 0.7963 - val_loss: 0.4377 - val_accuracy: 0.7798\n",
            "Epoch 28/100\n",
            "159/159 [==============================] - 0s 2ms/step - loss: 0.4281 - accuracy: 0.7979 - val_loss: 0.4337 - val_accuracy: 0.7815\n",
            "Epoch 29/100\n",
            "159/159 [==============================] - 0s 3ms/step - loss: 0.4281 - accuracy: 0.7910 - val_loss: 0.4360 - val_accuracy: 0.7886\n",
            "Epoch 30/100\n",
            "159/159 [==============================] - 0s 3ms/step - loss: 0.4315 - accuracy: 0.7961 - val_loss: 0.4523 - val_accuracy: 0.7833\n",
            "Epoch 31/100\n",
            "159/159 [==============================] - 0s 3ms/step - loss: 0.4259 - accuracy: 0.7999 - val_loss: 0.4364 - val_accuracy: 0.7886\n",
            "Epoch 32/100\n",
            "159/159 [==============================] - 0s 3ms/step - loss: 0.4247 - accuracy: 0.7932 - val_loss: 0.4371 - val_accuracy: 0.7780\n",
            "Epoch 33/100\n",
            "159/159 [==============================] - 0s 3ms/step - loss: 0.4256 - accuracy: 0.8007 - val_loss: 0.4379 - val_accuracy: 0.7886\n",
            "Epoch 34/100\n",
            "159/159 [==============================] - 0s 3ms/step - loss: 0.4255 - accuracy: 0.7991 - val_loss: 0.4344 - val_accuracy: 0.7922\n",
            "Epoch 35/100\n",
            "159/159 [==============================] - 0s 3ms/step - loss: 0.4275 - accuracy: 0.7985 - val_loss: 0.4390 - val_accuracy: 0.7869\n",
            "Epoch 36/100\n",
            "159/159 [==============================] - 0s 3ms/step - loss: 0.4283 - accuracy: 0.7959 - val_loss: 0.4336 - val_accuracy: 0.7869\n",
            "Epoch 37/100\n",
            "159/159 [==============================] - 0s 3ms/step - loss: 0.4272 - accuracy: 0.7985 - val_loss: 0.4343 - val_accuracy: 0.7851\n",
            "Epoch 38/100\n",
            "159/159 [==============================] - 0s 3ms/step - loss: 0.4317 - accuracy: 0.7949 - val_loss: 0.4367 - val_accuracy: 0.7833\n",
            "Epoch 39/100\n",
            "159/159 [==============================] - 0s 3ms/step - loss: 0.4264 - accuracy: 0.7942 - val_loss: 0.4335 - val_accuracy: 0.7815\n",
            "Epoch 40/100\n",
            "159/159 [==============================] - 0s 2ms/step - loss: 0.4251 - accuracy: 0.7945 - val_loss: 0.4418 - val_accuracy: 0.7869\n",
            "Epoch 41/100\n",
            "159/159 [==============================] - 0s 3ms/step - loss: 0.4283 - accuracy: 0.7997 - val_loss: 0.4329 - val_accuracy: 0.7886\n",
            "Epoch 42/100\n",
            "159/159 [==============================] - 0s 2ms/step - loss: 0.4281 - accuracy: 0.8001 - val_loss: 0.4324 - val_accuracy: 0.7851\n",
            "Epoch 43/100\n",
            "159/159 [==============================] - 0s 3ms/step - loss: 0.4254 - accuracy: 0.7981 - val_loss: 0.4321 - val_accuracy: 0.7833\n",
            "Epoch 44/100\n",
            "159/159 [==============================] - 0s 3ms/step - loss: 0.4217 - accuracy: 0.7967 - val_loss: 0.4315 - val_accuracy: 0.7833\n",
            "Epoch 45/100\n",
            "159/159 [==============================] - 0s 3ms/step - loss: 0.4287 - accuracy: 0.8021 - val_loss: 0.4351 - val_accuracy: 0.7851\n",
            "Epoch 46/100\n",
            "159/159 [==============================] - 0s 3ms/step - loss: 0.4218 - accuracy: 0.7997 - val_loss: 0.4339 - val_accuracy: 0.7815\n",
            "Epoch 47/100\n",
            "159/159 [==============================] - 0s 2ms/step - loss: 0.4260 - accuracy: 0.7957 - val_loss: 0.4360 - val_accuracy: 0.7815\n",
            "Epoch 48/100\n",
            "159/159 [==============================] - 0s 3ms/step - loss: 0.4231 - accuracy: 0.7959 - val_loss: 0.4324 - val_accuracy: 0.7833\n",
            "Epoch 49/100\n",
            "159/159 [==============================] - 0s 2ms/step - loss: 0.4236 - accuracy: 0.8015 - val_loss: 0.4321 - val_accuracy: 0.7851\n",
            "Epoch 50/100\n",
            "159/159 [==============================] - 0s 3ms/step - loss: 0.4206 - accuracy: 0.7981 - val_loss: 0.4366 - val_accuracy: 0.7798\n",
            "Epoch 51/100\n",
            "159/159 [==============================] - 0s 3ms/step - loss: 0.4247 - accuracy: 0.7969 - val_loss: 0.4366 - val_accuracy: 0.7851\n",
            "Epoch 52/100\n",
            "159/159 [==============================] - 0s 3ms/step - loss: 0.4243 - accuracy: 0.7995 - val_loss: 0.4344 - val_accuracy: 0.7851\n",
            "Epoch 53/100\n",
            "159/159 [==============================] - 0s 3ms/step - loss: 0.4222 - accuracy: 0.7983 - val_loss: 0.4317 - val_accuracy: 0.7886\n",
            "Epoch 54/100\n",
            "159/159 [==============================] - 0s 3ms/step - loss: 0.4288 - accuracy: 0.7985 - val_loss: 0.4327 - val_accuracy: 0.7922\n",
            "Epoch 55/100\n",
            "159/159 [==============================] - 0s 3ms/step - loss: 0.4233 - accuracy: 0.7961 - val_loss: 0.4300 - val_accuracy: 0.7922\n",
            "Epoch 56/100\n",
            "159/159 [==============================] - 0s 3ms/step - loss: 0.4211 - accuracy: 0.7989 - val_loss: 0.4307 - val_accuracy: 0.7833\n",
            "Epoch 57/100\n",
            "159/159 [==============================] - 0s 3ms/step - loss: 0.4246 - accuracy: 0.8009 - val_loss: 0.4340 - val_accuracy: 0.7833\n",
            "Epoch 58/100\n",
            "159/159 [==============================] - 0s 3ms/step - loss: 0.4233 - accuracy: 0.7961 - val_loss: 0.4374 - val_accuracy: 0.7869\n",
            "Epoch 59/100\n",
            "159/159 [==============================] - 0s 2ms/step - loss: 0.4277 - accuracy: 0.7985 - val_loss: 0.4370 - val_accuracy: 0.7833\n",
            "Epoch 60/100\n",
            "159/159 [==============================] - 0s 3ms/step - loss: 0.4252 - accuracy: 0.7999 - val_loss: 0.4379 - val_accuracy: 0.7869\n",
            "Epoch 61/100\n",
            "159/159 [==============================] - 0s 3ms/step - loss: 0.4272 - accuracy: 0.7989 - val_loss: 0.4328 - val_accuracy: 0.7904\n",
            "Epoch 62/100\n",
            "159/159 [==============================] - 0s 3ms/step - loss: 0.4265 - accuracy: 0.7975 - val_loss: 0.4365 - val_accuracy: 0.7940\n",
            "Epoch 63/100\n",
            "159/159 [==============================] - 0s 3ms/step - loss: 0.4247 - accuracy: 0.8007 - val_loss: 0.4366 - val_accuracy: 0.7904\n",
            "Epoch 64/100\n",
            "159/159 [==============================] - 0s 2ms/step - loss: 0.4224 - accuracy: 0.7981 - val_loss: 0.4345 - val_accuracy: 0.7815\n",
            "Epoch 65/100\n",
            "159/159 [==============================] - 0s 2ms/step - loss: 0.4218 - accuracy: 0.7967 - val_loss: 0.4338 - val_accuracy: 0.7851\n",
            "Epoch 66/100\n",
            "159/159 [==============================] - 0s 3ms/step - loss: 0.4200 - accuracy: 0.7973 - val_loss: 0.4338 - val_accuracy: 0.7886\n",
            "Epoch 67/100\n",
            "159/159 [==============================] - 0s 3ms/step - loss: 0.4212 - accuracy: 0.7983 - val_loss: 0.4323 - val_accuracy: 0.7940\n",
            "Epoch 68/100\n",
            "159/159 [==============================] - 0s 3ms/step - loss: 0.4221 - accuracy: 0.7981 - val_loss: 0.4311 - val_accuracy: 0.7815\n",
            "Epoch 69/100\n",
            "159/159 [==============================] - 0s 3ms/step - loss: 0.4232 - accuracy: 0.8023 - val_loss: 0.4304 - val_accuracy: 0.7886\n",
            "Epoch 70/100\n",
            "159/159 [==============================] - 0s 3ms/step - loss: 0.4201 - accuracy: 0.8015 - val_loss: 0.4332 - val_accuracy: 0.7869\n",
            "Epoch 71/100\n",
            "159/159 [==============================] - 0s 3ms/step - loss: 0.4238 - accuracy: 0.7940 - val_loss: 0.4324 - val_accuracy: 0.7886\n",
            "Epoch 72/100\n",
            "159/159 [==============================] - 0s 3ms/step - loss: 0.4269 - accuracy: 0.7961 - val_loss: 0.4361 - val_accuracy: 0.7886\n",
            "Epoch 73/100\n",
            "159/159 [==============================] - 0s 2ms/step - loss: 0.4207 - accuracy: 0.7987 - val_loss: 0.4320 - val_accuracy: 0.7851\n",
            "Epoch 74/100\n",
            "159/159 [==============================] - 0s 3ms/step - loss: 0.4186 - accuracy: 0.8017 - val_loss: 0.4290 - val_accuracy: 0.7904\n",
            "Epoch 75/100\n",
            "159/159 [==============================] - 0s 2ms/step - loss: 0.4207 - accuracy: 0.7975 - val_loss: 0.4312 - val_accuracy: 0.7886\n",
            "Epoch 76/100\n",
            "159/159 [==============================] - 0s 2ms/step - loss: 0.4218 - accuracy: 0.7985 - val_loss: 0.4317 - val_accuracy: 0.7922\n",
            "Epoch 77/100\n",
            "159/159 [==============================] - 0s 3ms/step - loss: 0.4209 - accuracy: 0.7981 - val_loss: 0.4302 - val_accuracy: 0.7886\n",
            "Epoch 78/100\n",
            "159/159 [==============================] - 0s 3ms/step - loss: 0.4196 - accuracy: 0.8021 - val_loss: 0.4323 - val_accuracy: 0.7851\n",
            "Epoch 79/100\n",
            "159/159 [==============================] - 0s 3ms/step - loss: 0.4230 - accuracy: 0.7963 - val_loss: 0.4363 - val_accuracy: 0.7833\n",
            "Epoch 80/100\n",
            "159/159 [==============================] - 0s 3ms/step - loss: 0.4211 - accuracy: 0.7991 - val_loss: 0.4326 - val_accuracy: 0.7815\n",
            "Epoch 81/100\n",
            "159/159 [==============================] - 0s 3ms/step - loss: 0.4199 - accuracy: 0.7957 - val_loss: 0.4322 - val_accuracy: 0.7780\n",
            "Epoch 82/100\n",
            "159/159 [==============================] - 0s 3ms/step - loss: 0.4236 - accuracy: 0.7947 - val_loss: 0.4353 - val_accuracy: 0.7798\n",
            "Epoch 83/100\n",
            "159/159 [==============================] - 0s 3ms/step - loss: 0.4215 - accuracy: 0.8005 - val_loss: 0.4285 - val_accuracy: 0.7851\n",
            "Epoch 84/100\n",
            "159/159 [==============================] - 0s 3ms/step - loss: 0.4228 - accuracy: 0.7977 - val_loss: 0.4332 - val_accuracy: 0.7869\n",
            "Epoch 85/100\n",
            "159/159 [==============================] - 0s 3ms/step - loss: 0.4182 - accuracy: 0.8038 - val_loss: 0.4315 - val_accuracy: 0.7869\n",
            "Epoch 86/100\n",
            "159/159 [==============================] - 0s 3ms/step - loss: 0.4207 - accuracy: 0.8019 - val_loss: 0.4301 - val_accuracy: 0.7851\n",
            "Epoch 87/100\n",
            "159/159 [==============================] - 0s 3ms/step - loss: 0.4211 - accuracy: 0.7977 - val_loss: 0.4304 - val_accuracy: 0.7815\n",
            "Epoch 88/100\n",
            "159/159 [==============================] - 0s 3ms/step - loss: 0.4201 - accuracy: 0.7973 - val_loss: 0.4346 - val_accuracy: 0.7833\n",
            "Epoch 89/100\n",
            "159/159 [==============================] - 0s 3ms/step - loss: 0.4207 - accuracy: 0.7999 - val_loss: 0.4296 - val_accuracy: 0.7833\n",
            "Epoch 90/100\n",
            "159/159 [==============================] - 0s 3ms/step - loss: 0.4253 - accuracy: 0.8023 - val_loss: 0.4334 - val_accuracy: 0.7815\n",
            "Epoch 91/100\n",
            "159/159 [==============================] - 0s 3ms/step - loss: 0.4186 - accuracy: 0.8013 - val_loss: 0.4304 - val_accuracy: 0.7815\n",
            "Epoch 92/100\n",
            "159/159 [==============================] - 0s 3ms/step - loss: 0.4166 - accuracy: 0.8011 - val_loss: 0.4318 - val_accuracy: 0.7815\n",
            "Epoch 93/100\n",
            "159/159 [==============================] - 0s 3ms/step - loss: 0.4173 - accuracy: 0.8038 - val_loss: 0.4280 - val_accuracy: 0.7869\n",
            "Epoch 94/100\n",
            "159/159 [==============================] - 0s 3ms/step - loss: 0.4210 - accuracy: 0.7991 - val_loss: 0.4300 - val_accuracy: 0.7851\n",
            "Epoch 95/100\n",
            "159/159 [==============================] - 0s 3ms/step - loss: 0.4219 - accuracy: 0.7975 - val_loss: 0.4340 - val_accuracy: 0.7851\n",
            "Epoch 96/100\n",
            "159/159 [==============================] - 0s 3ms/step - loss: 0.4219 - accuracy: 0.7997 - val_loss: 0.4313 - val_accuracy: 0.7851\n",
            "Epoch 97/100\n",
            "159/159 [==============================] - 0s 3ms/step - loss: 0.4211 - accuracy: 0.8024 - val_loss: 0.4313 - val_accuracy: 0.7780\n",
            "Epoch 98/100\n",
            "159/159 [==============================] - 0s 3ms/step - loss: 0.4147 - accuracy: 0.8023 - val_loss: 0.4306 - val_accuracy: 0.7833\n",
            "Epoch 99/100\n",
            "159/159 [==============================] - 0s 3ms/step - loss: 0.4179 - accuracy: 0.7987 - val_loss: 0.4331 - val_accuracy: 0.7851\n",
            "Epoch 100/100\n",
            "159/159 [==============================] - 0s 3ms/step - loss: 0.4192 - accuracy: 0.8032 - val_loss: 0.4335 - val_accuracy: 0.7762\n"
          ]
        }
      ]
    },
    {
      "cell_type": "markdown",
      "source": [
        "# viii. Model Evaluation"
      ],
      "metadata": {
        "id": "BRA8wvZf_STa"
      }
    },
    {
      "cell_type": "code",
      "source": [
        "metrics = pd.DataFrame(history.history)\n",
        "metrics.tail()"
      ],
      "metadata": {
        "colab": {
          "base_uri": "https://localhost:8080/",
          "height": 206
        },
        "id": "dVUDJmOBZpdZ",
        "outputId": "1e5a1be4-4892-4b35-c83d-d6e5a88809c8"
      },
      "execution_count": null,
      "outputs": [
        {
          "output_type": "execute_result",
          "data": {
            "text/plain": [
              "        loss  accuracy  val_loss  val_accuracy\n",
              "95  0.421931  0.799684  0.431255      0.785080\n",
              "96  0.421137  0.802450  0.431308      0.777975\n",
              "97  0.414664  0.802252  0.430594      0.783304\n",
              "98  0.417917  0.798696  0.433143      0.785080\n",
              "99  0.419244  0.803240  0.433540      0.776199"
            ],
            "text/html": [
              "\n",
              "  <div id=\"df-916409fe-bfd4-45f0-a20e-87a666e7eb6e\">\n",
              "    <div class=\"colab-df-container\">\n",
              "      <div>\n",
              "<style scoped>\n",
              "    .dataframe tbody tr th:only-of-type {\n",
              "        vertical-align: middle;\n",
              "    }\n",
              "\n",
              "    .dataframe tbody tr th {\n",
              "        vertical-align: top;\n",
              "    }\n",
              "\n",
              "    .dataframe thead th {\n",
              "        text-align: right;\n",
              "    }\n",
              "</style>\n",
              "<table border=\"1\" class=\"dataframe\">\n",
              "  <thead>\n",
              "    <tr style=\"text-align: right;\">\n",
              "      <th></th>\n",
              "      <th>loss</th>\n",
              "      <th>accuracy</th>\n",
              "      <th>val_loss</th>\n",
              "      <th>val_accuracy</th>\n",
              "    </tr>\n",
              "  </thead>\n",
              "  <tbody>\n",
              "    <tr>\n",
              "      <th>95</th>\n",
              "      <td>0.421931</td>\n",
              "      <td>0.799684</td>\n",
              "      <td>0.431255</td>\n",
              "      <td>0.785080</td>\n",
              "    </tr>\n",
              "    <tr>\n",
              "      <th>96</th>\n",
              "      <td>0.421137</td>\n",
              "      <td>0.802450</td>\n",
              "      <td>0.431308</td>\n",
              "      <td>0.777975</td>\n",
              "    </tr>\n",
              "    <tr>\n",
              "      <th>97</th>\n",
              "      <td>0.414664</td>\n",
              "      <td>0.802252</td>\n",
              "      <td>0.430594</td>\n",
              "      <td>0.783304</td>\n",
              "    </tr>\n",
              "    <tr>\n",
              "      <th>98</th>\n",
              "      <td>0.417917</td>\n",
              "      <td>0.798696</td>\n",
              "      <td>0.433143</td>\n",
              "      <td>0.785080</td>\n",
              "    </tr>\n",
              "    <tr>\n",
              "      <th>99</th>\n",
              "      <td>0.419244</td>\n",
              "      <td>0.803240</td>\n",
              "      <td>0.433540</td>\n",
              "      <td>0.776199</td>\n",
              "    </tr>\n",
              "  </tbody>\n",
              "</table>\n",
              "</div>\n",
              "      <button class=\"colab-df-convert\" onclick=\"convertToInteractive('df-916409fe-bfd4-45f0-a20e-87a666e7eb6e')\"\n",
              "              title=\"Convert this dataframe to an interactive table.\"\n",
              "              style=\"display:none;\">\n",
              "        \n",
              "  <svg xmlns=\"http://www.w3.org/2000/svg\" height=\"24px\"viewBox=\"0 0 24 24\"\n",
              "       width=\"24px\">\n",
              "    <path d=\"M0 0h24v24H0V0z\" fill=\"none\"/>\n",
              "    <path d=\"M18.56 5.44l.94 2.06.94-2.06 2.06-.94-2.06-.94-.94-2.06-.94 2.06-2.06.94zm-11 1L8.5 8.5l.94-2.06 2.06-.94-2.06-.94L8.5 2.5l-.94 2.06-2.06.94zm10 10l.94 2.06.94-2.06 2.06-.94-2.06-.94-.94-2.06-.94 2.06-2.06.94z\"/><path d=\"M17.41 7.96l-1.37-1.37c-.4-.4-.92-.59-1.43-.59-.52 0-1.04.2-1.43.59L10.3 9.45l-7.72 7.72c-.78.78-.78 2.05 0 2.83L4 21.41c.39.39.9.59 1.41.59.51 0 1.02-.2 1.41-.59l7.78-7.78 2.81-2.81c.8-.78.8-2.07 0-2.86zM5.41 20L4 18.59l7.72-7.72 1.47 1.35L5.41 20z\"/>\n",
              "  </svg>\n",
              "      </button>\n",
              "      \n",
              "  <style>\n",
              "    .colab-df-container {\n",
              "      display:flex;\n",
              "      flex-wrap:wrap;\n",
              "      gap: 12px;\n",
              "    }\n",
              "\n",
              "    .colab-df-convert {\n",
              "      background-color: #E8F0FE;\n",
              "      border: none;\n",
              "      border-radius: 50%;\n",
              "      cursor: pointer;\n",
              "      display: none;\n",
              "      fill: #1967D2;\n",
              "      height: 32px;\n",
              "      padding: 0 0 0 0;\n",
              "      width: 32px;\n",
              "    }\n",
              "\n",
              "    .colab-df-convert:hover {\n",
              "      background-color: #E2EBFA;\n",
              "      box-shadow: 0px 1px 2px rgba(60, 64, 67, 0.3), 0px 1px 3px 1px rgba(60, 64, 67, 0.15);\n",
              "      fill: #174EA6;\n",
              "    }\n",
              "\n",
              "    [theme=dark] .colab-df-convert {\n",
              "      background-color: #3B4455;\n",
              "      fill: #D2E3FC;\n",
              "    }\n",
              "\n",
              "    [theme=dark] .colab-df-convert:hover {\n",
              "      background-color: #434B5C;\n",
              "      box-shadow: 0px 1px 3px 1px rgba(0, 0, 0, 0.15);\n",
              "      filter: drop-shadow(0px 1px 2px rgba(0, 0, 0, 0.3));\n",
              "      fill: #FFFFFF;\n",
              "    }\n",
              "  </style>\n",
              "\n",
              "      <script>\n",
              "        const buttonEl =\n",
              "          document.querySelector('#df-916409fe-bfd4-45f0-a20e-87a666e7eb6e button.colab-df-convert');\n",
              "        buttonEl.style.display =\n",
              "          google.colab.kernel.accessAllowed ? 'block' : 'none';\n",
              "\n",
              "        async function convertToInteractive(key) {\n",
              "          const element = document.querySelector('#df-916409fe-bfd4-45f0-a20e-87a666e7eb6e');\n",
              "          const dataTable =\n",
              "            await google.colab.kernel.invokeFunction('convertToInteractive',\n",
              "                                                     [key], {});\n",
              "          if (!dataTable) return;\n",
              "\n",
              "          const docLinkHtml = 'Like what you see? Visit the ' +\n",
              "            '<a target=\"_blank\" href=https://colab.research.google.com/notebooks/data_table.ipynb>data table notebook</a>'\n",
              "            + ' to learn more about interactive tables.';\n",
              "          element.innerHTML = '';\n",
              "          dataTable['output_type'] = 'display_data';\n",
              "          await google.colab.output.renderOutput(dataTable, element);\n",
              "          const docLink = document.createElement('div');\n",
              "          docLink.innerHTML = docLinkHtml;\n",
              "          element.appendChild(docLink);\n",
              "        }\n",
              "      </script>\n",
              "    </div>\n",
              "  </div>\n",
              "  "
            ]
          },
          "metadata": {},
          "execution_count": 35
        }
      ]
    },
    {
      "cell_type": "code",
      "source": [
        "metrics[['loss', 'val_loss']].plot();"
      ],
      "metadata": {
        "colab": {
          "base_uri": "https://localhost:8080/",
          "height": 265
        },
        "id": "1-YvP43rZq-a",
        "outputId": "9276767b-c52b-4053-a719-4819026ca003"
      },
      "execution_count": null,
      "outputs": [
        {
          "output_type": "display_data",
          "data": {
            "text/plain": [
              "<Figure size 432x288 with 1 Axes>"
            ],
            "image/png": "[encoded data removed]"
          },
          "metadata": {
            "needs_background": "light"
          }
        }
      ]
    },
    {
      "cell_type": "code",
      "source": [
        "y_pred = model.predict(X_test)\n",
        "y_pred = np.where(y_pred >= 0.5, 1, 0)\n",
        "print(classification_report(y_test, y_pred))"
      ],
      "metadata": {
        "colab": {
          "base_uri": "https://localhost:8080/"
        },
        "id": "hvKnlaGepPMY",
        "outputId": "ddd87f9e-6f81-4eb2-89af-351f46947278"
      },
      "execution_count": null,
      "outputs": [
        {
          "output_type": "stream",
          "name": "stdout",
          "text": [
            "              precision    recall  f1-score   support\n",
            "\n",
            "           0       0.83      0.89      0.86      1033\n",
            "           1       0.62      0.50      0.55       374\n",
            "\n",
            "    accuracy                           0.78      1407\n",
            "   macro avg       0.72      0.69      0.70      1407\n",
            "weighted avg       0.77      0.78      0.78      1407\n",
            "\n"
          ]
        }
      ]
    },
    {
      "cell_type": "markdown",
      "source": [
        "Keakuratan prediksi 78% dari 1407 values, precision dan recall tingkat akurat lebih tinggi memprediksi customer yang tidak churn, dalam case ini model ini masih relevan atau bisa digunakan karena recall score tertinggi terhadap customer yang tidak churn dapat meyakinkan perusahaan telcom bahwa bisnis yang dijalankan masih sustainable atau dapat bertahan lama, dengan asumsi naive kalau customer yang churn lebih memiliki potensi untuk tidak churn"
      ],
      "metadata": {
        "id": "NIrkCZHoqHKs"
      }
    },
    {
      "cell_type": "markdown",
      "source": [
        "## Model Improvement Menggunakan Keras Tuner Random Search"
      ],
      "metadata": {
        "id": "CB4hns5Yomfh"
      }
    },
    {
      "cell_type": "code",
      "source": [
        "def build_model(hp):\n",
        "    model = keras.Sequential()\n",
        "    for i in range(hp.Int('num_layers', 2, 30)):\n",
        "        model.add(layers.Dense(units=hp.Int('units_' + str(i),\n",
        "                                            min_value=32,\n",
        "                                            max_value=600,\n",
        "                                            step=64),\n",
        "                               activation='relu'))\n",
        "    model.add(layers.Dense(1, activation='sigmoid'))\n",
        "    model.compile(\n",
        "        optimizer=keras.optimizers.Adam(\n",
        "            hp.Choice('learning_rate', [1e-2, 1e-3, 1e-4])),\n",
        "        loss='binary_crossentropy',\n",
        "        metrics=['accuracy'])\n",
        "    return model"
      ],
      "metadata": {
        "id": "UP4I4-SruF0e"
      },
      "execution_count": null,
      "outputs": []
    },
    {
      "cell_type": "code",
      "source": [
        "tuner = RandomSearch(\n",
        "    build_model,\n",
        "    objective='val_accuracy',\n",
        "    max_trials=5,\n",
        "    executions_per_trial=3,\n",
        "    directory='project1',\n",
        "    project_name='Churn')"
      ],
      "metadata": {
        "id": "5ad11xNPvOUO"
      },
      "execution_count": null,
      "outputs": []
    },
    {
      "cell_type": "code",
      "source": [
        "tuner.search(X_train, y_train,\n",
        "             epochs=5,\n",
        "             validation_data=(X_val, y_val))"
      ],
      "metadata": {
        "colab": {
          "base_uri": "https://localhost:8080/"
        },
        "id": "Pu7sVazcwAHt",
        "outputId": "7766e06c-75c1-430e-8374-0fc09dbb1a9c"
      },
      "execution_count": null,
      "outputs": [
        {
          "output_type": "stream",
          "name": "stdout",
          "text": [
            "Trial 5 Complete [00h 01m 50s]\n",
            "val_accuracy: 0.7856719891230265\n",
            "\n",
            "Best val_accuracy So Far: 0.7880402604738871\n",
            "Total elapsed time: 00h 04m 45s\n",
            "INFO:tensorflow:Oracle triggered exit\n"
          ]
        }
      ]
    },
    {
      "cell_type": "code",
      "source": [
        "tuner.results_summary()"
      ],
      "metadata": {
        "colab": {
          "base_uri": "https://localhost:8080/"
        },
        "id": "ThN4gsuww9yA",
        "outputId": "e531c57f-2123-4be6-ff9d-d3dfa476224a"
      },
      "execution_count": null,
      "outputs": [
        {
          "output_type": "stream",
          "name": "stdout",
          "text": [
            "Results summary\n",
            "Results in project1/Churn\n",
            "Showing 10 best trials\n",
            "<keras_tuner.engine.objective.Objective object at 0x7fb094bc8e50>\n",
            "Trial summary\n",
            "Hyperparameters:\n",
            "num_layers: 4\n",
            "units_0: 160\n",
            "units_1: 544\n",
            "learning_rate: 0.001\n",
            "units_2: 224\n",
            "units_3: 480\n",
            "units_4: 480\n",
            "units_5: 96\n",
            "units_6: 160\n",
            "units_7: 288\n",
            "units_8: 96\n",
            "units_9: 288\n",
            "units_10: 416\n",
            "units_11: 160\n",
            "units_12: 480\n",
            "units_13: 96\n",
            "units_14: 288\n",
            "units_15: 96\n",
            "units_16: 160\n",
            "units_17: 96\n",
            "units_18: 288\n",
            "units_19: 544\n",
            "units_20: 352\n",
            "units_21: 480\n",
            "units_22: 224\n",
            "units_23: 160\n",
            "units_24: 224\n",
            "units_25: 288\n",
            "units_26: 96\n",
            "units_27: 352\n",
            "units_28: 96\n",
            "Score: 0.7880402604738871\n",
            "Trial summary\n",
            "Hyperparameters:\n",
            "num_layers: 29\n",
            "units_0: 544\n",
            "units_1: 544\n",
            "learning_rate: 0.0001\n",
            "units_2: 160\n",
            "units_3: 96\n",
            "units_4: 160\n",
            "units_5: 544\n",
            "units_6: 480\n",
            "units_7: 288\n",
            "units_8: 32\n",
            "units_9: 160\n",
            "units_10: 544\n",
            "units_11: 480\n",
            "units_12: 160\n",
            "units_13: 416\n",
            "units_14: 544\n",
            "units_15: 352\n",
            "units_16: 96\n",
            "units_17: 352\n",
            "units_18: 32\n",
            "units_19: 544\n",
            "units_20: 544\n",
            "units_21: 352\n",
            "units_22: 32\n",
            "units_23: 544\n",
            "units_24: 352\n",
            "units_25: 352\n",
            "units_26: 224\n",
            "units_27: 288\n",
            "units_28: 288\n",
            "Score: 0.7856719891230265\n",
            "Trial summary\n",
            "Hyperparameters:\n",
            "num_layers: 18\n",
            "units_0: 352\n",
            "units_1: 352\n",
            "learning_rate: 0.001\n",
            "units_2: 416\n",
            "units_3: 416\n",
            "units_4: 160\n",
            "units_5: 288\n",
            "units_6: 224\n",
            "units_7: 416\n",
            "units_8: 32\n",
            "units_9: 288\n",
            "units_10: 160\n",
            "units_11: 544\n",
            "units_12: 224\n",
            "units_13: 352\n",
            "units_14: 96\n",
            "units_15: 288\n",
            "units_16: 160\n",
            "units_17: 32\n",
            "Score: 0.7833037376403809\n",
            "Trial summary\n",
            "Hyperparameters:\n",
            "num_layers: 17\n",
            "units_0: 352\n",
            "units_1: 32\n",
            "learning_rate: 0.01\n",
            "units_2: 32\n",
            "units_3: 32\n",
            "units_4: 32\n",
            "units_5: 32\n",
            "units_6: 32\n",
            "units_7: 32\n",
            "units_8: 32\n",
            "units_9: 32\n",
            "units_10: 32\n",
            "units_11: 32\n",
            "units_12: 32\n",
            "units_13: 32\n",
            "units_14: 32\n",
            "units_15: 32\n",
            "units_16: 32\n",
            "Score: 0.7744227449099222\n",
            "Trial summary\n",
            "Hyperparameters:\n",
            "num_layers: 29\n",
            "units_0: 352\n",
            "units_1: 544\n",
            "learning_rate: 0.01\n",
            "units_2: 544\n",
            "units_3: 32\n",
            "units_4: 352\n",
            "units_5: 160\n",
            "units_6: 224\n",
            "units_7: 288\n",
            "units_8: 544\n",
            "units_9: 288\n",
            "units_10: 288\n",
            "units_11: 288\n",
            "units_12: 96\n",
            "units_13: 96\n",
            "units_14: 480\n",
            "units_15: 416\n",
            "units_16: 544\n",
            "units_17: 224\n",
            "units_18: 32\n",
            "units_19: 32\n",
            "units_20: 32\n",
            "units_21: 32\n",
            "units_22: 32\n",
            "units_23: 32\n",
            "units_24: 32\n",
            "units_25: 32\n",
            "units_26: 32\n",
            "units_27: 32\n",
            "units_28: 32\n",
            "Score: 0.7158081531524658\n"
          ]
        }
      ]
    },
    {
      "cell_type": "markdown",
      "source": [
        "Dengan Keras Tuner accuracy hanya bertambah 1% dari 78% menjadi 79% namun hal ini dapat ditingkatkan dengan diberlakukan experimen experimen lagi"
      ],
      "metadata": {
        "id": "G93mAdsOxd3d"
      }
    },
    {
      "cell_type": "markdown",
      "source": [
        "# ix. Model Saving"
      ],
      "metadata": {
        "id": "QfBociRi_YLL"
      }
    },
    {
      "cell_type": "code",
      "source": [
        "with open(\"pipeline.pkl\", \"wb\") as pipe_file:\n",
        "  pickle.dump(data_pipeline, pipe_file)"
      ],
      "metadata": {
        "id": "mtK1fq0Bs4zU"
      },
      "execution_count": null,
      "outputs": []
    },
    {
      "cell_type": "code",
      "source": [
        "model.save(\"nn_ChurnRate\")"
      ],
      "metadata": {
        "colab": {
          "base_uri": "https://localhost:8080/"
        },
        "id": "HspncS-irl7l",
        "outputId": "c5da7c37-7cb3-44bb-ccf0-3f5b3b20d835"
      },
      "execution_count": null,
      "outputs": [
        {
          "output_type": "stream",
          "name": "stdout",
          "text": [
            "INFO:tensorflow:Assets written to: nn_ChurnRate/assets\n"
          ]
        }
      ]
    },
    {
      "cell_type": "markdown",
      "source": [
        "# x. Model Inference"
      ],
      "metadata": {
        "id": "mzHnYxyU_a-z"
      }
    },
    {
      "cell_type": "code",
      "source": [
        "data_inf= df.sample(2000, random_state=42)"
      ],
      "metadata": {
        "id": "jdFVCKRUtEh_"
      },
      "execution_count": null,
      "outputs": []
    },
    {
      "cell_type": "code",
      "source": [
        "Xi = data_inf.drop('Churn', axis=1)\n",
        "yi = data_inf['Churn']\n",
        "\n",
        "Xi_train, Xi_test, yi_train, yi_test =   train_test_split(Xi, yi, test_size=0.20, random_state=42)\n",
        "Xi_train, Xi_val, yi_train, yi_val = train_test_split(Xi_train, yi_train, test_size=0.1, random_state=42)"
      ],
      "metadata": {
        "id": "iqeuDMjWuTPY"
      },
      "execution_count": null,
      "outputs": []
    },
    {
      "cell_type": "code",
      "source": [
        "Xi_train = data_pipeline.fit_transform(Xi_train)\n",
        "Xi_val = data_pipeline.transform(Xi_val)\n",
        "Xi_test = data_pipeline.transform(Xi_test)"
      ],
      "metadata": {
        "id": "zvA0kez5uuDS"
      },
      "execution_count": null,
      "outputs": []
    },
    {
      "cell_type": "code",
      "source": [
        "historyi = model.fit(Xi_train, yi_train, epochs=100, validation_data=(Xi_val, yi_val))"
      ],
      "metadata": {
        "colab": {
          "base_uri": "https://localhost:8080/"
        },
        "id": "YmEPVJD9uzhE",
        "outputId": "28e7c6b7-9805-4901-ff7a-5d8d9e1fcf2b"
      },
      "execution_count": null,
      "outputs": [
        {
          "output_type": "stream",
          "name": "stdout",
          "text": [
            "Epoch 1/100\n",
            "45/45 [==============================] - 1s 7ms/step - loss: 0.4689 - accuracy: 0.7646 - val_loss: 0.3510 - val_accuracy: 0.8375\n",
            "Epoch 2/100\n",
            "45/45 [==============================] - 0s 3ms/step - loss: 0.4569 - accuracy: 0.7708 - val_loss: 0.3469 - val_accuracy: 0.8375\n",
            "Epoch 3/100\n",
            "45/45 [==============================] - 0s 4ms/step - loss: 0.4584 - accuracy: 0.7840 - val_loss: 0.3488 - val_accuracy: 0.8375\n",
            "Epoch 4/100\n",
            "45/45 [==============================] - 0s 4ms/step - loss: 0.4569 - accuracy: 0.7667 - val_loss: 0.3491 - val_accuracy: 0.8375\n",
            "Epoch 5/100\n",
            "45/45 [==============================] - 0s 4ms/step - loss: 0.4607 - accuracy: 0.7757 - val_loss: 0.3504 - val_accuracy: 0.8250\n",
            "Epoch 6/100\n",
            "45/45 [==============================] - 0s 4ms/step - loss: 0.4573 - accuracy: 0.7736 - val_loss: 0.3492 - val_accuracy: 0.8313\n",
            "Epoch 7/100\n",
            "45/45 [==============================] - 0s 4ms/step - loss: 0.4565 - accuracy: 0.7757 - val_loss: 0.3487 - val_accuracy: 0.8250\n",
            "Epoch 8/100\n",
            "45/45 [==============================] - 0s 4ms/step - loss: 0.4616 - accuracy: 0.7750 - val_loss: 0.3507 - val_accuracy: 0.8250\n",
            "Epoch 9/100\n",
            "45/45 [==============================] - 0s 4ms/step - loss: 0.4511 - accuracy: 0.7743 - val_loss: 0.3467 - val_accuracy: 0.8313\n",
            "Epoch 10/100\n",
            "45/45 [==============================] - 0s 3ms/step - loss: 0.4520 - accuracy: 0.7840 - val_loss: 0.3466 - val_accuracy: 0.8313\n",
            "Epoch 11/100\n",
            "45/45 [==============================] - 0s 4ms/step - loss: 0.4572 - accuracy: 0.7757 - val_loss: 0.3445 - val_accuracy: 0.8313\n",
            "Epoch 12/100\n",
            "45/45 [==============================] - 0s 4ms/step - loss: 0.4535 - accuracy: 0.7799 - val_loss: 0.3475 - val_accuracy: 0.8313\n",
            "Epoch 13/100\n",
            "45/45 [==============================] - 0s 3ms/step - loss: 0.4525 - accuracy: 0.7743 - val_loss: 0.3509 - val_accuracy: 0.8313\n",
            "Epoch 14/100\n",
            "45/45 [==============================] - 0s 4ms/step - loss: 0.4546 - accuracy: 0.7750 - val_loss: 0.3520 - val_accuracy: 0.8313\n",
            "Epoch 15/100\n",
            "45/45 [==============================] - 0s 4ms/step - loss: 0.4534 - accuracy: 0.7826 - val_loss: 0.3441 - val_accuracy: 0.8313\n",
            "Epoch 16/100\n",
            "45/45 [==============================] - 0s 3ms/step - loss: 0.4532 - accuracy: 0.7799 - val_loss: 0.3507 - val_accuracy: 0.8313\n",
            "Epoch 17/100\n",
            "45/45 [==============================] - 0s 3ms/step - loss: 0.4506 - accuracy: 0.7771 - val_loss: 0.3499 - val_accuracy: 0.8313\n",
            "Epoch 18/100\n",
            "45/45 [==============================] - 0s 4ms/step - loss: 0.4582 - accuracy: 0.7771 - val_loss: 0.3510 - val_accuracy: 0.8313\n",
            "Epoch 19/100\n",
            "45/45 [==============================] - 0s 4ms/step - loss: 0.4510 - accuracy: 0.7826 - val_loss: 0.3444 - val_accuracy: 0.8313\n",
            "Epoch 20/100\n",
            "45/45 [==============================] - 0s 4ms/step - loss: 0.4481 - accuracy: 0.7812 - val_loss: 0.3522 - val_accuracy: 0.8313\n",
            "Epoch 21/100\n",
            "45/45 [==============================] - 0s 4ms/step - loss: 0.4504 - accuracy: 0.7875 - val_loss: 0.3503 - val_accuracy: 0.8313\n",
            "Epoch 22/100\n",
            "45/45 [==============================] - 0s 4ms/step - loss: 0.4513 - accuracy: 0.7799 - val_loss: 0.3483 - val_accuracy: 0.8375\n",
            "Epoch 23/100\n",
            "45/45 [==============================] - 0s 3ms/step - loss: 0.4533 - accuracy: 0.7778 - val_loss: 0.3495 - val_accuracy: 0.8313\n",
            "Epoch 24/100\n",
            "45/45 [==============================] - 0s 3ms/step - loss: 0.4577 - accuracy: 0.7743 - val_loss: 0.3491 - val_accuracy: 0.8375\n",
            "Epoch 25/100\n",
            "45/45 [==============================] - 0s 4ms/step - loss: 0.4458 - accuracy: 0.7854 - val_loss: 0.3447 - val_accuracy: 0.8313\n",
            "Epoch 26/100\n",
            "45/45 [==============================] - 0s 4ms/step - loss: 0.4482 - accuracy: 0.7792 - val_loss: 0.3514 - val_accuracy: 0.8250\n",
            "Epoch 27/100\n",
            "45/45 [==============================] - 0s 4ms/step - loss: 0.4516 - accuracy: 0.7847 - val_loss: 0.3476 - val_accuracy: 0.8375\n",
            "Epoch 28/100\n",
            "45/45 [==============================] - 0s 4ms/step - loss: 0.4505 - accuracy: 0.7722 - val_loss: 0.3484 - val_accuracy: 0.8313\n",
            "Epoch 29/100\n",
            "45/45 [==============================] - 0s 4ms/step - loss: 0.4496 - accuracy: 0.7868 - val_loss: 0.3500 - val_accuracy: 0.8375\n",
            "Epoch 30/100\n",
            "45/45 [==============================] - 0s 3ms/step - loss: 0.4449 - accuracy: 0.7757 - val_loss: 0.3476 - val_accuracy: 0.8313\n",
            "Epoch 31/100\n",
            "45/45 [==============================] - 0s 3ms/step - loss: 0.4507 - accuracy: 0.7840 - val_loss: 0.3480 - val_accuracy: 0.8375\n",
            "Epoch 32/100\n",
            "45/45 [==============================] - 0s 4ms/step - loss: 0.4468 - accuracy: 0.7868 - val_loss: 0.3503 - val_accuracy: 0.8313\n",
            "Epoch 33/100\n",
            "45/45 [==============================] - 0s 4ms/step - loss: 0.4493 - accuracy: 0.7778 - val_loss: 0.3502 - val_accuracy: 0.8313\n",
            "Epoch 34/100\n",
            "45/45 [==============================] - 0s 4ms/step - loss: 0.4478 - accuracy: 0.7875 - val_loss: 0.3453 - val_accuracy: 0.8313\n",
            "Epoch 35/100\n",
            "45/45 [==============================] - 0s 4ms/step - loss: 0.4507 - accuracy: 0.7826 - val_loss: 0.3497 - val_accuracy: 0.8313\n",
            "Epoch 36/100\n",
            "45/45 [==============================] - 0s 4ms/step - loss: 0.4405 - accuracy: 0.7958 - val_loss: 0.3474 - val_accuracy: 0.8313\n",
            "Epoch 37/100\n",
            "45/45 [==============================] - 0s 4ms/step - loss: 0.4440 - accuracy: 0.7854 - val_loss: 0.3442 - val_accuracy: 0.8313\n",
            "Epoch 38/100\n",
            "45/45 [==============================] - 0s 4ms/step - loss: 0.4434 - accuracy: 0.7840 - val_loss: 0.3451 - val_accuracy: 0.8375\n",
            "Epoch 39/100\n",
            "45/45 [==============================] - 0s 4ms/step - loss: 0.4519 - accuracy: 0.7819 - val_loss: 0.3535 - val_accuracy: 0.8375\n",
            "Epoch 40/100\n",
            "45/45 [==============================] - 0s 3ms/step - loss: 0.4511 - accuracy: 0.7847 - val_loss: 0.3512 - val_accuracy: 0.8375\n",
            "Epoch 41/100\n",
            "45/45 [==============================] - 0s 4ms/step - loss: 0.4466 - accuracy: 0.7868 - val_loss: 0.3470 - val_accuracy: 0.8438\n",
            "Epoch 42/100\n",
            "45/45 [==============================] - 0s 4ms/step - loss: 0.4484 - accuracy: 0.7847 - val_loss: 0.3506 - val_accuracy: 0.8313\n",
            "Epoch 43/100\n",
            "45/45 [==============================] - 0s 3ms/step - loss: 0.4464 - accuracy: 0.7847 - val_loss: 0.3458 - val_accuracy: 0.8375\n",
            "Epoch 44/100\n",
            "45/45 [==============================] - 0s 4ms/step - loss: 0.4471 - accuracy: 0.7861 - val_loss: 0.3481 - val_accuracy: 0.8313\n",
            "Epoch 45/100\n",
            "45/45 [==============================] - 0s 4ms/step - loss: 0.4415 - accuracy: 0.7833 - val_loss: 0.3432 - val_accuracy: 0.8375\n",
            "Epoch 46/100\n",
            "45/45 [==============================] - 0s 4ms/step - loss: 0.4361 - accuracy: 0.7826 - val_loss: 0.3443 - val_accuracy: 0.8375\n",
            "Epoch 47/100\n",
            "45/45 [==============================] - 0s 4ms/step - loss: 0.4485 - accuracy: 0.7826 - val_loss: 0.3454 - val_accuracy: 0.8313\n",
            "Epoch 48/100\n",
            "45/45 [==============================] - 0s 4ms/step - loss: 0.4400 - accuracy: 0.7840 - val_loss: 0.3457 - val_accuracy: 0.8375\n",
            "Epoch 49/100\n",
            "45/45 [==============================] - 0s 3ms/step - loss: 0.4389 - accuracy: 0.7826 - val_loss: 0.3393 - val_accuracy: 0.8375\n",
            "Epoch 50/100\n",
            "45/45 [==============================] - 0s 4ms/step - loss: 0.4490 - accuracy: 0.7861 - val_loss: 0.3477 - val_accuracy: 0.8375\n",
            "Epoch 51/100\n",
            "45/45 [==============================] - 0s 3ms/step - loss: 0.4465 - accuracy: 0.7875 - val_loss: 0.3497 - val_accuracy: 0.8375\n",
            "Epoch 52/100\n",
            "45/45 [==============================] - 0s 3ms/step - loss: 0.4481 - accuracy: 0.7792 - val_loss: 0.3466 - val_accuracy: 0.8313\n",
            "Epoch 53/100\n",
            "45/45 [==============================] - 0s 4ms/step - loss: 0.4464 - accuracy: 0.7757 - val_loss: 0.3463 - val_accuracy: 0.8375\n",
            "Epoch 54/100\n",
            "45/45 [==============================] - 0s 3ms/step - loss: 0.4424 - accuracy: 0.7882 - val_loss: 0.3467 - val_accuracy: 0.8313\n",
            "Epoch 55/100\n",
            "45/45 [==============================] - 0s 4ms/step - loss: 0.4448 - accuracy: 0.7903 - val_loss: 0.3507 - val_accuracy: 0.8313\n",
            "Epoch 56/100\n",
            "45/45 [==============================] - 0s 4ms/step - loss: 0.4485 - accuracy: 0.7799 - val_loss: 0.3498 - val_accuracy: 0.8375\n",
            "Epoch 57/100\n",
            "45/45 [==============================] - 0s 4ms/step - loss: 0.4464 - accuracy: 0.7743 - val_loss: 0.3498 - val_accuracy: 0.8313\n",
            "Epoch 58/100\n",
            "45/45 [==============================] - 0s 4ms/step - loss: 0.4458 - accuracy: 0.7819 - val_loss: 0.3485 - val_accuracy: 0.8313\n",
            "Epoch 59/100\n",
            "45/45 [==============================] - 0s 3ms/step - loss: 0.4454 - accuracy: 0.7792 - val_loss: 0.3495 - val_accuracy: 0.8313\n",
            "Epoch 60/100\n",
            "45/45 [==============================] - 0s 3ms/step - loss: 0.4517 - accuracy: 0.7806 - val_loss: 0.3507 - val_accuracy: 0.8375\n",
            "Epoch 61/100\n",
            "45/45 [==============================] - 0s 3ms/step - loss: 0.4435 - accuracy: 0.7910 - val_loss: 0.3469 - val_accuracy: 0.8313\n",
            "Epoch 62/100\n",
            "45/45 [==============================] - 0s 4ms/step - loss: 0.4376 - accuracy: 0.7826 - val_loss: 0.3436 - val_accuracy: 0.8438\n",
            "Epoch 63/100\n",
            "45/45 [==============================] - 0s 3ms/step - loss: 0.4484 - accuracy: 0.7910 - val_loss: 0.3464 - val_accuracy: 0.8375\n",
            "Epoch 64/100\n",
            "45/45 [==============================] - 0s 4ms/step - loss: 0.4435 - accuracy: 0.7819 - val_loss: 0.3468 - val_accuracy: 0.8313\n",
            "Epoch 65/100\n",
            "45/45 [==============================] - 0s 4ms/step - loss: 0.4489 - accuracy: 0.7889 - val_loss: 0.3498 - val_accuracy: 0.8375\n",
            "Epoch 66/100\n",
            "45/45 [==============================] - 0s 3ms/step - loss: 0.4459 - accuracy: 0.7806 - val_loss: 0.3489 - val_accuracy: 0.8375\n",
            "Epoch 67/100\n",
            "45/45 [==============================] - 0s 4ms/step - loss: 0.4437 - accuracy: 0.7819 - val_loss: 0.3443 - val_accuracy: 0.8375\n",
            "Epoch 68/100\n",
            "45/45 [==============================] - 0s 4ms/step - loss: 0.4440 - accuracy: 0.7750 - val_loss: 0.3464 - val_accuracy: 0.8375\n",
            "Epoch 69/100\n",
            "45/45 [==============================] - 0s 4ms/step - loss: 0.4405 - accuracy: 0.7833 - val_loss: 0.3475 - val_accuracy: 0.8250\n",
            "Epoch 70/100\n",
            "45/45 [==============================] - 0s 4ms/step - loss: 0.4458 - accuracy: 0.7826 - val_loss: 0.3486 - val_accuracy: 0.8250\n",
            "Epoch 71/100\n",
            "45/45 [==============================] - 0s 3ms/step - loss: 0.4456 - accuracy: 0.7840 - val_loss: 0.3534 - val_accuracy: 0.8313\n",
            "Epoch 72/100\n",
            "45/45 [==============================] - 0s 4ms/step - loss: 0.4473 - accuracy: 0.7986 - val_loss: 0.3532 - val_accuracy: 0.8250\n",
            "Epoch 73/100\n",
            "45/45 [==============================] - 0s 4ms/step - loss: 0.4477 - accuracy: 0.7750 - val_loss: 0.3518 - val_accuracy: 0.8313\n",
            "Epoch 74/100\n",
            "45/45 [==============================] - 0s 4ms/step - loss: 0.4405 - accuracy: 0.7896 - val_loss: 0.3484 - val_accuracy: 0.8313\n",
            "Epoch 75/100\n",
            "45/45 [==============================] - 0s 4ms/step - loss: 0.4502 - accuracy: 0.7840 - val_loss: 0.3484 - val_accuracy: 0.8375\n",
            "Epoch 76/100\n",
            "45/45 [==============================] - 0s 4ms/step - loss: 0.4493 - accuracy: 0.7736 - val_loss: 0.3495 - val_accuracy: 0.8375\n",
            "Epoch 77/100\n",
            "45/45 [==============================] - 0s 3ms/step - loss: 0.4442 - accuracy: 0.7861 - val_loss: 0.3492 - val_accuracy: 0.8375\n",
            "Epoch 78/100\n",
            "45/45 [==============================] - 0s 4ms/step - loss: 0.4428 - accuracy: 0.7792 - val_loss: 0.3497 - val_accuracy: 0.8313\n",
            "Epoch 79/100\n",
            "45/45 [==============================] - 0s 4ms/step - loss: 0.4491 - accuracy: 0.7806 - val_loss: 0.3484 - val_accuracy: 0.8313\n",
            "Epoch 80/100\n",
            "45/45 [==============================] - 0s 4ms/step - loss: 0.4467 - accuracy: 0.7847 - val_loss: 0.3491 - val_accuracy: 0.8313\n",
            "Epoch 81/100\n",
            "45/45 [==============================] - 0s 4ms/step - loss: 0.4460 - accuracy: 0.7799 - val_loss: 0.3513 - val_accuracy: 0.8250\n",
            "Epoch 82/100\n",
            "45/45 [==============================] - 0s 4ms/step - loss: 0.4428 - accuracy: 0.7875 - val_loss: 0.3471 - val_accuracy: 0.8438\n",
            "Epoch 83/100\n",
            "45/45 [==============================] - 0s 4ms/step - loss: 0.4428 - accuracy: 0.7854 - val_loss: 0.3473 - val_accuracy: 0.8375\n",
            "Epoch 84/100\n",
            "45/45 [==============================] - 0s 4ms/step - loss: 0.4430 - accuracy: 0.7896 - val_loss: 0.3478 - val_accuracy: 0.8375\n",
            "Epoch 85/100\n",
            "45/45 [==============================] - 0s 4ms/step - loss: 0.4434 - accuracy: 0.7826 - val_loss: 0.3446 - val_accuracy: 0.8375\n",
            "Epoch 86/100\n",
            "45/45 [==============================] - 0s 4ms/step - loss: 0.4355 - accuracy: 0.7951 - val_loss: 0.3447 - val_accuracy: 0.8375\n",
            "Epoch 87/100\n",
            "45/45 [==============================] - 0s 4ms/step - loss: 0.4408 - accuracy: 0.7819 - val_loss: 0.3470 - val_accuracy: 0.8250\n",
            "Epoch 88/100\n",
            "45/45 [==============================] - 0s 4ms/step - loss: 0.4452 - accuracy: 0.7785 - val_loss: 0.3495 - val_accuracy: 0.8313\n",
            "Epoch 89/100\n",
            "45/45 [==============================] - 0s 4ms/step - loss: 0.4513 - accuracy: 0.7812 - val_loss: 0.3525 - val_accuracy: 0.8313\n",
            "Epoch 90/100\n",
            "45/45 [==============================] - 0s 4ms/step - loss: 0.4459 - accuracy: 0.7750 - val_loss: 0.3497 - val_accuracy: 0.8375\n",
            "Epoch 91/100\n",
            "45/45 [==============================] - 0s 4ms/step - loss: 0.4422 - accuracy: 0.7847 - val_loss: 0.3505 - val_accuracy: 0.8313\n",
            "Epoch 92/100\n",
            "45/45 [==============================] - 0s 4ms/step - loss: 0.4404 - accuracy: 0.7965 - val_loss: 0.3485 - val_accuracy: 0.8375\n",
            "Epoch 93/100\n",
            "45/45 [==============================] - 0s 4ms/step - loss: 0.4389 - accuracy: 0.7910 - val_loss: 0.3484 - val_accuracy: 0.8438\n",
            "Epoch 94/100\n",
            "45/45 [==============================] - 0s 4ms/step - loss: 0.4456 - accuracy: 0.7847 - val_loss: 0.3559 - val_accuracy: 0.8375\n",
            "Epoch 95/100\n",
            "45/45 [==============================] - 0s 4ms/step - loss: 0.4412 - accuracy: 0.7833 - val_loss: 0.3529 - val_accuracy: 0.8250\n",
            "Epoch 96/100\n",
            "45/45 [==============================] - 0s 4ms/step - loss: 0.4418 - accuracy: 0.7799 - val_loss: 0.3516 - val_accuracy: 0.8188\n",
            "Epoch 97/100\n",
            "45/45 [==============================] - 0s 4ms/step - loss: 0.4332 - accuracy: 0.7854 - val_loss: 0.3476 - val_accuracy: 0.8313\n",
            "Epoch 98/100\n",
            "45/45 [==============================] - 0s 4ms/step - loss: 0.4414 - accuracy: 0.7847 - val_loss: 0.3534 - val_accuracy: 0.8250\n",
            "Epoch 99/100\n",
            "45/45 [==============================] - 0s 4ms/step - loss: 0.4394 - accuracy: 0.7861 - val_loss: 0.3479 - val_accuracy: 0.8250\n",
            "Epoch 100/100\n",
            "45/45 [==============================] - 0s 4ms/step - loss: 0.4387 - accuracy: 0.7778 - val_loss: 0.3485 - val_accuracy: 0.8250\n"
          ]
        }
      ]
    },
    {
      "cell_type": "code",
      "source": [
        "yi_pred = model.predict(Xi_test)\n",
        "yi_pred = np.where(yi_pred >= 0.5, 1, 0)\n",
        "print(classification_report(yi_test, yi_pred))"
      ],
      "metadata": {
        "colab": {
          "base_uri": "https://localhost:8080/"
        },
        "id": "1uvHOYYAvThN",
        "outputId": "de8b8217-c39f-4f22-9da6-ec1df0e4df40"
      },
      "execution_count": null,
      "outputs": [
        {
          "output_type": "stream",
          "name": "stdout",
          "text": [
            "              precision    recall  f1-score   support\n",
            "\n",
            "           0       0.85      0.89      0.87       300\n",
            "           1       0.61      0.53      0.57       100\n",
            "\n",
            "    accuracy                           0.80       400\n",
            "   macro avg       0.73      0.71      0.72       400\n",
            "weighted avg       0.79      0.80      0.79       400\n",
            "\n"
          ]
        }
      ]
    },
    {
      "cell_type": "markdown",
      "source": [
        "# xi. Pengambilan Keputusan\n",
        "Dengan evaluasi kalau tingkat akurasi terhadap customer yang tidak Churn lebih tinggi yaitu >80% dengan model ini saya dapat meyakinkan ke perusahaan Telcom bahwa bisnis yang dijalankan perusahaan cukup sustainable namun perlu digaris bawahi kalau hal tersebut dengan asumsi naive kalau potensi customer untuk churn atau berhenti berlangganan cukup kecil. \n",
        "\n",
        "Perusahaan perlu mencari tahu apa yang menyebabkan customer lansia atau senior berhenti berlangganan pada tahun itu terutama oleh segmen yang menggunakan fiber optic, apakah ada perubahan kualitas layanan, kurangnya sosialisasi produk, atau apakah ada hal lain yang menyebabkan customer lansia berhenti berlangganan, mungkin juga dapat disebabkan oleh kurangnya kesadaran customer terhadap keamanan hardware maupun jaringan"
      ],
      "metadata": {
        "id": "aio9cHT__dx8"
      }
    },
    {
      "cell_type": "markdown",
      "source": [
        "# Referensi:\n",
        "* https://www.kaggle.com/code/mragpavank/predicting-customer-churn-for-a-telecom-company#Building-the-ANN-Model\n",
        "* https://colab.research.google.com/drive/1lKpwI0-NW22KhgummSVdHIVfHt2N0MOK?usp=sharing#scrollTo=bWeJM4i35kAD\n",
        "* https://www.tensorflow.org/\n",
        "* https://datascience.stackexchange.com/questions/37378/what-are-kernel-initializers-and-what-is-their-significance\n",
        "* https://www.kaggle.com/code/anuragupadhyay6212/customer-churn-prediction-with-keras-tuner#Keras-Tuner\n",
        "* https://www.analyticsvidhya.com/blog/2021/07/understanding-sequential-vs-functional-api-in-keras/\n",
        "\n"
      ],
      "metadata": {
        "id": "Sum37G3VXqr8"
      }
    }
  ]
}