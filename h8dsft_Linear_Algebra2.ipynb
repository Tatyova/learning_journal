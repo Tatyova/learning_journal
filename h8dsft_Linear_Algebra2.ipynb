{
  "nbformat": 4,
  "nbformat_minor": 0,
  "metadata": {
    "colab": {
      "name": "h8dsft_Linear_Algebra2.ipynb",
      "provenance": []
    },
    "kernelspec": {
      "name": "python3",
      "display_name": "Python 3"
    },
    "language_info": {
      "name": "python"
    }
  },
  "cells": [
    {
      "cell_type": "code",
      "execution_count": 2,
      "metadata": {
        "id": "dBtKTYsofg50"
      },
      "outputs": [],
      "source": [
        "import numpy as np"
      ]
    },
    {
      "cell_type": "code",
      "source": [
        "from numpy.core.fromnumeric import take\n",
        "#membuat tensor \n",
        "from numpy import array\n",
        "t = array ([\n",
        "            [[23,50], [7,12], [75,21], [57,12]],\n",
        "            [[57,67], [99,43], [87,26], [18,84]]\n",
        "])\n",
        "print(t.shape)\n",
        "t"
      ],
      "metadata": {
        "colab": {
          "base_uri": "https://localhost:8080/"
        },
        "id": "11f3wq5pTNHu",
        "outputId": "da9b2d2c-22f4-4ae1-cf82-4fd5aee77bdb"
      },
      "execution_count": 34,
      "outputs": [
        {
          "output_type": "stream",
          "name": "stdout",
          "text": [
            "(2, 4, 2)\n"
          ]
        },
        {
          "output_type": "execute_result",
          "data": {
            "text/plain": [
              "array([[[23, 50],\n",
              "        [ 7, 12],\n",
              "        [75, 21],\n",
              "        [57, 12]],\n",
              "\n",
              "       [[57, 67],\n",
              "        [99, 43],\n",
              "        [87, 26],\n",
              "        [18, 84]]])"
            ]
          },
          "metadata": {},
          "execution_count": 34
        }
      ]
    },
    {
      "cell_type": "code",
      "source": [
        "A = array ([\n",
        "            [23, 50, 19],\n",
        "            [7, 12, 109],\n",
        "            [57, 67, 98]\n",
        "])\n",
        "print(A.shape)\n",
        "A"
      ],
      "metadata": {
        "colab": {
          "base_uri": "https://localhost:8080/"
        },
        "id": "J1J7xeNeYZ-m",
        "outputId": "905e71e3-b3c3-439c-f5d2-30b26b94dd14"
      },
      "execution_count": 41,
      "outputs": [
        {
          "output_type": "stream",
          "name": "stdout",
          "text": [
            "(3, 3)\n"
          ]
        },
        {
          "output_type": "execute_result",
          "data": {
            "text/plain": [
              "array([[ 23,  50,  19],\n",
              "       [  7,  12, 109],\n",
              "       [ 57,  67,  98]])"
            ]
          },
          "metadata": {},
          "execution_count": 41
        }
      ]
    },
    {
      "cell_type": "code",
      "source": [
        "B = array ([\n",
        "            [17], \n",
        "            [22],\n",
        "            [19]\n",
        "])\n",
        "print(B.shape)\n",
        "B"
      ],
      "metadata": {
        "colab": {
          "base_uri": "https://localhost:8080/"
        },
        "id": "geeByGs9Y_i1",
        "outputId": "4d371519-17c9-4bd2-dfb5-fe5722f7a45a"
      },
      "execution_count": 24,
      "outputs": [
        {
          "output_type": "stream",
          "name": "stdout",
          "text": [
            "(3, 1)\n"
          ]
        },
        {
          "output_type": "execute_result",
          "data": {
            "text/plain": [
              "array([[17],\n",
              "       [22],\n",
              "       [19]])"
            ]
          },
          "metadata": {},
          "execution_count": 24
        }
      ]
    },
    {
      "cell_type": "code",
      "source": [
        "#perkalian antara 2 A dot B karena aturan perkalian antara 2 vector sudah terpenuhi maka perkalian bisa berlangsung\n",
        "A @ B"
      ],
      "metadata": {
        "colab": {
          "base_uri": "https://localhost:8080/"
        },
        "id": "k7y0_z3wZu1d",
        "outputId": "8c6e7de4-7b62-47de-dae2-8241726fb40e"
      },
      "execution_count": 25,
      "outputs": [
        {
          "output_type": "execute_result",
          "data": {
            "text/plain": [
              "array([[1852],\n",
              "       [2454],\n",
              "       [4305]])"
            ]
          },
          "metadata": {},
          "execution_count": 25
        }
      ]
    },
    {
      "cell_type": "code",
      "source": [
        "#transpose A\n",
        "from numpy import array\n",
        "transposeA = A.T\n",
        "print(transposeA)"
      ],
      "metadata": {
        "colab": {
          "base_uri": "https://localhost:8080/"
        },
        "id": "XpOwINlcvKmK",
        "outputId": "260480b0-95e4-4b8f-8366-b6b37fd5503c"
      },
      "execution_count": 35,
      "outputs": [
        {
          "output_type": "stream",
          "name": "stdout",
          "text": [
            "[[ 23   7  57]\n",
            " [ 50  12  67]\n",
            " [ 19 109  98]]\n"
          ]
        }
      ]
    },
    {
      "cell_type": "code",
      "source": [
        "#determinan A\n",
        "from numpy import array\n",
        "from numpy.linalg import det\n",
        "A = array ([\n",
        "            [23, 50, 19],\n",
        "            [7, 12, 109],\n",
        "            [57, 67, 98]\n",
        "])\n",
        "D = det(A)\n",
        "print(D)"
      ],
      "metadata": {
        "colab": {
          "base_uri": "https://localhost:8080/"
        },
        "id": "MdxAlhKjvNX8",
        "outputId": "0264fe64-a7ba-4508-ba06-ef5efaaccb8e"
      },
      "execution_count": 42,
      "outputs": [
        {
          "output_type": "stream",
          "name": "stdout",
          "text": [
            "131344.0000000002\n"
          ]
        }
      ]
    },
    {
      "cell_type": "code",
      "source": [
        "#inverse A\n",
        "from numpy import array\n",
        "from numpy.linalg import inv\n",
        "A = array ([\n",
        "            [23, 50, 19],\n",
        "            [7, 12, 109],\n",
        "            [57, 67, 98]\n",
        "])\n",
        "E = inv(A)\n",
        "print(E)\n",
        "\n"
      ],
      "metadata": {
        "colab": {
          "base_uri": "https://localhost:8080/"
        },
        "id": "w_mh-bPYvQb6",
        "outputId": "41943b7a-ef4c-4ba8-9524-086fea79481f"
      },
      "execution_count": 43,
      "outputs": [
        {
          "output_type": "stream",
          "name": "stdout",
          "text": [
            "[[-0.0466485  -0.02761451  0.03975819]\n",
            " [ 0.04208034  0.00891552 -0.01807467]\n",
            " [-0.00163692  0.0099662  -0.00056341]]\n"
          ]
        }
      ]
    }
  ]
}